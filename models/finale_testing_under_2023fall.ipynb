{
  "nbformat": 4,
  "nbformat_minor": 0,
  "metadata": {
    "colab": {
      "provenance": [],
      "gpuType": "T4"
    },
    "kernelspec": {
      "name": "python3",
      "display_name": "Python 3"
    },
    "language_info": {
      "name": "python"
    },
    "accelerator": "GPU"
  },
  "cells": [
    {
      "cell_type": "code",
      "execution_count": null,
      "metadata": {
        "id": "hnEBPPZUTZi1"
      },
      "outputs": [],
      "source": [
        "#importing all the necessary libraries\n",
        "import torch\n",
        "import torch.nn as nn\n",
        "import torch.functional as F\n",
        "import pandas as pd\n",
        "import numpy as np\n",
        "import sys\n",
        "import matplotlib.pyplot as plt\n",
        "%matplotlib inline\n",
        "from sklearn.metrics import accuracy_score\n",
        "from sklearn.metrics import confusion_matrix\n",
        "from sklearn.metrics import precision_score\n",
        "from sklearn.metrics import f1_score\n",
        "from sklearn.metrics import matthews_corrcoef\n",
        "from sklearn.metrics import roc_auc_score\n",
        "from sklearn.model_selection import train_test_split\n",
        "from sklearn.utils.class_weight import compute_class_weight"
      ]
    },
    {
      "cell_type": "code",
      "source": [
        "from torch.utils.data import DataLoader,TensorDataset, random_split, WeightedRandomSampler\n",
        "import torch.optim as optim\n",
        "from torchsummary import summary"
      ],
      "metadata": {
        "id": "XkTTd7zxTbdh"
      },
      "execution_count": 3,
      "outputs": []
    },
    {
      "cell_type": "code",
      "source": [
        "data=pd.read_excel('pre-processed-data_college_code.xlsx')"
      ],
      "metadata": {
        "id": "o5T60AAYTfS2"
      },
      "execution_count": 4,
      "outputs": []
    },
    {
      "cell_type": "code",
      "source": [
        "data.columns"
      ],
      "metadata": {
        "colab": {
          "base_uri": "https://localhost:8080/"
        },
        "id": "DE5oJNhUUV_0",
        "outputId": "4df08d65-85ce-4545-c332-6902ee4ec99f"
      },
      "execution_count": 23,
      "outputs": [
        {
          "output_type": "execute_result",
          "data": {
            "text/plain": [
              "Index(['Application Major', 'Scholarship_Awarded', 'Application CGPA',\n",
              "       'FAFSA Filed', 'High School Code', 'Financial Aid Appeal',\n",
              "       'Accepted Student Day Event Attended', 'Campus Visits - Person',\n",
              "       'Campus Visits - App', 'Logins Before Admit', 'Acceptance Call Success',\n",
              "       'Application Consider Test Scores', 'Application ACRK',\n",
              "       'Waitlist Confirmed Date', 'Emails Sent', 'Emails Opened',\n",
              "       'Was Inquiry', 'Athlete', 'admitted', 'Address 1 Region_Midwest',\n",
              "       'Address 1 Region_Military', 'Address 1 Region_Northeast',\n",
              "       'Address 1 Region_South', 'Address 1 Region_Southwest',\n",
              "       'Address 1 Region_Territory', 'Address 1 Region_West',\n",
              "       'Application Housing_Commuter', 'Application Housing_Residential',\n",
              "       'Application Enroll Status_Full Time',\n",
              "       'Application Enroll Status_Part Time', 'Person Sex_F', 'Person Sex_M',\n",
              "       'Person Sex_Unknown', 'High School Region_Midwest',\n",
              "       'High School Region_Military', 'High School Region_Northeast',\n",
              "       'High School Region_South', 'High School Region_Southwest',\n",
              "       'High School Region_Territory', 'High School Region_West',\n",
              "       'Application Span', 'Admission Span', 'Application College_00',\n",
              "       'Application College_CAS', 'Application College_COB',\n",
              "       'Application College_HCLC', 'Application College_ID',\n",
              "       'Application College_SHS', 'Application College_TCOE'],\n",
              "      dtype='object')"
            ]
          },
          "metadata": {},
          "execution_count": 23
        }
      ]
    },
    {
      "cell_type": "code",
      "source": [
        "inputs=data.drop(['admitted'],axis=1).to_numpy()\n",
        "labels=data['admitted'].to_numpy()"
      ],
      "metadata": {
        "id": "D8_Fp507TiCb"
      },
      "execution_count": 6,
      "outputs": []
    },
    {
      "cell_type": "code",
      "source": [
        "inputs.shape[1]"
      ],
      "metadata": {
        "colab": {
          "base_uri": "https://localhost:8080/"
        },
        "id": "wvzQOOIoUL8t",
        "outputId": "79652a64-3548-448c-f8a5-f4fe82ef503f"
      },
      "execution_count": 7,
      "outputs": [
        {
          "output_type": "execute_result",
          "data": {
            "text/plain": [
              "48"
            ]
          },
          "metadata": {},
          "execution_count": 7
        }
      ]
    },
    {
      "cell_type": "code",
      "source": [
        "input_embedding_dimension=len(set(inputs[:,0]))\n",
        "input_embedding_dimension"
      ],
      "metadata": {
        "colab": {
          "base_uri": "https://localhost:8080/"
        },
        "id": "V2yZepbGTjk9",
        "outputId": "69a72ffd-14ba-4d66-9a59-7f759e9d7e8d"
      },
      "execution_count": 8,
      "outputs": [
        {
          "output_type": "execute_result",
          "data": {
            "text/plain": [
              "102"
            ]
          },
          "metadata": {},
          "execution_count": 8
        }
      ]
    },
    {
      "cell_type": "code",
      "source": [
        "train_inputs, test_inputs, train_labels, test_labels = train_test_split(\n",
        "    inputs, labels, test_size=0.2, random_state=42, stratify=labels\n",
        ")\n",
        "# Convert to PyTorch tensors only once\n",
        "train_inputs = torch.from_numpy(train_inputs).float()\n",
        "test_inputs = torch.from_numpy(test_inputs).float()\n",
        "train_labels = torch.from_numpy(train_labels).int()\n",
        "test_labels = torch.from_numpy(test_labels).int()"
      ],
      "metadata": {
        "id": "Suk-16kUTlMn"
      },
      "execution_count": 9,
      "outputs": []
    },
    {
      "cell_type": "code",
      "source": [
        "#The TensorDataset class in PyTorch is a utility class that is used to wrap data tensors (such as features and labels)\n",
        "#This class is particularly useful when you want to work with datasets where features and labels are already stored as tensors.\n",
        "train_dataset = TensorDataset(train_inputs, train_labels)\n",
        "test_dataset = TensorDataset(test_inputs, test_labels)\n",
        "train_loader = DataLoader(train_dataset, batch_size=64, shuffle=True)\n",
        "test_loader = DataLoader(test_dataset, batch_size=64, shuffle=False)"
      ],
      "metadata": {
        "id": "5XJx6BjfTnc0"
      },
      "execution_count": 10,
      "outputs": []
    },
    {
      "cell_type": "code",
      "source": [
        "print(\"Checking train_inputs for NaN:\", torch.any(torch.isnan(train_inputs)))\n",
        "print(\"Checking train_inputs for Inf:\", torch.any(torch.isinf(train_inputs)))\n",
        "print(\"Checking train_labels for NaN:\", torch.any(torch.isnan(train_labels)))\n",
        "print(\"Checking train_labels for Inf:\", torch.any(torch.isinf(train_labels)))"
      ],
      "metadata": {
        "colab": {
          "base_uri": "https://localhost:8080/"
        },
        "id": "CXzeC95STn48",
        "outputId": "b2731be7-2bd3-4ca9-8428-59e0973ebf02"
      },
      "execution_count": 11,
      "outputs": [
        {
          "output_type": "stream",
          "name": "stdout",
          "text": [
            "Checking train_inputs for NaN: tensor(False)\n",
            "Checking train_inputs for Inf: tensor(False)\n",
            "Checking train_labels for NaN: tensor(False)\n",
            "Checking train_labels for Inf: tensor(False)\n"
          ]
        }
      ]
    },
    {
      "cell_type": "code",
      "source": [
        "import torch\n",
        "import torch.nn as nn\n",
        "import torch.nn.functional as F\n",
        "import torch.optim as optim\n",
        "from sklearn.metrics import accuracy_score, precision_score, recall_score, f1_score, roc_auc_score\n",
        "\n",
        "class NeuralNetwork(nn.Module):\n",
        "    def __init__(self, i, h_size, h_next_size, h_next_next_size=19, n_classes=2,\n",
        "                 how_many_layers=4, embedding_dim=12,hs_embedding_dim=50):\n",
        "        super(NeuralNetwork, self).__init__()\n",
        "\n",
        "        features = i.shape[1]  # Total number of input features\n",
        "\n",
        "        self.major_embedding = nn.Embedding(input_embedding_dimension, embedding_dim)\n",
        "\n",
        "        #embedding layer for the high school codes\n",
        "        self.hs_embedding=nn.Embedding(len(set(inputs[:,4])),hs_embedding_dim)\n",
        "\n",
        "        # Input to fc1 will be (features - 2) continuous + embedding_dim\n",
        "        self.fc1 = nn.Linear(features - 2 + embedding_dim + hs_embedding_dim, h_size)\n",
        "        self.layers = how_many_layers\n",
        "\n",
        "        if self.layers == 2:\n",
        "            self.fc2 = nn.Linear(h_size, n_classes)\n",
        "        elif self.layers == 3:\n",
        "            self.fc3 = nn.Linear(h_size, h_next_size)\n",
        "            self.fc4 = nn.Linear(h_next_size, n_classes)\n",
        "        elif self.layers == 4:\n",
        "            self.fc3 = nn.Linear(h_size, h_next_size)\n",
        "            self.fc4 = nn.Linear(h_next_size, h_next_next_size)\n",
        "            self.fc5 = nn.Linear(h_next_next_size, n_classes)\n",
        "\n",
        "    def forward(self, X):\n",
        "        # Ensure input is float and extract categorical/continuous features\n",
        "        categorical_input = X[:, 0].long()  # First column: categorical (encoded)\n",
        "        hs_input = X[:, 4].long()\n",
        "\n",
        "        #continuous_input = X[:, 1:].float() # Rest: continuous features\n",
        "        continuous_indices = [i for i in range(X.shape[1]) if i not in [0, 4]]\n",
        "        continuous_input = X[:, continuous_indices].float()\n",
        "\n",
        "        # Apply embedding\n",
        "        embedded = self.major_embedding(categorical_input)  # Shape: [batch_size, embedding_dim]\n",
        "        hs_embedded = self.hs_embedding(hs_input)\n",
        "\n",
        "        # Concatenate with continuous features\n",
        "        X = torch.cat((embedded,hs_embedded, continuous_input), dim=1)  # Shape: [batch_size, embedding_dim + (features-1)]\n",
        "\n",
        "        if self.layers == 2:\n",
        "            X = F.relu(self.fc1(X))\n",
        "            X = self.fc2(X)\n",
        "        elif self.layers == 3:\n",
        "            X = F.relu(self.fc1(X))\n",
        "            X = F.relu(self.fc3(X))\n",
        "            X = self.fc4(X)\n",
        "        elif self.layers == 4:\n",
        "            X = F.relu(self.fc1(X))\n",
        "            X = torch.tanh(self.fc3(X))\n",
        "            X = F.sigmoid(self.fc4(X))\n",
        "            X = self.fc5(X)\n",
        "\n",
        "        return X\n",
        "\n",
        "\n",
        "net = NeuralNetwork(inputs, h_size=27, h_next_size=22, how_many_layers=4)\n",
        "print(f\"Expected input features to fc1: {train_inputs.shape[1] - 1 + 8}\")  # Debug print\n",
        "print(f\"fc1 weight shape: {net.fc1.weight.shape}\")  # Debug printn_epochs = 600\n",
        "\n",
        "\n",
        "n_epochs = 600\n",
        "learning_rate = 0.001\n",
        "decay_rate = learning_rate / n_epochs\n",
        "optimizer = optim.Adam(net.parameters(), lr=learning_rate, weight_decay=decay_rate)\n",
        "lambda_reg = 0.01\n",
        "lambda_entropy = 0\n",
        "\n",
        "\n",
        "def loss_fn(model, outputs, targets):\n",
        "    # Convert labels to numpy\n",
        "    y_train = train_labels.numpy()\n",
        "\n",
        "    # Compute class weights\n",
        "    class_weights = compute_class_weight(class_weight=\"balanced\", classes=np.unique(y_train), y=y_train)\n",
        "\n",
        "    # Convert to PyTorch tensor\n",
        "    class_weights_tensor = torch.tensor(class_weights, dtype=torch.float32)\n",
        "\n",
        "    cross_entropy = nn.functional.cross_entropy(outputs, targets,weight=class_weights_tensor)\n",
        "    l2_regularization = 0\n",
        "    entropy_regularization = 0\n",
        "\n",
        "    for param in model.parameters():\n",
        "        l2_regularization += torch.norm(param, p=2) ** 2\n",
        "        entropy_regularization += torch.mean(torch.sum(-outputs * torch.log(outputs), dim=1))\n",
        "\n",
        "    loss = cross_entropy + lambda_reg * l2_regularization\n",
        "    return loss\n",
        "\n",
        "def test_instance(model):\n",
        "    y_t = []\n",
        "    y_s = []\n",
        "    loss = 0\n",
        "    acc = 0\n",
        "\n",
        "    with torch.no_grad():\n",
        "        for inputs, labels in test_loader:\n",
        "            outputs = model(inputs)\n",
        "            loss += loss_fn(model, outputs, labels.long())\n",
        "            y_t.extend(labels.numpy().astype('int'))\n",
        "            y_s.extend(torch.sigmoid(outputs).max(axis=1).indices.numpy())\n",
        "\n",
        "    acc = accuracy_score(y_t, y_s)\n",
        "    return loss, acc\n",
        "\n",
        "iteration = 0\n",
        "counter = 0\n",
        "\n",
        "for epoch in range(n_epochs):\n",
        "    running_loss = 0.0\n",
        "    total = 0  # No. of total predictions\n",
        "    correct = 0  # No. of correct predictions\n",
        "\n",
        "    for i, (inputs, labels) in enumerate(train_loader):\n",
        "        optimizer.zero_grad()\n",
        "        outputs = net(inputs)\n",
        "        loss = loss_fn(net, outputs, labels.long())\n",
        "        loss.backward()\n",
        "        optimizer.step()\n",
        "\n",
        "        running_loss += loss.item() * inputs.size(0)\n",
        "        _, predicted = torch.max(outputs.data, 1)\n",
        "        total += labels.size(0)\n",
        "        correct += (predicted == labels).sum().item()\n",
        "    epoch_loss = running_loss / len(train_loader.dataset)  # Loss in every epoch\n",
        "    epoch_acc = correct / total  # Accuracy for every epoch\n",
        "\n",
        "    if epoch % 10 == 0 or epoch == n_epochs - 1:\n",
        "        print(f'Epoch: {epoch + 1}/{n_epochs} | pLoss: {running_loss / len(inputs)} | Accuracy: {epoch_acc} | Loss: {epoch_loss}')\n",
        "\n",
        "    if epoch % 50 == 0:\n",
        "        test_loss, test_acc = test_instance(net)\n",
        "        print(f'Epoch: {epoch + 1} | The test data Accuracy = {test_acc} | Test Loss = {test_loss}')\n",
        "\n",
        "        if counter < test_acc:\n",
        "            save_net = net\n",
        "            counter = test_acc\n",
        "\n",
        "y_true = []\n",
        "y_scores = []\n",
        "test_loss = 0\n",
        "\n",
        "with torch.no_grad():\n",
        "    for inputs, labels in test_loader:\n",
        "        outputs = save_net(inputs)\n",
        "        test_loss += loss_fn(net, outputs, labels.long())\n",
        "        y_true.extend(labels.numpy().astype('int'))\n",
        "        y_scores.extend(torch.sigmoid(outputs).max(axis=1).indices.numpy())\n",
        "\n",
        "\n",
        "accuracy = accuracy_score(y_true, y_scores)\n",
        "precision = precision_score(y_true, y_scores)\n",
        "recall = recall_score(y_true, y_scores)\n",
        "f1_val = f1_score(y_true, y_scores)\n",
        "auc_roc = roc_auc_score(y_true, y_scores)\n",
        "\n",
        "print('Accuracy: {:.4f}'.format(accuracy))\n",
        "print('Precision: {:.4f}'.format(precision))\n",
        "print('Recall: {:.4f}'.format(recall))\n",
        "print('F1 Score: {:.4f}'.format(f1_val))\n",
        "print('AUROC Score: {:.4f}'.format(auc_roc))\n"
      ],
      "metadata": {
        "colab": {
          "base_uri": "https://localhost:8080/"
        },
        "id": "GVqpONV1Tpeg",
        "outputId": "7e5e43fd-f773-466c-c8d3-aecf2746de8e"
      },
      "execution_count": 12,
      "outputs": [
        {
          "output_type": "stream",
          "name": "stdout",
          "text": [
            "Expected input features to fc1: 55\n",
            "fc1 weight shape: torch.Size([27, 108])\n",
            "Epoch: 1/600 | pLoss: 722764.7288547092 | Accuracy: 0.8867747972551466 | Loss: 1352.6476522546025\n",
            "Epoch: 1 | The test data Accuracy = 0.9480249480249481 | Test Loss = 45436.92578125\n",
            "Epoch: 11/600 | pLoss: 68377.40554385715 | Accuracy: 0.9482220835932627 | Loss: 127.96769596479817\n",
            "Epoch: 21/600 | pLoss: 4911.699605729845 | Accuracy: 0.9497816593886463 | Loss: 9.192201383150053\n",
            "Epoch: 31/600 | pLoss: 298.07847877343494 | Accuracy: 0.9499896028280308 | Loss: 0.5578511767437959\n",
            "Epoch: 41/600 | pLoss: 121.76675618025992 | Accuracy: 0.9497816593886463 | Loss: 0.22788538274533984\n",
            "Epoch: 51/600 | pLoss: 120.67561165160603 | Accuracy: 0.9493657725098773 | Loss: 0.22584331562995513\n",
            "Epoch: 51 | The test data Accuracy = 0.9488565488565489 | Test Loss = 8.257411003112793\n",
            "Epoch: 61/600 | pLoss: 120.3889018562105 | Accuracy: 0.9480141401538782 | Loss: 0.22530674084131722\n",
            "Epoch: 71/600 | pLoss: 119.87622505591975 | Accuracy: 0.9507174048658765 | Loss: 0.2243472708470114\n",
            "Epoch: 81/600 | pLoss: 119.77834101517995 | Accuracy: 0.949677687668954 | Loss: 0.22416408175018082\n",
            "Epoch: 91/600 | pLoss: 119.32597698271275 | Accuracy: 0.9475982532751092 | Loss: 0.2233174865552952\n",
            "Epoch: 101/600 | pLoss: 118.65672576261892 | Accuracy: 0.950093574547723 | Loss: 0.22206498895062804\n",
            "Epoch: 101 | The test data Accuracy = 0.9501039501039501 | Test Loss = 8.230185508728027\n",
            "Epoch: 111/600 | pLoss: 117.99643423159917 | Accuracy: 0.9503015179871075 | Loss: 0.22082925932301778\n",
            "Epoch: 121/600 | pLoss: 118.61731043457985 | Accuracy: 0.9512372634643377 | Loss: 0.22199122352073583\n",
            "Epoch: 131/600 | pLoss: 118.38450106316142 | Accuracy: 0.9495737159492618 | Loss: 0.22155552288801264\n",
            "Epoch: 141/600 | pLoss: 118.1380055281851 | Accuracy: 0.9513412351840299 | Loss: 0.22109420872398958\n",
            "Epoch: 151/600 | pLoss: 118.01033139559958 | Accuracy: 0.9533166978581826 | Loss: 0.2208552677397372\n",
            "Epoch: 151 | The test data Accuracy = 0.9459459459459459 | Test Loss = 8.213823318481445\n",
            "Epoch: 161/600 | pLoss: 119.03380041900608 | Accuracy: 0.9523809523809523 | Loss: 0.22277068075921289\n",
            "Epoch: 171/600 | pLoss: 118.76077021492853 | Accuracy: 0.9506134331461842 | Loss: 0.22225970720198726\n",
            "Epoch: 181/600 | pLoss: 118.8057047277689 | Accuracy: 0.9511332917446454 | Loss: 0.2223438017363111\n",
            "Epoch: 191/600 | pLoss: 117.69490237865183 | Accuracy: 0.9510293200249532 | Loss: 0.22026494518774517\n",
            "Epoch: 201/600 | pLoss: 118.69571474525664 | Accuracy: 0.9511332917446454 | Loss: 0.22213795647895815\n",
            "Epoch: 201 | The test data Accuracy = 0.9550935550935551 | Test Loss = 8.174320220947266\n",
            "Epoch: 211/600 | pLoss: 119.00056788987584 | Accuracy: 0.9517571220627989 | Loss: 0.22270848638155177\n",
            "Epoch: 221/600 | pLoss: 118.28771188524034 | Accuracy: 0.9525888958203369 | Loss: 0.2213743828170437\n",
            "Epoch: 231/600 | pLoss: 117.63451548748546 | Accuracy: 0.9513412351840299 | Loss: 0.22015193166715932\n",
            "Epoch: 241/600 | pLoss: 119.40099132061005 | Accuracy: 0.9514452069037221 | Loss: 0.22345787521012486\n",
            "Epoch: 251/600 | pLoss: 118.10867262217734 | Accuracy: 0.9529008109794136 | Loss: 0.22103931245572803\n",
            "Epoch: 251 | The test data Accuracy = 0.9484407484407484 | Test Loss = 8.215072631835938\n",
            "Epoch: 261/600 | pLoss: 118.79015491074986 | Accuracy: 0.9520690372218756 | Loss: 0.22231470039441645\n",
            "Epoch: 271/600 | pLoss: 117.84045090940263 | Accuracy: 0.950093574547723 | Loss: 0.22053733794648028\n",
            "Epoch: 281/600 | pLoss: 118.68382480078273 | Accuracy: 0.9511332917446454 | Loss: 0.2221157045554262\n",
            "Epoch: 291/600 | pLoss: 118.46702575186889 | Accuracy: 0.9523809523809523 | Loss: 0.22170996709644833\n",
            "Epoch: 301/600 | pLoss: 116.97547467880779 | Accuracy: 0.9518610937824912 | Loss: 0.21891854275509878\n",
            "Epoch: 301 | The test data Accuracy = 0.9480249480249481 | Test Loss = 8.125494003295898\n",
            "Epoch: 311/600 | pLoss: 119.10087976190779 | Accuracy: 0.9501975462674153 | Loss: 0.22289621914268457\n",
            "Epoch: 321/600 | pLoss: 118.70134538577662 | Accuracy: 0.9514452069037221 | Loss: 0.22214849417175914\n",
            "Epoch: 331/600 | pLoss: 117.26072100467152 | Accuracy: 0.9522769806612601 | Loss: 0.21945237867374584\n",
            "Epoch: 341/600 | pLoss: 119.0053816470835 | Accuracy: 0.9506134331461842 | Loss: 0.2227174952846229\n",
            "Epoch: 351/600 | pLoss: 117.84666719701555 | Accuracy: 0.9516531503431067 | Loss: 0.2205489716725182\n",
            "Epoch: 351 | The test data Accuracy = 0.9430353430353431 | Test Loss = 8.203476905822754\n",
            "Epoch: 361/600 | pLoss: 117.92567309902773 | Accuracy: 0.9530047826991058 | Loss: 0.220696830503483\n",
            "Epoch: 371/600 | pLoss: 118.7390654484431 | Accuracy: 0.9507174048658765 | Loss: 0.2222190869278411\n",
            "Epoch: 381/600 | pLoss: 118.28571192257934 | Accuracy: 0.9518610937824912 | Loss: 0.22137063990501438\n",
            "Epoch: 391/600 | pLoss: 117.469460543659 | Accuracy: 0.9507174048658765 | Loss: 0.21984303283279913\n",
            "Epoch: 401/600 | pLoss: 117.63361372715897 | Accuracy: 0.9511332917446454 | Loss: 0.2201502440308652\n",
            "Epoch: 401 | The test data Accuracy = 0.9534303534303534 | Test Loss = 8.145869255065918\n",
            "Epoch: 411/600 | pLoss: 117.25281579626932 | Accuracy: 0.950093574547723 | Loss: 0.21943758414772796\n",
            "Epoch: 421/600 | pLoss: 118.19476458761427 | Accuracy: 0.9525888958203369 | Loss: 0.22120043279029494\n",
            "Epoch: 431/600 | pLoss: 119.16835877299309 | Accuracy: 0.9521730089415679 | Loss: 0.22302250550154665\n",
            "Epoch: 441/600 | pLoss: 117.91245943970151 | Accuracy: 0.9511332917446454 | Loss: 0.22067210125957862\n",
            "Epoch: 451/600 | pLoss: 119.174251511693 | Accuracy: 0.9518610937824912 | Loss: 0.22303353370872053\n",
            "Epoch: 451 | The test data Accuracy = 0.9467775467775468 | Test Loss = 8.210006713867188\n",
            "Epoch: 461/600 | pLoss: 117.54022011988692 | Accuracy: 0.9519650655021834 | Loss: 0.21997545873965113\n",
            "Epoch: 471/600 | pLoss: 117.72252499726083 | Accuracy: 0.9519650655021834 | Loss: 0.22031664066861043\n",
            "Epoch: 481/600 | pLoss: 118.07508309351073 | Accuracy: 0.950925348305261 | Loss: 0.22097644995666388\n",
            "Epoch: 491/600 | pLoss: 117.62243440747261 | Accuracy: 0.9517571220627989 | Loss: 0.22012932203519514\n",
            "Epoch: 501/600 | pLoss: 118.10907432105806 | Accuracy: 0.9523809523809523 | Loss: 0.2210400642315497\n",
            "Epoch: 501 | The test data Accuracy = 0.9555093555093556 | Test Loss = 8.169147491455078\n",
            "Epoch: 511/600 | pLoss: 119.09963721699185 | Accuracy: 0.9521730089415679 | Loss: 0.22289389373111387\n",
            "Epoch: 521/600 | pLoss: 117.67842476401064 | Accuracy: 0.9518610937824912 | Loss: 0.2202341074809931\n",
            "Epoch: 531/600 | pLoss: 117.71454790565703 | Accuracy: 0.9506134331461842 | Loss: 0.220301711613831\n",
            "Epoch: 541/600 | pLoss: 118.43437172969182 | Accuracy: 0.9508213765855688 | Loss: 0.2216488553893172\n",
            "Epoch: 551/600 | pLoss: 117.3373106535938 | Accuracy: 0.9514452069037221 | Loss: 0.2195957155089092\n",
            "Epoch: 551 | The test data Accuracy = 0.9542619542619543 | Test Loss = 8.203378677368164\n",
            "Epoch: 561/600 | pLoss: 119.75346606473128 | Accuracy: 0.9483260553129549 | Loss: 0.2241175285054235\n",
            "Epoch: 571/600 | pLoss: 118.63709416985512 | Accuracy: 0.9512372634643377 | Loss: 0.22202824860234893\n",
            "Epoch: 581/600 | pLoss: 120.16203357444869 | Accuracy: 0.9491578290704928 | Loss: 0.22488215890414603\n",
            "Epoch: 591/600 | pLoss: 118.09518174661531 | Accuracy: 0.9514452069037221 | Loss: 0.22101406440414592\n",
            "Epoch: 600/600 | pLoss: 118.19214755627844 | Accuracy: 0.9499896028280308 | Loss: 0.22119553503982242\n",
            "Accuracy: 0.9526\n",
            "Precision: 0.7301\n",
            "Recall: 0.9693\n",
            "F1 Score: 0.8328\n",
            "AUROC Score: 0.9598\n"
          ]
        }
      ]
    },
    {
      "cell_type": "code",
      "source": [
        "import matplotlib.pyplot as plt\n",
        "import seaborn as sns\n",
        "from sklearn.metrics import confusion_matrix\n",
        "\n",
        "# Compute Confusion Matrix\n",
        "cm = confusion_matrix(y_true, y_scores)\n",
        "\n",
        "# Print the matrix\n",
        "print(\"Confusion Matrix:\\n\", cm)\n",
        "\n",
        "# Plot the Confusion Matrix\n",
        "plt.figure(figsize=(6, 5))\n",
        "sns.heatmap(cm, annot=True, fmt=\"d\", cmap=\"Blues\", xticklabels=['Negative', 'Positive'], yticklabels=['Negative', 'Positive'])\n",
        "plt.xlabel(\"Predicted Label\")\n",
        "plt.ylabel(\"True Label\")\n",
        "plt.title(\"Confusion Matrix\")\n",
        "plt.show()\n",
        "\n",
        "from sklearn.metrics import confusion_matrix\n",
        "\n",
        "# Compute Confusion Matrix\n",
        "cm = confusion_matrix(y_true, y_scores)\n",
        "\n",
        "# Extract TP, TN, FP, FN\n",
        "TN = cm[0, 0]  # True Negative\n",
        "FP = cm[0, 1]  # False Positive\n",
        "FN = cm[1, 0]  # False Negative\n",
        "TP = cm[1, 1]  # True Positive\n",
        "\n",
        "print(f\"True Positives (TP): {TP}\")\n",
        "print(f\"False Positives (FP): {FP}\")\n",
        "print(f\"True Negatives (TN): {TN}\")\n",
        "print(f\"False Negatives (FN): {FN}\")\n"
      ],
      "metadata": {
        "id": "uRbWg9C1UtTp",
        "colab": {
          "base_uri": "https://localhost:8080/",
          "height": 612
        },
        "outputId": "a43ae29f-7a36-4982-a1c3-e17a289e4759"
      },
      "execution_count": 13,
      "outputs": [
        {
          "output_type": "stream",
          "name": "stdout",
          "text": [
            "Confusion Matrix:\n",
            " [[2007  105]\n",
            " [   9  284]]\n"
          ]
        },
        {
          "output_type": "display_data",
          "data": {
            "text/plain": [
              "<Figure size 600x500 with 2 Axes>"
            ],
            "image/png": "[encoded data removed]"
          },
          "metadata": {}
        },
        {
          "output_type": "stream",
          "name": "stdout",
          "text": [
            "True Positives (TP): 284\n",
            "False Positives (FP): 105\n",
            "True Negatives (TN): 2007\n",
            "False Negatives (FN): 9\n"
          ]
        }
      ]
    },
    {
      "cell_type": "code",
      "source": [
        "data_2023=pd.read_excel('/content/processed_fall_2023.xlsx')\n",
        "# Ensure that new_data has the same columns as the training data except for the target column\n",
        "print(data_2023.columns)\n",
        "new_data = data_2023[data_2023.drop(['admitted'], axis=1).columns]\n",
        "print(new_data.shape[1])\n",
        "data_2023_labels=data_2023['admitted'].to_numpy()\n",
        "\n",
        "# Make sure new_data is a PyTorch tensor\n",
        "new_data_tensor = torch.from_numpy(new_data.to_numpy()).float()\n",
        "\n",
        "# Perform inference on the new data\n",
        "with torch.no_grad():\n",
        "    # Assuming your model is saved in 'save_net' after training\n",
        "    outputs = save_net(new_data_tensor)\n",
        "\n",
        "# Get predicted class labels from the outputs\n",
        "predictions = torch.argmax(outputs, dim=1)\n",
        "\n",
        "# If you want the predicted probabilities, you can use:\n",
        "# probabilities = torch.softmax(outputs, dim=1)\n",
        "\n",
        "# Convert predictions to numpy for further processing\n",
        "predictions = predictions.numpy()\n",
        "\n",
        "print(\"Predictions on new data:\")\n",
        "print(predictions)\n",
        "print(len(predictions))\n",
        "\n",
        "\n",
        "accuracy = accuracy_score(data_2023_labels,predictions)\n",
        "precision = precision_score(data_2023_labels,predictions)\n",
        "recall = recall_score(data_2023_labels, predictions)\n",
        "f1_val = f1_score(data_2023_labels, predictions)\n",
        "auc_roc = roc_auc_score(data_2023_labels, predictions)\n",
        "\n",
        "print('Accuracy: {:.4f}'.format(accuracy))\n",
        "print('Precision: {:.4f}'.format(precision))\n",
        "print('Recall: {:.4f}'.format(recall))\n",
        "print('F1 Score: {:.4f}'.format(f1_val))\n",
        "print('AUROC Score: {:.4f}'.format(auc_roc))\n",
        "\n",
        "\n",
        "\n",
        "\n",
        "\n"
      ],
      "metadata": {
        "colab": {
          "base_uri": "https://localhost:8080/"
        },
        "id": "8UklLCtnXYYk",
        "outputId": "df8d8ef6-f352-4044-aea2-846f8002e6f7"
      },
      "execution_count": 65,
      "outputs": [
        {
          "output_type": "stream",
          "name": "stdout",
          "text": [
            "Index(['Application Major', 'Scholarship_Awarded', 'Application CGPA',\n",
            "       'FAFSA Filed', 'High School Code', 'Financial Aid Appeal',\n",
            "       'Accepted Student Day Event Attended', 'Campus Visits - Person',\n",
            "       'Campus Visits - App', 'Logins Before Admit', 'Acceptance Call Success',\n",
            "       'Application Consider Test Scores', 'Application ACRK',\n",
            "       'Waitlist Confirmed Date', 'Emails Sent', 'Emails Opened',\n",
            "       'Was Inquiry', 'Athlete', 'admitted', 'Address 1 Region_Midwest',\n",
            "       'Address 1 Region_Northeast', 'Address 1 Region_South',\n",
            "       'Address 1 Region_Southwest', 'Address 1 Region_Territory',\n",
            "       'Address 1 Region_West', 'Application Housing_Commuter',\n",
            "       'Application Housing_Residential',\n",
            "       'Application Enroll Status_Full Time',\n",
            "       'Application Enroll Status_Part Time', 'Person Sex_F', 'Person Sex_M',\n",
            "       'High School Region_Midwest', 'High School Region_Northeast',\n",
            "       'High School Region_South', 'High School Region_Southwest',\n",
            "       'High School Region_Territory', 'High School Region_West',\n",
            "       'Application Span', 'Admission Span', 'Application College_00',\n",
            "       'Application College_CAS', 'Application College_COB',\n",
            "       'Application College_HCLC', 'Application College_ID',\n",
            "       'Application College_SHS', 'Application College_TCOE',\n",
            "       'Address 1 Region_Military', 'High School Region_Military',\n",
            "       'Person Sex_Unknown'],\n",
            "      dtype='object')\n",
            "48\n",
            "Predictions on new data:\n",
            "[1 0 0 ... 0 1 1]\n",
            "9834\n",
            "Accuracy: 0.9301\n",
            "Precision: 0.7149\n",
            "Recall: 0.8524\n",
            "F1 Score: 0.7776\n",
            "AUROC Score: 0.8978\n"
          ]
        }
      ]
    },
    {
      "cell_type": "code",
      "source": [
        "data_2023_labels=data_2023['admitted'].to_numpy()\n",
        "data_2023_labels"
      ],
      "metadata": {
        "colab": {
          "base_uri": "https://localhost:8080/"
        },
        "id": "pjZvZCYNqwAm",
        "outputId": "eb87cbea-9a54-4bd7-8964-915818e8ec50"
      },
      "execution_count": 60,
      "outputs": [
        {
          "output_type": "execute_result",
          "data": {
            "text/plain": [
              "array([1, 0, 0, ..., 0, 0, 1])"
            ]
          },
          "metadata": {},
          "execution_count": 60
        }
      ]
    },
    {
      "cell_type": "code",
      "source": [
        "import matplotlib.pyplot as plt\n",
        "import seaborn as sns\n",
        "from sklearn.metrics import confusion_matrix\n",
        "\n",
        "# Compute Confusion Matrix\n",
        "cm = confusion_matrix(data_2023_labels,predictions)\n",
        "\n",
        "# Print the matrix\n",
        "print(\"Confusion Matrix:\\n\", cm)\n",
        "\n",
        "# Plot the Confusion Matrix\n",
        "plt.figure(figsize=(6, 5))\n",
        "sns.heatmap(cm, annot=True, fmt=\"d\", cmap=\"Blues\", xticklabels=['Negative', 'Positive'], yticklabels=['Negative', 'Positive'])\n",
        "plt.xlabel(\"Predicted Label\")\n",
        "plt.ylabel(\"True Label\")\n",
        "plt.title(\"Confusion Matrix\")\n",
        "plt.show()\n",
        "\n",
        "from sklearn.metrics import confusion_matrix\n",
        "\n",
        "# Compute Confusion Matrix\n",
        "cm = confusion_matrix(data_2023_labels,predictions)\n",
        "\n",
        "# Extract TP, TN, FP, FN\n",
        "TN = cm[0, 0]  # True Negative\n",
        "FP = cm[0, 1]  # False Positive\n",
        "FN = cm[1, 0]  # False Negative\n",
        "TP = cm[1, 1]  # True Positive\n",
        "\n",
        "print(f\"True Positives (TP): {TP}\")\n",
        "print(f\"False Positives (FP): {FP}\")\n",
        "print(f\"True Negatives (TN): {TN}\")\n",
        "print(f\"False Negatives (FN): {FN}\")\n"
      ],
      "metadata": {
        "colab": {
          "base_uri": "https://localhost:8080/",
          "height": 612
        },
        "id": "v-qglhkCptnf",
        "outputId": "8d896719-424a-49f6-e22a-0e5c3abd6fe0"
      },
      "execution_count": 66,
      "outputs": [
        {
          "output_type": "stream",
          "name": "stdout",
          "text": [
            "Confusion Matrix:\n",
            " [[7946  479]\n",
            " [ 208 1201]]\n"
          ]
        },
        {
          "output_type": "display_data",
          "data": {
            "text/plain": [
              "<Figure size 600x500 with 2 Axes>"
            ],
            "image/png": "[encoded data removed]"
          },
          "metadata": {}
        },
        {
          "output_type": "stream",
          "name": "stdout",
          "text": [
            "True Positives (TP): 1201\n",
            "False Positives (FP): 479\n",
            "True Negatives (TN): 7946\n",
            "False Negatives (FN): 208\n"
          ]
        }
      ]
    },
    {
      "cell_type": "code",
      "source": [],
      "metadata": {
        "id": "8CB9oSaGqM7Y"
      },
      "execution_count": null,
      "outputs": []
    }
  ]
}