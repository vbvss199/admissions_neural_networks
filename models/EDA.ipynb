{
 "cells": [
  {
   "cell_type": "code",
   "execution_count": 5,
   "metadata": {},
   "outputs": [],
   "source": [
    "import matplotlib.pyplot as plt"
   ]
  },
  {
   "cell_type": "code",
   "execution_count": 6,
   "metadata": {},
   "outputs": [],
   "source": [
    "import pandas as pd\n",
    "adm_data=pd.read_excel('pre_processed_data.xlsx')"
   ]
  },
  {
   "cell_type": "code",
   "execution_count": null,
   "metadata": {},
   "outputs": [],
   "source": []
  },
  {
   "cell_type": "code",
   "execution_count": 7,
   "metadata": {},
   "outputs": [
    {
     "name": "stdout",
     "output_type": "stream",
     "text": [
      "<class 'pandas.core.frame.DataFrame'>\n",
      "RangeIndex: 11929 entries, 0 to 11928\n",
      "Data columns (total 33 columns):\n",
      " #   Column                               Non-Null Count  Dtype  \n",
      "---  ------                               --------------  -----  \n",
      " 0   Application Major                    11929 non-null  int64  \n",
      " 1   Scholarship_Awarded                  11929 non-null  int64  \n",
      " 2   Application CGPA                     11929 non-null  float64\n",
      " 3   FAFSA Filed                          11929 non-null  int64  \n",
      " 4   Financial Aid Appeal                 11929 non-null  int64  \n",
      " 5   Accepted Student Day Event Attended  11929 non-null  int64  \n",
      " 6   Campus Visits - Person               11929 non-null  int64  \n",
      " 7   Campus Visits - App                  11929 non-null  int64  \n",
      " 8   Logins Before Admit                  11929 non-null  int64  \n",
      " 9   Acceptance Call Success              11929 non-null  int64  \n",
      " 10  Application Consider Test Scores     11929 non-null  int64  \n",
      " 11  Application ACRK                     11929 non-null  float64\n",
      " 12  Waitlist Confirmed Date              11929 non-null  int64  \n",
      " 13  Emails Sent                          11929 non-null  int64  \n",
      " 14  Emails Opened                        11929 non-null  int64  \n",
      " 15  Emails Opened Percentage             11913 non-null  float64\n",
      " 16  Was Inquiry                          11929 non-null  int64  \n",
      " 17  Application Housing_Commuter         11929 non-null  int64  \n",
      " 18  Application Housing_Residential      11929 non-null  int64  \n",
      " 19  Application Enroll Status_Full Time  11929 non-null  int64  \n",
      " 20  Application Enroll Status_Part Time  11929 non-null  int64  \n",
      " 21  Person Sex_F                         11929 non-null  int64  \n",
      " 22  Person Sex_M                         11929 non-null  int64  \n",
      " 23  Person Sex_Unknown                   11929 non-null  int64  \n",
      " 24  admitted                             11929 non-null  int64  \n",
      " 25  Application Span                     11929 non-null  int64  \n",
      " 26  High School Region_Midwest           11929 non-null  int64  \n",
      " 27  High School Region_Northeast         11929 non-null  int64  \n",
      " 28  High School Region_South             11929 non-null  int64  \n",
      " 29  High School Region_Southwest         11929 non-null  int64  \n",
      " 30  High School Region_West              11929 non-null  int64  \n",
      " 31  High School Region_nan               11929 non-null  int64  \n",
      " 32  Admission Span                       11929 non-null  float64\n",
      "dtypes: float64(4), int64(29)\n",
      "memory usage: 3.0 MB\n"
     ]
    }
   ],
   "source": [
    "adm_data.info()"
   ]
  },
  {
   "cell_type": "markdown",
   "metadata": {},
   "source": [
    "### univariate Analysis\n"
   ]
  },
  {
   "cell_type": "markdown",
   "metadata": {},
   "source": [
    "### Application Major"
   ]
  },
  {
   "cell_type": "code",
   "execution_count": 8,
   "metadata": {},
   "outputs": [
    {
     "data": {
      "text/plain": [
       "Application Major\n",
       "54     1038\n",
       "101     822\n",
       "5       609\n",
       "13      483\n",
       "32      483\n",
       "       ... \n",
       "100       1\n",
       "19        1\n",
       "87        1\n",
       "86        1\n",
       "18        1\n",
       "Name: count, Length: 102, dtype: int64"
      ]
     },
     "execution_count": 8,
     "metadata": {},
     "output_type": "execute_result"
    }
   ],
   "source": [
    "adm_data['Application Major'].value_counts()"
   ]
  },
  {
   "cell_type": "code",
   "execution_count": 9,
   "metadata": {},
   "outputs": [
    {
     "data": {
      "text/plain": [
       "0"
      ]
     },
     "execution_count": 9,
     "metadata": {},
     "output_type": "execute_result"
    }
   ],
   "source": [
    "adm_data['Application Major'].isnull().sum()"
   ]
  },
  {
   "cell_type": "markdown",
   "metadata": {},
   "source": [
    "as we encoded them to integers for embedding layer which is a first layer for the neural network where each category is a array of numbers which are unique"
   ]
  },
  {
   "cell_type": "markdown",
   "metadata": {},
   "source": [
    "### Application CGPA"
   ]
  },
  {
   "cell_type": "code",
   "execution_count": 10,
   "metadata": {},
   "outputs": [
    {
     "data": {
      "text/plain": [
       "count    11929.000000\n",
       "mean         3.506240\n",
       "std          0.441297\n",
       "min          0.000000\n",
       "25%          3.200000\n",
       "50%          3.600000\n",
       "75%          3.900000\n",
       "max          4.000000\n",
       "Name: Application CGPA, dtype: float64"
      ]
     },
     "execution_count": 10,
     "metadata": {},
     "output_type": "execute_result"
    }
   ],
   "source": [
    "#as we apply embeddings to application major there's nothing to do with the application major\n",
    "adm_data['Application CGPA'].describe()"
   ]
  },
  {
   "cell_type": "markdown",
   "metadata": {},
   "source": [
    "*Percentile meaning: how many of the values are less than the given percentile.**Not percentage**\n",
    "25 percentile values is Q1 which is qualifier one in terms of box plot(where 25% includes the persons less than 3.2)"
   ]
  },
  {
   "cell_type": "code",
   "execution_count": 11,
   "metadata": {},
   "outputs": [
    {
     "data": {
      "text/plain": [
       "<Axes: ylabel='Frequency'>"
      ]
     },
     "execution_count": 11,
     "metadata": {},
     "output_type": "execute_result"
    },
    {
     "data": {
      "image/png": "[encoded data removed]",
      "text/plain": [
       "<Figure size 640x480 with 1 Axes>"
      ]
     },
     "metadata": {},
     "output_type": "display_data"
    }
   ],
   "source": [
    "adm_data['Application CGPA'].plot(kind='hist')"
   ]
  },
  {
   "cell_type": "code",
   "execution_count": 12,
   "metadata": {},
   "outputs": [
    {
     "data": {
      "text/plain": [
       "<Axes: ylabel='Density'>"
      ]
     },
     "execution_count": 12,
     "metadata": {},
     "output_type": "execute_result"
    },
    {
     "data": {
      "image/png": "[encoded data removed]",
      "text/plain": [
       "<Figure size 640x480 with 1 Axes>"
      ]
     },
     "metadata": {},
     "output_type": "display_data"
    }
   ],
   "source": [
    "#kernel density estimate \n",
    "adm_data['Application CGPA'].plot(kind='kde')"
   ]
  },
  {
   "cell_type": "code",
   "execution_count": 13,
   "metadata": {},
   "outputs": [
    {
     "data": {
      "text/plain": [
       "-0.7173565747532306"
      ]
     },
     "execution_count": 13,
     "metadata": {},
     "output_type": "execute_result"
    }
   ],
   "source": [
    "adm_data['Application CGPA'].skew()"
   ]
  },
  {
   "attachments": {
    "image.png": {
     "image/png": "[encoded data removed]"
    }
   },
   "cell_type": "markdown",
   "metadata": {},
   "source": [
    "#### conclusions for CGPA\n",
    "Skewness: skewness is a measure of the asymmetry of the probability distribution of a real-valued random variable about its mean. The skewness value can be positive, zero, negative, or undefined.\n",
    "1. CGPA is negatively skewed , the probability distribution curve is to the left and in the case of skeness the mean mode and median are not equal\n",
    "![image.png](attachment:image.png)\n",
    "2. for a uniform dataset the mean mode and median are equal ex:3,3,3,3,3 mean =3 median is 3 and mode is 3 which is a uniformly distributed "
   ]
  },
  {
   "cell_type": "code",
   "execution_count": 14,
   "metadata": {},
   "outputs": [
    {
     "data": {
      "text/plain": [
       "0"
      ]
     },
     "execution_count": 14,
     "metadata": {},
     "output_type": "execute_result"
    }
   ],
   "source": [
    "#need to fill this value with mean or mode imputation\n",
    "adm_data['Application CGPA'].isnull().sum()"
   ]
  },
  {
   "cell_type": "code",
   "execution_count": null,
   "metadata": {},
   "outputs": [],
   "source": []
  },
  {
   "cell_type": "markdown",
   "metadata": {},
   "source": [
    "### Scholarship_awarded"
   ]
  },
  {
   "cell_type": "code",
   "execution_count": 15,
   "metadata": {},
   "outputs": [
    {
     "data": {
      "text/plain": [
       "Scholarship_Awarded\n",
       "1    11923\n",
       "0        6\n",
       "Name: count, dtype: int64"
      ]
     },
     "execution_count": 15,
     "metadata": {},
     "output_type": "execute_result"
    }
   ],
   "source": [
    "adm_data['Scholarship_Awarded'].value_counts()"
   ]
  },
  {
   "cell_type": "code",
   "execution_count": 16,
   "metadata": {},
   "outputs": [
    {
     "data": {
      "text/plain": [
       "<Axes: xlabel='Scholarship_Awarded'>"
      ]
     },
     "execution_count": 16,
     "metadata": {},
     "output_type": "execute_result"
    },
    {
     "data": {
      "image/png": "[encoded data removed]",
      "text/plain": [
       "<Figure size 640x480 with 1 Axes>"
      ]
     },
     "metadata": {},
     "output_type": "display_data"
    }
   ],
   "source": [
    "adm_data['Scholarship_Awarded'].value_counts().plot(kind='bar')"
   ]
  },
  {
   "cell_type": "code",
   "execution_count": 17,
   "metadata": {},
   "outputs": [
    {
     "data": {
      "text/plain": [
       "0"
      ]
     },
     "execution_count": 17,
     "metadata": {},
     "output_type": "execute_result"
    }
   ],
   "source": [
    "adm_data['Scholarship_Awarded'].isnull().sum()"
   ]
  },
  {
   "cell_type": "markdown",
   "metadata": {},
   "source": [
    "### FAFSA filed and Financial Aid Appeal"
   ]
  },
  {
   "cell_type": "code",
   "execution_count": 18,
   "metadata": {},
   "outputs": [
    {
     "data": {
      "text/plain": [
       "FAFSA Filed\n",
       "1    8544\n",
       "0    3385\n",
       "Name: count, dtype: int64"
      ]
     },
     "execution_count": 18,
     "metadata": {},
     "output_type": "execute_result"
    }
   ],
   "source": [
    "\n",
    "adm_data['FAFSA Filed'].value_counts()"
   ]
  },
  {
   "cell_type": "code",
   "execution_count": 19,
   "metadata": {},
   "outputs": [
    {
     "data": {
      "text/plain": [
       "Financial Aid Appeal\n",
       "0    11521\n",
       "1      408\n",
       "Name: count, dtype: int64"
      ]
     },
     "execution_count": 19,
     "metadata": {},
     "output_type": "execute_result"
    }
   ],
   "source": [
    "adm_data['Financial Aid Appeal'].value_counts()"
   ]
  },
  {
   "cell_type": "code",
   "execution_count": 20,
   "metadata": {},
   "outputs": [
    {
     "data": {
      "text/plain": [
       "<Axes: xlabel='FAFSA Filed'>"
      ]
     },
     "execution_count": 20,
     "metadata": {},
     "output_type": "execute_result"
    },
    {
     "data": {
      "image/png": "[encoded data removed]",
      "text/plain": [
       "<Figure size 640x480 with 2 Axes>"
      ]
     },
     "metadata": {},
     "output_type": "display_data"
    }
   ],
   "source": [
    "plt.subplot(121)\n",
    "adm_data['Financial Aid Appeal'].value_counts().plot(kind='bar')\n",
    "plt.subplot(122)\n",
    "adm_data['FAFSA Filed'].value_counts().plot(kind='bar')"
   ]
  },
  {
   "cell_type": "markdown",
   "metadata": {},
   "source": [
    "### Application ACRK"
   ]
  },
  {
   "cell_type": "code",
   "execution_count": 21,
   "metadata": {},
   "outputs": [
    {
     "data": {
      "text/plain": [
       "count    11929.000000\n",
       "mean         4.009809\n",
       "std          1.978545\n",
       "min          1.000000\n",
       "25%          2.000000\n",
       "50%          4.000000\n",
       "75%          6.000000\n",
       "max          7.000000\n",
       "Name: Application ACRK, dtype: float64"
      ]
     },
     "execution_count": 21,
     "metadata": {},
     "output_type": "execute_result"
    }
   ],
   "source": [
    "adm_data['Application ACRK'].describe()"
   ]
  },
  {
   "cell_type": "markdown",
   "metadata": {},
   "source": [
    "25 % of the students whose ACRK less than 2"
   ]
  },
  {
   "cell_type": "code",
   "execution_count": 22,
   "metadata": {},
   "outputs": [
    {
     "data": {
      "text/plain": [
       "<Axes: ylabel='Density'>"
      ]
     },
     "execution_count": 22,
     "metadata": {},
     "output_type": "execute_result"
    },
    {
     "data": {
      "image/png": "[encoded data removed]",
      "text/plain": [
       "<Figure size 640x480 with 1 Axes>"
      ]
     },
     "metadata": {},
     "output_type": "display_data"
    }
   ],
   "source": [
    "adm_data['Application ACRK'].plot(kind='kde')"
   ]
  },
  {
   "cell_type": "code",
   "execution_count": 23,
   "metadata": {},
   "outputs": [
    {
     "data": {
      "text/plain": [
       "-0.07655099561830941"
      ]
     },
     "execution_count": 23,
     "metadata": {},
     "output_type": "execute_result"
    }
   ],
   "source": [
    "adm_data['Application ACRK'].skew()"
   ]
  },
  {
   "cell_type": "markdown",
   "metadata": {},
   "source": [
    "barely skewed almost normal distribution "
   ]
  },
  {
   "cell_type": "markdown",
   "metadata": {},
   "source": [
    "### Email sent and opened"
   ]
  },
  {
   "cell_type": "code",
   "execution_count": 24,
   "metadata": {},
   "outputs": [
    {
     "data": {
      "text/plain": [
       "count    11929.000000\n",
       "mean        15.698382\n",
       "std         12.915803\n",
       "min          0.000000\n",
       "25%          6.000000\n",
       "50%         13.000000\n",
       "75%         23.000000\n",
       "max        175.000000\n",
       "Name: Emails Opened, dtype: float64"
      ]
     },
     "execution_count": 24,
     "metadata": {},
     "output_type": "execute_result"
    }
   ],
   "source": [
    "adm_data['Emails Opened'].describe()"
   ]
  },
  {
   "cell_type": "code",
   "execution_count": 25,
   "metadata": {},
   "outputs": [
    {
     "data": {
      "text/plain": [
       "<Axes: ylabel='Frequency'>"
      ]
     },
     "execution_count": 25,
     "metadata": {},
     "output_type": "execute_result"
    },
    {
     "data": {
      "image/png": "[encoded data removed]",
      "text/plain": [
       "<Figure size 640x480 with 1 Axes>"
      ]
     },
     "metadata": {},
     "output_type": "display_data"
    }
   ],
   "source": [
    "adm_data['Emails Opened'].plot(kind='hist')"
   ]
  },
  {
   "cell_type": "code",
   "execution_count": 26,
   "metadata": {},
   "outputs": [
    {
     "data": {
      "text/plain": [
       "1.4398792572986845"
      ]
     },
     "execution_count": 26,
     "metadata": {},
     "output_type": "execute_result"
    }
   ],
   "source": [
    "adm_data['Emails Opened'].skew()\n",
    "#data is positively skewed "
   ]
  },
  {
   "cell_type": "code",
   "execution_count": 27,
   "metadata": {},
   "outputs": [
    {
     "data": {
      "text/plain": [
       "<Axes: >"
      ]
     },
     "execution_count": 27,
     "metadata": {},
     "output_type": "execute_result"
    },
    {
     "data": {
      "image/png": "[encoded data removed]",
      "text/plain": [
       "<Figure size 640x480 with 1 Axes>"
      ]
     },
     "metadata": {},
     "output_type": "display_data"
    }
   ],
   "source": [
    "adm_data['Emails Opened'].plot(kind='box')"
   ]
  },
  {
   "cell_type": "markdown",
   "metadata": {},
   "source": [
    "there are three outliers 175 ,near to 150 and 125"
   ]
  },
  {
   "cell_type": "code",
   "execution_count": 28,
   "metadata": {},
   "outputs": [
    {
     "data": {
      "text/plain": [
       "count    11929.000000\n",
       "mean        30.777265\n",
       "std         19.252686\n",
       "min          0.000000\n",
       "25%         17.000000\n",
       "50%         29.000000\n",
       "75%         42.000000\n",
       "max        230.000000\n",
       "Name: Emails Sent, dtype: float64"
      ]
     },
     "execution_count": 28,
     "metadata": {},
     "output_type": "execute_result"
    }
   ],
   "source": [
    "adm_data['Emails Sent'].describe()"
   ]
  },
  {
   "cell_type": "code",
   "execution_count": 29,
   "metadata": {},
   "outputs": [
    {
     "data": {
      "text/plain": [
       "0.9362921907020534"
      ]
     },
     "execution_count": 29,
     "metadata": {},
     "output_type": "execute_result"
    }
   ],
   "source": [
    "adm_data['Emails Sent'].skew()"
   ]
  },
  {
   "cell_type": "code",
   "execution_count": 30,
   "metadata": {},
   "outputs": [
    {
     "data": {
      "text/plain": [
       "<Axes: ylabel='Frequency'>"
      ]
     },
     "execution_count": 30,
     "metadata": {},
     "output_type": "execute_result"
    },
    {
     "data": {
      "image/png": "[encoded data removed]",
      "text/plain": [
       "<Figure size 640x480 with 1 Axes>"
      ]
     },
     "metadata": {},
     "output_type": "display_data"
    }
   ],
   "source": [
    "adm_data['Emails Sent'].plot(kind='hist')"
   ]
  },
  {
   "cell_type": "code",
   "execution_count": 31,
   "metadata": {},
   "outputs": [
    {
     "data": {
      "text/plain": [
       "<Axes: >"
      ]
     },
     "execution_count": 31,
     "metadata": {},
     "output_type": "execute_result"
    },
    {
     "data": {
      "image/png": "[encoded data removed]",
      "text/plain": [
       "<Figure size 640x480 with 1 Axes>"
      ]
     },
     "metadata": {},
     "output_type": "display_data"
    }
   ],
   "source": [
    "adm_data['Emails Sent'].plot(kind='box')"
   ]
  },
  {
   "cell_type": "markdown",
   "metadata": {},
   "source": [
    "one outlier "
   ]
  },
  {
   "cell_type": "markdown",
   "metadata": {},
   "source": [
    "### Application span and admission span\n"
   ]
  },
  {
   "cell_type": "code",
   "execution_count": 32,
   "metadata": {},
   "outputs": [
    {
     "data": {
      "text/plain": [
       "count    11929.000000\n",
       "mean        16.736441\n",
       "std         20.598253\n",
       "min          0.000000\n",
       "25%          4.000000\n",
       "50%         12.000000\n",
       "75%         21.000000\n",
       "max        296.000000\n",
       "Name: Application Span, dtype: float64"
      ]
     },
     "execution_count": 32,
     "metadata": {},
     "output_type": "execute_result"
    }
   ],
   "source": [
    "adm_data['Application Span'].describe()"
   ]
  },
  {
   "cell_type": "code",
   "execution_count": 33,
   "metadata": {},
   "outputs": [
    {
     "data": {
      "text/plain": [
       "<Axes: ylabel='Frequency'>"
      ]
     },
     "execution_count": 33,
     "metadata": {},
     "output_type": "execute_result"
    },
    {
     "data": {
      "image/png": "[encoded data removed]",
      "text/plain": [
       "<Figure size 640x480 with 1 Axes>"
      ]
     },
     "metadata": {},
     "output_type": "display_data"
    }
   ],
   "source": [
    "adm_data['Application Span'].plot(kind='hist')"
   ]
  },
  {
   "cell_type": "code",
   "execution_count": 34,
   "metadata": {},
   "outputs": [
    {
     "data": {
      "text/plain": [
       "<Axes: >"
      ]
     },
     "execution_count": 34,
     "metadata": {},
     "output_type": "execute_result"
    },
    {
     "data": {
      "image/png": "[encoded data removed]",
      "text/plain": [
       "<Figure size 640x480 with 1 Axes>"
      ]
     },
     "metadata": {},
     "output_type": "display_data"
    }
   ],
   "source": [
    "adm_data['Application Span'].plot(kind='box')"
   ]
  },
  {
   "cell_type": "markdown",
   "metadata": {},
   "source": [
    "There is one outlier -202 try to drop the entry"
   ]
  },
  {
   "cell_type": "code",
   "execution_count": 35,
   "metadata": {},
   "outputs": [
    {
     "data": {
      "text/html": [
       "<div>\n",
       "<style scoped>\n",
       "    .dataframe tbody tr th:only-of-type {\n",
       "        vertical-align: middle;\n",
       "    }\n",
       "\n",
       "    .dataframe tbody tr th {\n",
       "        vertical-align: top;\n",
       "    }\n",
       "\n",
       "    .dataframe thead th {\n",
       "        text-align: right;\n",
       "    }\n",
       "</style>\n",
       "<table border=\"1\" class=\"dataframe\">\n",
       "  <thead>\n",
       "    <tr style=\"text-align: right;\">\n",
       "      <th></th>\n",
       "      <th>Application Major</th>\n",
       "      <th>Scholarship_Awarded</th>\n",
       "      <th>Application CGPA</th>\n",
       "      <th>FAFSA Filed</th>\n",
       "      <th>Financial Aid Appeal</th>\n",
       "      <th>Accepted Student Day Event Attended</th>\n",
       "      <th>Campus Visits - Person</th>\n",
       "      <th>Campus Visits - App</th>\n",
       "      <th>Logins Before Admit</th>\n",
       "      <th>Acceptance Call Success</th>\n",
       "      <th>...</th>\n",
       "      <th>Person Sex_Unknown</th>\n",
       "      <th>admitted</th>\n",
       "      <th>Application Span</th>\n",
       "      <th>High School Region_Midwest</th>\n",
       "      <th>High School Region_Northeast</th>\n",
       "      <th>High School Region_South</th>\n",
       "      <th>High School Region_Southwest</th>\n",
       "      <th>High School Region_West</th>\n",
       "      <th>High School Region_nan</th>\n",
       "      <th>Admission Span</th>\n",
       "    </tr>\n",
       "  </thead>\n",
       "  <tbody>\n",
       "  </tbody>\n",
       "</table>\n",
       "<p>0 rows × 33 columns</p>\n",
       "</div>"
      ],
      "text/plain": [
       "Empty DataFrame\n",
       "Columns: [Application Major, Scholarship_Awarded, Application CGPA, FAFSA Filed, Financial Aid Appeal, Accepted Student Day Event Attended, Campus Visits - Person, Campus Visits - App, Logins Before Admit, Acceptance Call Success, Application Consider Test Scores, Application ACRK, Waitlist Confirmed Date, Emails Sent, Emails Opened, Emails Opened Percentage, Was Inquiry, Application Housing_Commuter, Application Housing_Residential, Application Enroll Status_Full Time, Application Enroll Status_Part Time, Person Sex_F, Person Sex_M, Person Sex_Unknown, admitted, Application Span, High School Region_Midwest, High School Region_Northeast, High School Region_South, High School Region_Southwest, High School Region_West, High School Region_nan, Admission Span]\n",
       "Index: []\n",
       "\n",
       "[0 rows x 33 columns]"
      ]
     },
     "execution_count": 35,
     "metadata": {},
     "output_type": "execute_result"
    }
   ],
   "source": [
    "adm_data[adm_data['Application Span']==-202]"
   ]
  },
  {
   "cell_type": "code",
   "execution_count": 36,
   "metadata": {},
   "outputs": [
    {
     "data": {
      "text/plain": [
       "count    11929.000000\n",
       "mean         8.549954\n",
       "std         27.692674\n",
       "min          0.000000\n",
       "25%          0.000000\n",
       "50%          0.656701\n",
       "75%          1.379792\n",
       "max        321.905174\n",
       "Name: Admission Span, dtype: float64"
      ]
     },
     "execution_count": 36,
     "metadata": {},
     "output_type": "execute_result"
    }
   ],
   "source": [
    "adm_data['Admission Span'].describe()"
   ]
  },
  {
   "cell_type": "code",
   "execution_count": 37,
   "metadata": {},
   "outputs": [
    {
     "data": {
      "text/plain": [
       "<Axes: >"
      ]
     },
     "execution_count": 37,
     "metadata": {},
     "output_type": "execute_result"
    },
    {
     "data": {
      "image/png": "[encoded data removed]",
      "text/plain": [
       "<Figure size 640x480 with 1 Axes>"
      ]
     },
     "metadata": {},
     "output_type": "display_data"
    }
   ],
   "source": [
    "adm_data['Admission Span'].plot(kind='box')"
   ]
  },
  {
   "cell_type": "code",
   "execution_count": 38,
   "metadata": {},
   "outputs": [
    {
     "name": "stdout",
     "output_type": "stream",
     "text": [
      "<class 'pandas.core.frame.DataFrame'>\n",
      "RangeIndex: 11929 entries, 0 to 11928\n",
      "Data columns (total 33 columns):\n",
      " #   Column                               Non-Null Count  Dtype  \n",
      "---  ------                               --------------  -----  \n",
      " 0   Application Major                    11929 non-null  int64  \n",
      " 1   Scholarship_Awarded                  11929 non-null  int64  \n",
      " 2   Application CGPA                     11929 non-null  float64\n",
      " 3   FAFSA Filed                          11929 non-null  int64  \n",
      " 4   Financial Aid Appeal                 11929 non-null  int64  \n",
      " 5   Accepted Student Day Event Attended  11929 non-null  int64  \n",
      " 6   Campus Visits - Person               11929 non-null  int64  \n",
      " 7   Campus Visits - App                  11929 non-null  int64  \n",
      " 8   Logins Before Admit                  11929 non-null  int64  \n",
      " 9   Acceptance Call Success              11929 non-null  int64  \n",
      " 10  Application Consider Test Scores     11929 non-null  int64  \n",
      " 11  Application ACRK                     11929 non-null  float64\n",
      " 12  Waitlist Confirmed Date              11929 non-null  int64  \n",
      " 13  Emails Sent                          11929 non-null  int64  \n",
      " 14  Emails Opened                        11929 non-null  int64  \n",
      " 15  Emails Opened Percentage             11913 non-null  float64\n",
      " 16  Was Inquiry                          11929 non-null  int64  \n",
      " 17  Application Housing_Commuter         11929 non-null  int64  \n",
      " 18  Application Housing_Residential      11929 non-null  int64  \n",
      " 19  Application Enroll Status_Full Time  11929 non-null  int64  \n",
      " 20  Application Enroll Status_Part Time  11929 non-null  int64  \n",
      " 21  Person Sex_F                         11929 non-null  int64  \n",
      " 22  Person Sex_M                         11929 non-null  int64  \n",
      " 23  Person Sex_Unknown                   11929 non-null  int64  \n",
      " 24  admitted                             11929 non-null  int64  \n",
      " 25  Application Span                     11929 non-null  int64  \n",
      " 26  High School Region_Midwest           11929 non-null  int64  \n",
      " 27  High School Region_Northeast         11929 non-null  int64  \n",
      " 28  High School Region_South             11929 non-null  int64  \n",
      " 29  High School Region_Southwest         11929 non-null  int64  \n",
      " 30  High School Region_West              11929 non-null  int64  \n",
      " 31  High School Region_nan               11929 non-null  int64  \n",
      " 32  Admission Span                       11929 non-null  float64\n",
      "dtypes: float64(4), int64(29)\n",
      "memory usage: 3.0 MB\n"
     ]
    }
   ],
   "source": [
    "adm_data.info()"
   ]
  },
  {
   "cell_type": "markdown",
   "metadata": {},
   "source": [
    "### bi-variate analysis\n",
    "1. Application CGPA ,Major vs admitted \n",
    "2. Scholarship_Awarded vs admitted\n",
    "3. Person Sex_F and Person Sex_M vs admitted \n",
    "4. Application ACRK vs admitted"
   ]
  },
  {
   "cell_type": "code",
   "execution_count": 39,
   "metadata": {},
   "outputs": [
    {
     "data": {
      "text/html": [
       "<div>\n",
       "<style scoped>\n",
       "    .dataframe tbody tr th:only-of-type {\n",
       "        vertical-align: middle;\n",
       "    }\n",
       "\n",
       "    .dataframe tbody tr th {\n",
       "        vertical-align: top;\n",
       "    }\n",
       "\n",
       "    .dataframe thead th {\n",
       "        text-align: right;\n",
       "    }\n",
       "</style>\n",
       "<table border=\"1\" class=\"dataframe\">\n",
       "  <thead>\n",
       "    <tr style=\"text-align: right;\">\n",
       "      <th>Application CGPA</th>\n",
       "      <th>0.000</th>\n",
       "      <th>2.300</th>\n",
       "      <th>2.400</th>\n",
       "      <th>2.430</th>\n",
       "      <th>2.500</th>\n",
       "      <th>2.510</th>\n",
       "      <th>2.520</th>\n",
       "      <th>2.530</th>\n",
       "      <th>2.540</th>\n",
       "      <th>2.550</th>\n",
       "      <th>...</th>\n",
       "      <th>3.920</th>\n",
       "      <th>3.921</th>\n",
       "      <th>3.930</th>\n",
       "      <th>3.940</th>\n",
       "      <th>3.950</th>\n",
       "      <th>3.960</th>\n",
       "      <th>3.970</th>\n",
       "      <th>3.980</th>\n",
       "      <th>3.990</th>\n",
       "      <th>4.000</th>\n",
       "    </tr>\n",
       "    <tr>\n",
       "      <th>admitted</th>\n",
       "      <th></th>\n",
       "      <th></th>\n",
       "      <th></th>\n",
       "      <th></th>\n",
       "      <th></th>\n",
       "      <th></th>\n",
       "      <th></th>\n",
       "      <th></th>\n",
       "      <th></th>\n",
       "      <th></th>\n",
       "      <th></th>\n",
       "      <th></th>\n",
       "      <th></th>\n",
       "      <th></th>\n",
       "      <th></th>\n",
       "      <th></th>\n",
       "      <th></th>\n",
       "      <th></th>\n",
       "      <th></th>\n",
       "      <th></th>\n",
       "      <th></th>\n",
       "    </tr>\n",
       "  </thead>\n",
       "  <tbody>\n",
       "    <tr>\n",
       "      <th>0</th>\n",
       "      <td>1</td>\n",
       "      <td>2</td>\n",
       "      <td>10</td>\n",
       "      <td>0</td>\n",
       "      <td>212</td>\n",
       "      <td>2</td>\n",
       "      <td>3</td>\n",
       "      <td>3</td>\n",
       "      <td>2</td>\n",
       "      <td>5</td>\n",
       "      <td>...</td>\n",
       "      <td>11</td>\n",
       "      <td>1</td>\n",
       "      <td>11</td>\n",
       "      <td>10</td>\n",
       "      <td>30</td>\n",
       "      <td>13</td>\n",
       "      <td>12</td>\n",
       "      <td>16</td>\n",
       "      <td>15</td>\n",
       "      <td>2119</td>\n",
       "    </tr>\n",
       "    <tr>\n",
       "      <th>1</th>\n",
       "      <td>1</td>\n",
       "      <td>0</td>\n",
       "      <td>14</td>\n",
       "      <td>1</td>\n",
       "      <td>49</td>\n",
       "      <td>0</td>\n",
       "      <td>1</td>\n",
       "      <td>1</td>\n",
       "      <td>2</td>\n",
       "      <td>0</td>\n",
       "      <td>...</td>\n",
       "      <td>2</td>\n",
       "      <td>0</td>\n",
       "      <td>1</td>\n",
       "      <td>2</td>\n",
       "      <td>2</td>\n",
       "      <td>3</td>\n",
       "      <td>4</td>\n",
       "      <td>5</td>\n",
       "      <td>0</td>\n",
       "      <td>257</td>\n",
       "    </tr>\n",
       "  </tbody>\n",
       "</table>\n",
       "<p>2 rows × 162 columns</p>\n",
       "</div>"
      ],
      "text/plain": [
       "Application CGPA  0.000  2.300  2.400  2.430  2.500  2.510  2.520  2.530  \\\n",
       "admitted                                                                   \n",
       "0                     1      2     10      0    212      2      3      3   \n",
       "1                     1      0     14      1     49      0      1      1   \n",
       "\n",
       "Application CGPA  2.540  2.550  ...  3.920  3.921  3.930  3.940  3.950  3.960  \\\n",
       "admitted                        ...                                             \n",
       "0                     2      5  ...     11      1     11     10     30     13   \n",
       "1                     2      0  ...      2      0      1      2      2      3   \n",
       "\n",
       "Application CGPA  3.970  3.980  3.990  4.000  \n",
       "admitted                                      \n",
       "0                    12     16     15   2119  \n",
       "1                     4      5      0    257  \n",
       "\n",
       "[2 rows x 162 columns]"
      ]
     },
     "execution_count": 39,
     "metadata": {},
     "output_type": "execute_result"
    }
   ],
   "source": [
    "pd.crosstab(adm_data['admitted'],adm_data['Application CGPA'])"
   ]
  },
  {
   "cell_type": "code",
   "execution_count": 40,
   "metadata": {},
   "outputs": [
    {
     "data": {
      "text/html": [
       "<div>\n",
       "<style scoped>\n",
       "    .dataframe tbody tr th:only-of-type {\n",
       "        vertical-align: middle;\n",
       "    }\n",
       "\n",
       "    .dataframe tbody tr th {\n",
       "        vertical-align: top;\n",
       "    }\n",
       "\n",
       "    .dataframe thead th {\n",
       "        text-align: right;\n",
       "    }\n",
       "</style>\n",
       "<table border=\"1\" class=\"dataframe\">\n",
       "  <thead>\n",
       "    <tr style=\"text-align: right;\">\n",
       "      <th>Application Major</th>\n",
       "      <th>0</th>\n",
       "      <th>1</th>\n",
       "      <th>2</th>\n",
       "      <th>3</th>\n",
       "      <th>4</th>\n",
       "      <th>5</th>\n",
       "      <th>6</th>\n",
       "      <th>7</th>\n",
       "      <th>8</th>\n",
       "      <th>9</th>\n",
       "      <th>...</th>\n",
       "      <th>92</th>\n",
       "      <th>93</th>\n",
       "      <th>94</th>\n",
       "      <th>95</th>\n",
       "      <th>96</th>\n",
       "      <th>97</th>\n",
       "      <th>98</th>\n",
       "      <th>99</th>\n",
       "      <th>100</th>\n",
       "      <th>101</th>\n",
       "    </tr>\n",
       "    <tr>\n",
       "      <th>admitted</th>\n",
       "      <th></th>\n",
       "      <th></th>\n",
       "      <th></th>\n",
       "      <th></th>\n",
       "      <th></th>\n",
       "      <th></th>\n",
       "      <th></th>\n",
       "      <th></th>\n",
       "      <th></th>\n",
       "      <th></th>\n",
       "      <th></th>\n",
       "      <th></th>\n",
       "      <th></th>\n",
       "      <th></th>\n",
       "      <th></th>\n",
       "      <th></th>\n",
       "      <th></th>\n",
       "      <th></th>\n",
       "      <th></th>\n",
       "      <th></th>\n",
       "      <th></th>\n",
       "    </tr>\n",
       "  </thead>\n",
       "  <tbody>\n",
       "    <tr>\n",
       "      <th>0</th>\n",
       "      <td>242</td>\n",
       "      <td>27</td>\n",
       "      <td>58</td>\n",
       "      <td>148</td>\n",
       "      <td>83</td>\n",
       "      <td>570</td>\n",
       "      <td>40</td>\n",
       "      <td>1</td>\n",
       "      <td>13</td>\n",
       "      <td>36</td>\n",
       "      <td>...</td>\n",
       "      <td>107</td>\n",
       "      <td>313</td>\n",
       "      <td>355</td>\n",
       "      <td>71</td>\n",
       "      <td>3</td>\n",
       "      <td>236</td>\n",
       "      <td>60</td>\n",
       "      <td>85</td>\n",
       "      <td>0</td>\n",
       "      <td>778</td>\n",
       "    </tr>\n",
       "    <tr>\n",
       "      <th>1</th>\n",
       "      <td>15</td>\n",
       "      <td>3</td>\n",
       "      <td>6</td>\n",
       "      <td>12</td>\n",
       "      <td>6</td>\n",
       "      <td>39</td>\n",
       "      <td>4</td>\n",
       "      <td>1</td>\n",
       "      <td>1</td>\n",
       "      <td>1</td>\n",
       "      <td>...</td>\n",
       "      <td>5</td>\n",
       "      <td>80</td>\n",
       "      <td>26</td>\n",
       "      <td>2</td>\n",
       "      <td>5</td>\n",
       "      <td>32</td>\n",
       "      <td>6</td>\n",
       "      <td>18</td>\n",
       "      <td>1</td>\n",
       "      <td>44</td>\n",
       "    </tr>\n",
       "  </tbody>\n",
       "</table>\n",
       "<p>2 rows × 102 columns</p>\n",
       "</div>"
      ],
      "text/plain": [
       "Application Major  0    1    2    3    4    5    6    7    8    9    ...  92   \\\n",
       "admitted                                                             ...        \n",
       "0                  242   27   58  148   83  570   40    1   13   36  ...  107   \n",
       "1                   15    3    6   12    6   39    4    1    1    1  ...    5   \n",
       "\n",
       "Application Major  93   94   95   96   97   98   99   100  101  \n",
       "admitted                                                        \n",
       "0                  313  355   71    3  236   60   85    0  778  \n",
       "1                   80   26    2    5   32    6   18    1   44  \n",
       "\n",
       "[2 rows x 102 columns]"
      ]
     },
     "execution_count": 40,
     "metadata": {},
     "output_type": "execute_result"
    }
   ],
   "source": [
    "pd.crosstab(adm_data['admitted'],adm_data['Application Major'])"
   ]
  },
  {
   "cell_type": "code",
   "execution_count": 41,
   "metadata": {},
   "outputs": [
    {
     "data": {
      "text/html": [
       "<div>\n",
       "<style scoped>\n",
       "    .dataframe tbody tr th:only-of-type {\n",
       "        vertical-align: middle;\n",
       "    }\n",
       "\n",
       "    .dataframe tbody tr th {\n",
       "        vertical-align: top;\n",
       "    }\n",
       "\n",
       "    .dataframe thead th {\n",
       "        text-align: right;\n",
       "    }\n",
       "</style>\n",
       "<table border=\"1\" class=\"dataframe\">\n",
       "  <thead>\n",
       "    <tr style=\"text-align: right;\">\n",
       "      <th>Scholarship_Awarded</th>\n",
       "      <th>0</th>\n",
       "      <th>1</th>\n",
       "    </tr>\n",
       "    <tr>\n",
       "      <th>admitted</th>\n",
       "      <th></th>\n",
       "      <th></th>\n",
       "    </tr>\n",
       "  </thead>\n",
       "  <tbody>\n",
       "    <tr>\n",
       "      <th>0</th>\n",
       "      <td>2</td>\n",
       "      <td>10469</td>\n",
       "    </tr>\n",
       "    <tr>\n",
       "      <th>1</th>\n",
       "      <td>4</td>\n",
       "      <td>1454</td>\n",
       "    </tr>\n",
       "  </tbody>\n",
       "</table>\n",
       "</div>"
      ],
      "text/plain": [
       "Scholarship_Awarded  0      1\n",
       "admitted                     \n",
       "0                    2  10469\n",
       "1                    4   1454"
      ]
     },
     "execution_count": 41,
     "metadata": {},
     "output_type": "execute_result"
    }
   ],
   "source": [
    "pd.crosstab(adm_data['admitted'],adm_data['Scholarship_Awarded'])"
   ]
  },
  {
   "cell_type": "code",
   "execution_count": 42,
   "metadata": {},
   "outputs": [
    {
     "data": {
      "text/html": [
       "<div>\n",
       "<style scoped>\n",
       "    .dataframe tbody tr th:only-of-type {\n",
       "        vertical-align: middle;\n",
       "    }\n",
       "\n",
       "    .dataframe tbody tr th {\n",
       "        vertical-align: top;\n",
       "    }\n",
       "\n",
       "    .dataframe thead th {\n",
       "        text-align: right;\n",
       "    }\n",
       "</style>\n",
       "<table border=\"1\" class=\"dataframe\">\n",
       "  <thead>\n",
       "    <tr style=\"text-align: right;\">\n",
       "      <th>Person Sex_M</th>\n",
       "      <th>0</th>\n",
       "      <th>1</th>\n",
       "    </tr>\n",
       "    <tr>\n",
       "      <th>admitted</th>\n",
       "      <th></th>\n",
       "      <th></th>\n",
       "    </tr>\n",
       "  </thead>\n",
       "  <tbody>\n",
       "    <tr>\n",
       "      <th>0</th>\n",
       "      <td>6829</td>\n",
       "      <td>3642</td>\n",
       "    </tr>\n",
       "    <tr>\n",
       "      <th>1</th>\n",
       "      <td>957</td>\n",
       "      <td>501</td>\n",
       "    </tr>\n",
       "  </tbody>\n",
       "</table>\n",
       "</div>"
      ],
      "text/plain": [
       "Person Sex_M     0     1\n",
       "admitted                \n",
       "0             6829  3642\n",
       "1              957   501"
      ]
     },
     "execution_count": 42,
     "metadata": {},
     "output_type": "execute_result"
    }
   ],
   "source": [
    "#Person Sex_F and Person Sex_M vs admitted \n",
    "pd.crosstab(adm_data['admitted'],adm_data['Person Sex_M'])"
   ]
  },
  {
   "cell_type": "code",
   "execution_count": 43,
   "metadata": {},
   "outputs": [
    {
     "data": {
      "text/html": [
       "<div>\n",
       "<style scoped>\n",
       "    .dataframe tbody tr th:only-of-type {\n",
       "        vertical-align: middle;\n",
       "    }\n",
       "\n",
       "    .dataframe tbody tr th {\n",
       "        vertical-align: top;\n",
       "    }\n",
       "\n",
       "    .dataframe thead th {\n",
       "        text-align: right;\n",
       "    }\n",
       "</style>\n",
       "<table border=\"1\" class=\"dataframe\">\n",
       "  <thead>\n",
       "    <tr style=\"text-align: right;\">\n",
       "      <th>Person Sex_F</th>\n",
       "      <th>0</th>\n",
       "      <th>1</th>\n",
       "    </tr>\n",
       "    <tr>\n",
       "      <th>admitted</th>\n",
       "      <th></th>\n",
       "      <th></th>\n",
       "    </tr>\n",
       "  </thead>\n",
       "  <tbody>\n",
       "    <tr>\n",
       "      <th>0</th>\n",
       "      <td>3648</td>\n",
       "      <td>6823</td>\n",
       "    </tr>\n",
       "    <tr>\n",
       "      <th>1</th>\n",
       "      <td>502</td>\n",
       "      <td>956</td>\n",
       "    </tr>\n",
       "  </tbody>\n",
       "</table>\n",
       "</div>"
      ],
      "text/plain": [
       "Person Sex_F     0     1\n",
       "admitted                \n",
       "0             3648  6823\n",
       "1              502   956"
      ]
     },
     "execution_count": 43,
     "metadata": {},
     "output_type": "execute_result"
    }
   ],
   "source": [
    "#Person Sex_F and Person Sex_M vs admitted \n",
    "pd.crosstab(adm_data['admitted'],adm_data['Person Sex_F'])"
   ]
  },
  {
   "cell_type": "code",
   "execution_count": 44,
   "metadata": {},
   "outputs": [
    {
     "data": {
      "text/html": [
       "<div>\n",
       "<style scoped>\n",
       "    .dataframe tbody tr th:only-of-type {\n",
       "        vertical-align: middle;\n",
       "    }\n",
       "\n",
       "    .dataframe tbody tr th {\n",
       "        vertical-align: top;\n",
       "    }\n",
       "\n",
       "    .dataframe thead th {\n",
       "        text-align: right;\n",
       "    }\n",
       "</style>\n",
       "<table border=\"1\" class=\"dataframe\">\n",
       "  <thead>\n",
       "    <tr style=\"text-align: right;\">\n",
       "      <th>Application ACRK</th>\n",
       "      <th>1.000000</th>\n",
       "      <th>2.000000</th>\n",
       "      <th>3.000000</th>\n",
       "      <th>4.000000</th>\n",
       "      <th>4.009557</th>\n",
       "      <th>5.000000</th>\n",
       "      <th>6.000000</th>\n",
       "      <th>7.000000</th>\n",
       "    </tr>\n",
       "    <tr>\n",
       "      <th>admitted</th>\n",
       "      <th></th>\n",
       "      <th></th>\n",
       "      <th></th>\n",
       "      <th></th>\n",
       "      <th></th>\n",
       "      <th></th>\n",
       "      <th></th>\n",
       "      <th></th>\n",
       "    </tr>\n",
       "  </thead>\n",
       "  <tbody>\n",
       "    <tr>\n",
       "      <th>0</th>\n",
       "      <td>1502</td>\n",
       "      <td>1387</td>\n",
       "      <td>1404</td>\n",
       "      <td>1395</td>\n",
       "      <td>0</td>\n",
       "      <td>1801</td>\n",
       "      <td>1684</td>\n",
       "      <td>1298</td>\n",
       "    </tr>\n",
       "    <tr>\n",
       "      <th>1</th>\n",
       "      <td>277</td>\n",
       "      <td>197</td>\n",
       "      <td>182</td>\n",
       "      <td>199</td>\n",
       "      <td>1</td>\n",
       "      <td>215</td>\n",
       "      <td>231</td>\n",
       "      <td>156</td>\n",
       "    </tr>\n",
       "  </tbody>\n",
       "</table>\n",
       "</div>"
      ],
      "text/plain": [
       "Application ACRK  1.000000  2.000000  3.000000  4.000000  4.009557  5.000000  \\\n",
       "admitted                                                                       \n",
       "0                     1502      1387      1404      1395         0      1801   \n",
       "1                      277       197       182       199         1       215   \n",
       "\n",
       "Application ACRK  6.000000  7.000000  \n",
       "admitted                              \n",
       "0                     1684      1298  \n",
       "1                      231       156  "
      ]
     },
     "execution_count": 44,
     "metadata": {},
     "output_type": "execute_result"
    }
   ],
   "source": [
    "#Application ACRK vs admitted\n",
    "pd.crosstab(adm_data['admitted'],adm_data['Application ACRK'])"
   ]
  },
  {
   "cell_type": "code",
   "execution_count": 45,
   "metadata": {},
   "outputs": [
    {
     "name": "stdout",
     "output_type": "stream",
     "text": [
      "<class 'pandas.core.frame.DataFrame'>\n",
      "RangeIndex: 11929 entries, 0 to 11928\n",
      "Data columns (total 33 columns):\n",
      " #   Column                               Non-Null Count  Dtype  \n",
      "---  ------                               --------------  -----  \n",
      " 0   Application Major                    11929 non-null  int64  \n",
      " 1   Scholarship_Awarded                  11929 non-null  int64  \n",
      " 2   Application CGPA                     11929 non-null  float64\n",
      " 3   FAFSA Filed                          11929 non-null  int64  \n",
      " 4   Financial Aid Appeal                 11929 non-null  int64  \n",
      " 5   Accepted Student Day Event Attended  11929 non-null  int64  \n",
      " 6   Campus Visits - Person               11929 non-null  int64  \n",
      " 7   Campus Visits - App                  11929 non-null  int64  \n",
      " 8   Logins Before Admit                  11929 non-null  int64  \n",
      " 9   Acceptance Call Success              11929 non-null  int64  \n",
      " 10  Application Consider Test Scores     11929 non-null  int64  \n",
      " 11  Application ACRK                     11929 non-null  float64\n",
      " 12  Waitlist Confirmed Date              11929 non-null  int64  \n",
      " 13  Emails Sent                          11929 non-null  int64  \n",
      " 14  Emails Opened                        11929 non-null  int64  \n",
      " 15  Emails Opened Percentage             11913 non-null  float64\n",
      " 16  Was Inquiry                          11929 non-null  int64  \n",
      " 17  Application Housing_Commuter         11929 non-null  int64  \n",
      " 18  Application Housing_Residential      11929 non-null  int64  \n",
      " 19  Application Enroll Status_Full Time  11929 non-null  int64  \n",
      " 20  Application Enroll Status_Part Time  11929 non-null  int64  \n",
      " 21  Person Sex_F                         11929 non-null  int64  \n",
      " 22  Person Sex_M                         11929 non-null  int64  \n",
      " 23  Person Sex_Unknown                   11929 non-null  int64  \n",
      " 24  admitted                             11929 non-null  int64  \n",
      " 25  Application Span                     11929 non-null  int64  \n",
      " 26  High School Region_Midwest           11929 non-null  int64  \n",
      " 27  High School Region_Northeast         11929 non-null  int64  \n",
      " 28  High School Region_South             11929 non-null  int64  \n",
      " 29  High School Region_Southwest         11929 non-null  int64  \n",
      " 30  High School Region_West              11929 non-null  int64  \n",
      " 31  High School Region_nan               11929 non-null  int64  \n",
      " 32  Admission Span                       11929 non-null  float64\n",
      "dtypes: float64(4), int64(29)\n",
      "memory usage: 3.0 MB\n"
     ]
    }
   ],
   "source": [
    "adm_data.info()"
   ]
  },
  {
   "cell_type": "code",
   "execution_count": null,
   "metadata": {},
   "outputs": [],
   "source": []
  }
 ],
 "metadata": {
  "kernelspec": {
   "display_name": "base",
   "language": "python",
   "name": "python3"
  },
  "language_info": {
   "codemirror_mode": {
    "name": "ipython",
    "version": 3
   },
   "file_extension": ".py",
   "mimetype": "text/x-python",
   "name": "python",
   "nbconvert_exporter": "python",
   "pygments_lexer": "ipython3",
   "version": "3.12.7"
  }
 },
 "nbformat": 4,
 "nbformat_minor": 2
}
