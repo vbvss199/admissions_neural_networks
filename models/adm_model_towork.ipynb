{
  "nbformat": 4,
  "nbformat_minor": 0,
  "metadata": {
    "colab": {
      "provenance": [],
      "gpuType": "T4"
    },
    "kernelspec": {
      "name": "python3",
      "display_name": "Python 3"
    },
    "language_info": {
      "name": "python"
    },
    "accelerator": "GPU"
  },
  "cells": [
    {
      "cell_type": "code",
      "execution_count": 5,
      "metadata": {
        "id": "QL0nk30uJTNl"
      },
      "outputs": [],
      "source": [
        "#importing all the necessary libraries\n",
        "import torch\n",
        "import torch.nn as nn\n",
        "import torch.functional as F\n",
        "import pandas as pd\n",
        "import numpy as np\n",
        "import sys\n",
        "import matplotlib.pyplot as plt\n",
        "%matplotlib inline\n",
        "from sklearn.metrics import accuracy_score\n",
        "from sklearn.metrics import confusion_matrix\n",
        "from sklearn.metrics import precision_score\n",
        "from sklearn.metrics import f1_score\n",
        "from sklearn.metrics import matthews_corrcoef\n",
        "from sklearn.metrics import roc_auc_score\n",
        "from sklearn.model_selection import train_test_split\n",
        "from sklearn.utils.class_weight import compute_class_weight\n",
        "from torch.utils.data import DataLoader,TensorDataset, random_split, WeightedRandomSampler\n",
        "import torch.optim as optim\n",
        "from torchsummary import summary"
      ]
    },
    {
      "cell_type": "code",
      "source": [
        "data=pd.read_excel('total_fall_2023.xlsx')\n",
        "inputs=data.drop(['admitted'],axis=1).to_numpy()\n",
        "labels=data['admitted'].to_numpy()\n",
        "train_inputs, test_inputs, train_labels, test_labels = train_test_split(\n",
        "    inputs, labels, test_size=0.2, random_state=42, stratify=labels\n",
        ")\n",
        "# Convert to PyTorch tensors only once\n",
        "train_inputs = torch.from_numpy(train_inputs).float()\n",
        "test_inputs = torch.from_numpy(test_inputs).float()\n",
        "train_labels = torch.from_numpy(train_labels).int()\n",
        "test_labels = torch.from_numpy(test_labels).int()\n",
        "input_embedding_dimension=len(set(inputs[:,0]))\n",
        "input_embedding_dimension\n",
        "#The TensorDataset class in PyTorch is a utility class that is used to wrap data tensors (such as features and labels)\n",
        "#This class is particularly useful when you want to work with datasets where features and labels are already stored as tensors.\n",
        "train_dataset = TensorDataset(train_inputs, train_labels)\n",
        "test_dataset = TensorDataset(test_inputs, test_labels)\n",
        "train_loader = DataLoader(train_dataset, batch_size=64, shuffle=True)\n",
        "test_loader = DataLoader(test_dataset, batch_size=64, shuffle=False)\n",
        "print(\"Checking train_inputs for NaN:\", torch.any(torch.isnan(train_inputs)))\n",
        "print(\"Checking train_inputs for Inf:\", torch.any(torch.isinf(train_inputs)))\n",
        "print(\"Checking train_labels for NaN:\", torch.any(torch.isnan(train_labels)))\n",
        "print(\"Checking train_labels for Inf:\", torch.any(torch.isinf(train_labels)))"
      ],
      "metadata": {
        "colab": {
          "base_uri": "https://localhost:8080/"
        },
        "id": "n6-DsjjLJa1S",
        "outputId": "f5038ba5-9ed9-40c1-cfd3-caf799e66cce"
      },
      "execution_count": null,
      "outputs": [
        {
          "output_type": "stream",
          "name": "stdout",
          "text": [
            "Checking train_inputs for NaN: tensor(False)\n",
            "Checking train_inputs for Inf: tensor(False)\n",
            "Checking train_labels for NaN: tensor(False)\n",
            "Checking train_labels for Inf: tensor(False)\n"
          ]
        }
      ]
    },
    {
      "cell_type": "code",
      "source": [
        "import torch\n",
        "import torch.nn as nn\n",
        "import torch.nn.functional as F\n",
        "import torch.optim as optim\n",
        "from sklearn.metrics import accuracy_score, precision_score, recall_score, f1_score, roc_auc_score\n",
        "\n",
        "class NeuralNetwork(nn.Module):\n",
        "    def __init__(self, i, h_size, h_next_size, h_next_next_size=32, n_classes=2,\n",
        "                 how_many_layers=4, embedding_dim=12,hs_embedding_dim=50):\n",
        "        super(NeuralNetwork, self).__init__()\n",
        "\n",
        "        features = i.shape[1]  # Total number of input features\n",
        "\n",
        "        self.major_embedding = nn.Embedding(input_embedding_dimension, embedding_dim)\n",
        "\n",
        "        #embedding layer for the high school codes\n",
        "        self.hs_embedding=nn.Embedding(len(set(inputs[:,4])),hs_embedding_dim)\n",
        "\n",
        "        # Input to fc1 will be (features - 2) continuous + embedding_dim\n",
        "        self.fc1 = nn.Linear(features - 2 + embedding_dim + hs_embedding_dim, h_size)\n",
        "        self.layers = how_many_layers\n",
        "\n",
        "        if self.layers == 2:\n",
        "            self.fc2 = nn.Linear(h_size, n_classes)\n",
        "        elif self.layers == 3:\n",
        "            self.fc3 = nn.Linear(h_size, h_next_size)\n",
        "            self.fc4 = nn.Linear(h_next_size, n_classes)\n",
        "        elif self.layers == 4:\n",
        "            self.fc3 = nn.Linear(h_size, h_next_size)\n",
        "            self.fc4 = nn.Linear(h_next_size, h_next_next_size)\n",
        "            self.fc5 = nn.Linear(h_next_next_size, n_classes)\n",
        "\n",
        "    def forward(self, X):\n",
        "        # Ensure input is float and extract categorical/continuous features\n",
        "        categorical_input = X[:, 0].long()  # First column: categorical (encoded)\n",
        "        hs_input = X[:, 4].long()\n",
        "\n",
        "        #continuous_input = X[:, 1:].float() # Rest: continuous features\n",
        "        continuous_indices = [i for i in range(X.shape[1]) if i not in [0, 4]]\n",
        "        continuous_input = X[:, continuous_indices].float()\n",
        "\n",
        "        # Apply embedding\n",
        "        embedded = self.major_embedding(categorical_input)  # Shape: [batch_size, embedding_dim]\n",
        "        hs_embedded = self.hs_embedding(hs_input)\n",
        "\n",
        "        # Concatenate with continuous features\n",
        "        X = torch.cat((embedded,hs_embedded, continuous_input), dim=1)  # Shape: [batch_size, embedding_dim + (features-1)]\n",
        "\n",
        "        if self.layers == 2:\n",
        "            X = F.relu(self.fc1(X))\n",
        "            X = self.fc2(X)\n",
        "        elif self.layers == 3:\n",
        "            X = F.relu(self.fc1(X))\n",
        "            X = F.relu(self.fc3(X))\n",
        "            X = self.fc4(X)\n",
        "        elif self.layers == 4:\n",
        "            X = F.relu(self.fc1(X))\n",
        "            X = torch.tanh(self.fc3(X))\n",
        "            X = F.sigmoid(self.fc4(X))\n",
        "            X = self.fc5(X)\n",
        "\n",
        "        return X\n",
        "\n",
        "\n",
        "net = NeuralNetwork(inputs, h_size=16, h_next_size=22, how_many_layers=4)\n",
        "print(f\"Expected input features to fc1: {train_inputs.shape[1] - 1 + 8}\")  # Debug print\n",
        "print(f\"fc1 weight shape: {net.fc1.weight.shape}\")  # Debug printn_epochs = 600\n",
        "\n",
        "\n",
        "n_epochs = 600\n",
        "learning_rate = 0.0001\n",
        "decay_rate = learning_rate / n_epochs\n",
        "optimizer = optim.Adam(net.parameters(), lr=learning_rate, weight_decay=decay_rate)\n",
        "lambda_reg = 0.01\n",
        "lambda_entropy = 0\n",
        "\n",
        "\n",
        "def loss_fn(model, outputs, targets):\n",
        "    # Convert labels to numpy\n",
        "    y_train = train_labels.numpy()\n",
        "\n",
        "    # Compute class weights\n",
        "    class_weights = compute_class_weight(class_weight=\"balanced\", classes=np.unique(y_train), y=y_train)\n",
        "\n",
        "    # Convert to PyTorch tensor\n",
        "    class_weights_tensor = torch.tensor(class_weights, dtype=torch.float32)\n",
        "\n",
        "    cross_entropy = nn.functional.cross_entropy(outputs, targets,weight=class_weights_tensor)\n",
        "    l2_regularization = 0\n",
        "    entropy_regularization = 0\n",
        "\n",
        "    for param in model.parameters():\n",
        "        l2_regularization += torch.norm(param, p=2) ** 2\n",
        "        entropy_regularization += torch.mean(torch.sum(-outputs * torch.log(outputs), dim=1))\n",
        "\n",
        "    loss = cross_entropy + lambda_reg * l2_regularization\n",
        "    return loss\n",
        "\n",
        "def test_instance(model):\n",
        "    y_t = []\n",
        "    y_s = []\n",
        "    loss = 0\n",
        "    acc = 0\n",
        "\n",
        "    with torch.no_grad():\n",
        "        for inputs, labels in test_loader:\n",
        "            outputs = model(inputs)\n",
        "            loss += loss_fn(model, outputs, labels.long())\n",
        "            y_t.extend(labels.numpy().astype('int'))\n",
        "            y_s.extend(torch.sigmoid(outputs).max(axis=1).indices.numpy())\n",
        "\n",
        "    acc = accuracy_score(y_t, y_s)\n",
        "    return loss, acc\n",
        "\n",
        "iteration = 0\n",
        "counter = 0\n",
        "\n",
        "for epoch in range(n_epochs):\n",
        "    running_loss = 0.0\n",
        "    total = 0  # No. of total predictions\n",
        "    correct = 0  # No. of correct predictions\n",
        "\n",
        "    for i, (inputs, labels) in enumerate(train_loader):\n",
        "        optimizer.zero_grad()\n",
        "        outputs = net(inputs)\n",
        "        loss = loss_fn(net, outputs, labels.long())\n",
        "        loss.backward()\n",
        "        optimizer.step()\n",
        "\n",
        "        running_loss += loss.item() * inputs.size(0)\n",
        "        _, predicted = torch.max(outputs.data, 1)\n",
        "        total += labels.size(0)\n",
        "        correct += (predicted == labels).sum().item()\n",
        "    epoch_loss = running_loss / len(train_loader.dataset)  # Loss in every epoch\n",
        "    epoch_acc = correct / total  # Accuracy for every epoch\n",
        "\n",
        "    if epoch % 10 == 0 or epoch == n_epochs - 1:\n",
        "        print(f'Epoch: {epoch + 1}/{n_epochs} | pLoss: {running_loss / len(inputs)} | Accuracy: {epoch_acc} | Loss: {epoch_loss}')\n",
        "\n",
        "    if epoch % 50 == 0:\n",
        "        test_loss, test_acc = test_instance(net)\n",
        "        print(f'Epoch: {epoch + 1} | The test data Accuracy = {test_acc} | Test Loss = {test_loss}')\n",
        "\n",
        "        if counter < test_acc:\n",
        "            save_net = net\n",
        "            counter = test_acc\n",
        "\n",
        "y_true = []\n",
        "y_scores = []\n",
        "test_loss = 0\n",
        "\n",
        "with torch.no_grad():\n",
        "    for inputs, labels in test_loader:\n",
        "        outputs = save_net(inputs)\n",
        "        test_loss += loss_fn(net, outputs, labels.long())\n",
        "        y_true.extend(labels.numpy().astype('int'))\n",
        "        y_scores.extend(torch.sigmoid(outputs).max(axis=1).indices.numpy())\n",
        "\n",
        "\n",
        "accuracy = accuracy_score(y_true, y_scores)\n",
        "precision = precision_score(y_true, y_scores)\n",
        "recall = recall_score(y_true, y_scores)\n",
        "f1_val = f1_score(y_true, y_scores)\n",
        "auc_roc = roc_auc_score(y_true, y_scores)\n",
        "\n",
        "print('Accuracy: {:.4f}'.format(accuracy))\n",
        "print('Precision: {:.4f}'.format(precision))\n",
        "print('Recall: {:.4f}'.format(recall))\n",
        "print('F1 Score: {:.4f}'.format(f1_val))\n",
        "print('AUROC Score: {:.4f}'.format(auc_roc))\n"
      ],
      "metadata": {
        "colab": {
          "base_uri": "https://localhost:8080/"
        },
        "id": "datHSXz-Jpzc",
        "outputId": "f9e4a21e-e58f-40ae-ebe7-ef8ca1e1de27"
      },
      "execution_count": null,
      "outputs": [
        {
          "output_type": "stream",
          "name": "stdout",
          "text": [
            "Expected input features to fc1: 55\n",
            "fc1 weight shape: torch.Size([16, 108])\n",
            "Epoch: 1/600 | pLoss: 2017659.4262225812 | Accuracy: 0.4523305690591936 | Loss: 1500.1185325074953\n",
            "Epoch: 1 | The test data Accuracy = 0.9153705397987191 | Test Loss = 101251.7265625\n",
            "Epoch: 11/600 | pLoss: 1305273.2278442383 | Accuracy: 0.9440663425793537 | Loss: 970.4633664269429\n",
            "Epoch: 21/600 | pLoss: 824569.9243868315 | Accuracy: 0.946525593365742 | Loss: 613.0631408080532\n",
            "Epoch: 31/600 | pLoss: 500501.5173034668 | Accuracy: 0.9493279954246497 | Loss: 372.1200872144735\n",
            "Epoch: 41/600 | pLoss: 290506.6793400691 | Accuracy: 0.9506434086359737 | Loss: 215.99009616362017\n",
            "Epoch: 51/600 | pLoss: 160872.88348329984 | Accuracy: 0.9516156705747784 | Loss: 119.60809180914487\n",
            "Epoch: 51 | The test data Accuracy = 0.9375571820677036 | Test Loss = 8000.3525390625\n",
            "Epoch: 61/600 | pLoss: 84857.80078183688 | Accuracy: 0.9512153274235059 | Loss: 63.091301696532994\n",
            "Epoch: 71/600 | pLoss: 42575.58211150536 | Accuracy: 0.9516156705747784 | Loss: 31.654707889595066\n",
            "Epoch: 81/600 | pLoss: 20342.368607667777 | Accuracy: 0.9529882756648556 | Loss: 15.124437626518793\n",
            "Epoch: 91/600 | pLoss: 9309.812233191271 | Accuracy: 0.9529310837861024 | Loss: 6.921793481926595\n",
            "Epoch: 101/600 | pLoss: 4151.92657830165 | Accuracy: 0.9521303974835573 | Loss: 3.0869342589603344\n",
            "Epoch: 101 | The test data Accuracy = 0.9478499542543458 | Test Loss = 204.9492950439453\n",
            "Epoch: 111/600 | pLoss: 1885.1097031648342 | Accuracy: 0.9520732056048041 | Loss: 1.4015685525389103\n",
            "Epoch: 121/600 | pLoss: 940.3965651347087 | Accuracy: 0.9525307406348299 | Loss: 0.6991796023306385\n",
            "Epoch: 131/600 | pLoss: 556.2331691292616 | Accuracy: 0.9528738919073492 | Loss: 0.41355625957565917\n",
            "Epoch: 141/600 | pLoss: 399.9802761352979 | Accuracy: 0.9524735487560766 | Loss: 0.297383104933307\n",
            "Epoch: 151/600 | pLoss: 340.317910613922 | Accuracy: 0.9520160137260509 | Loss: 0.25302446885793456\n",
            "Epoch: 151 | The test data Accuracy = 0.9476212259835316 | Test Loss = 17.772523880004883\n",
            "Epoch: 161/600 | pLoss: 315.8349196979633 | Accuracy: 0.9523591649985702 | Loss: 0.23482150163417345\n",
            "Epoch: 171/600 | pLoss: 308.0128924869574 | Accuracy: 0.9524163568773234 | Loss: 0.2290058680200427\n",
            "Epoch: 181/600 | pLoss: 309.14019134869943 | Accuracy: 0.9525307406348299 | Loss: 0.22984400843769473\n",
            "Epoch: 191/600 | pLoss: 305.93718780347933 | Accuracy: 0.9520732056048041 | Loss: 0.22746259316243816\n",
            "Epoch: 201/600 | pLoss: 306.64111171318933 | Accuracy: 0.9519016299685444 | Loss: 0.2279859566640813\n",
            "Epoch: 201 | The test data Accuracy = 0.9499085086916743 | Test Loss = 16.28359603881836\n",
            "Epoch: 211/600 | pLoss: 306.95259577035904 | Accuracy: 0.9512725193022591 | Loss: 0.22821754332368702\n",
            "Epoch: 221/600 | pLoss: 307.6117542202656 | Accuracy: 0.9526451243923363 | Loss: 0.2287076239555878\n",
            "Epoch: 231/600 | pLoss: 306.1677009188212 | Accuracy: 0.9525307406348299 | Loss: 0.2276339783783057\n",
            "Epoch: 241/600 | pLoss: 306.83717217697546 | Accuracy: 0.9522447812410638 | Loss: 0.22813172652563232\n",
            "Epoch: 251/600 | pLoss: 304.6760292649269 | Accuracy: 0.9527595081498427 | Loss: 0.226524928821507\n",
            "Epoch: 251 | The test data Accuracy = 0.946248856358646 | Test Loss = 16.251623153686523\n",
            "Epoch: 261/600 | pLoss: 306.84456770007426 | Accuracy: 0.9528738919073492 | Loss: 0.2281372250558173\n",
            "Epoch: 271/600 | pLoss: 308.1779079391406 | Accuracy: 0.9512153274235059 | Loss: 0.22912855608858038\n",
            "Epoch: 281/600 | pLoss: 304.9755477446776 | Accuracy: 0.9537317700886474 | Loss: 0.22674761914102426\n",
            "Epoch: 291/600 | pLoss: 305.80014711847673 | Accuracy: 0.9533314269373749 | Loss: 0.2273607041773061\n",
            "Epoch: 301/600 | pLoss: 306.2692515850067 | Accuracy: 0.953102659422362 | Loss: 0.227709480732347\n",
            "Epoch: 301 | The test data Accuracy = 0.9350411710887465 | Test Loss = 16.36490821838379\n",
            "Epoch: 311/600 | pLoss: 306.91610715022455 | Accuracy: 0.952301973119817 | Loss: 0.22819041423808517\n",
            "Epoch: 321/600 | pLoss: 305.5480485856533 | Accuracy: 0.9538461538461539 | Loss: 0.2271732703239058\n",
            "Epoch: 331/600 | pLoss: 306.7156423238608 | Accuracy: 0.9520160137260509 | Loss: 0.2280413697575173\n",
            "Epoch: 341/600 | pLoss: 306.2228778474606 | Accuracy: 0.953102659422362 | Loss: 0.2276750021170711\n",
            "Epoch: 351/600 | pLoss: 306.8190847635269 | Accuracy: 0.9529882756648556 | Loss: 0.2281182786345925\n",
            "Epoch: 351 | The test data Accuracy = 0.9428179322964318 | Test Loss = 16.195261001586914\n",
            "Epoch: 361/600 | pLoss: 307.35892890164484 | Accuracy: 0.9527023162710895 | Loss: 0.2285196497409999\n",
            "Epoch: 371/600 | pLoss: 306.2842001869128 | Accuracy: 0.9524735487560766 | Loss: 0.2277205949345077\n",
            "Epoch: 381/600 | pLoss: 305.11536758221115 | Accuracy: 0.952816700028596 | Loss: 0.2268515744105659\n",
            "Epoch: 391/600 | pLoss: 306.69463572937707 | Accuracy: 0.9532742350586216 | Loss: 0.22802575147165582\n",
            "Epoch: 401/600 | pLoss: 306.22664271868194 | Accuracy: 0.9527595081498427 | Loss: 0.22767780127783044\n",
            "Epoch: 401 | The test data Accuracy = 0.9471637694419031 | Test Loss = 16.211977005004883\n",
            "Epoch: 411/600 | pLoss: 308.454077314872 | Accuracy: 0.9528738919073492 | Loss: 0.22933388647945874\n",
            "Epoch: 421/600 | pLoss: 305.1149493387112 | Accuracy: 0.9527595081498427 | Loss: 0.22685126344885592\n",
            "Epoch: 431/600 | pLoss: 305.80501893850476 | Accuracy: 0.9524163568773234 | Loss: 0.22736432634833065\n",
            "Epoch: 441/600 | pLoss: 305.85874878213957 | Accuracy: 0.9518444380897912 | Loss: 0.22740427418746437\n",
            "Epoch: 451/600 | pLoss: 306.2684274430458 | Accuracy: 0.9522447812410638 | Loss: 0.22770886798739468\n",
            "Epoch: 451 | The test data Accuracy = 0.9469350411710887 | Test Loss = 16.236148834228516\n",
            "Epoch: 461/600 | pLoss: 304.58620006763016 | Accuracy: 0.952301973119817 | Loss: 0.22645814131422318\n",
            "Epoch: 471/600 | pLoss: 304.7599915770384 | Accuracy: 0.952816700028596 | Loss: 0.22658735433237057\n",
            "Epoch: 481/600 | pLoss: 306.1557357265399 | Accuracy: 0.9524735487560766 | Loss: 0.227625082324565\n",
            "Epoch: 491/600 | pLoss: 306.2018496921429 | Accuracy: 0.9515584786960252 | Loss: 0.22765936780084975\n",
            "Epoch: 501/600 | pLoss: 306.6209885615569 | Accuracy: 0.9525307406348299 | Loss: 0.22797099521305345\n",
            "Epoch: 501 | The test data Accuracy = 0.9448764867337603 | Test Loss = 16.213184356689453\n",
            "Epoch: 511/600 | pLoss: 306.0721684556741 | Accuracy: 0.9531598513011152 | Loss: 0.22756295052466477\n",
            "Epoch: 521/600 | pLoss: 303.96308801265866 | Accuracy: 0.9525879325135831 | Loss: 0.22599486097595436\n",
            "Epoch: 531/600 | pLoss: 305.5610382121343 | Accuracy: 0.952301973119817 | Loss: 0.22718292803876156\n",
            "Epoch: 541/600 | pLoss: 305.05342957148184 | Accuracy: 0.9529882756648556 | Loss: 0.2268055238449679\n",
            "Epoch: 551/600 | pLoss: 306.12830048341016 | Accuracy: 0.9524163568773234 | Loss: 0.22760468437428266\n",
            "Epoch: 551 | The test data Accuracy = 0.942131747483989 | Test Loss = 16.20037841796875\n",
            "Epoch: 561/600 | pLoss: 305.4110313332998 | Accuracy: 0.9521875893623105 | Loss: 0.2270713987608177\n",
            "Epoch: 571/600 | pLoss: 306.1722444983629 | Accuracy: 0.9532170431798684 | Loss: 0.22763735650435904\n",
            "Epoch: 581/600 | pLoss: 305.95879128804575 | Accuracy: 0.9525307406348299 | Loss: 0.22747865523274777\n",
            "Epoch: 591/600 | pLoss: 306.7289182417668 | Accuracy: 0.9526451243923363 | Loss: 0.22805124032845114\n",
            "Epoch: 600/600 | pLoss: 306.86242150114134 | Accuracy: 0.951787246211038 | Loss: 0.22815049925735414\n",
            "Accuracy: 0.9474\n",
            "Precision: 0.7322\n",
            "Recall: 0.9461\n",
            "F1 Score: 0.8255\n",
            "AUROC Score: 0.9468\n"
          ]
        }
      ]
    },
    {
      "cell_type": "code",
      "source": [
        "save_net"
      ],
      "metadata": {
        "colab": {
          "base_uri": "https://localhost:8080/"
        },
        "id": "StkwWwklEq4g",
        "outputId": "91cf340b-0e5b-4bb7-d477-9b842ff3d86d"
      },
      "execution_count": null,
      "outputs": [
        {
          "output_type": "execute_result",
          "data": {
            "text/plain": [
              "NeuralNetwork(\n",
              "  (major_embedding): Embedding(102, 12)\n",
              "  (hs_embedding): Embedding(3032, 50)\n",
              "  (fc1): Linear(in_features=108, out_features=16, bias=True)\n",
              "  (fc3): Linear(in_features=16, out_features=22, bias=True)\n",
              "  (fc4): Linear(in_features=22, out_features=32, bias=True)\n",
              "  (fc5): Linear(in_features=32, out_features=2, bias=True)\n",
              ")"
            ]
          },
          "metadata": {},
          "execution_count": 51
        }
      ]
    },
    {
      "cell_type": "code",
      "source": [
        "import matplotlib.pyplot as plt\n",
        "import seaborn as sns\n",
        "from sklearn.metrics import confusion_matrix\n",
        "\n",
        "# Compute Confusion Matrix\n",
        "cm = confusion_matrix(y_true, y_scores)\n",
        "\n",
        "# Print the matrix\n",
        "print(\"Confusion Matrix:\\n\", cm)\n",
        "\n",
        "# Plot the Confusion Matrix\n",
        "plt.figure(figsize=(6, 5))\n",
        "sns.heatmap(cm, annot=True, fmt=\"d\", cmap=\"Blues\", xticklabels=['Negative', 'Positive'], yticklabels=['Negative', 'Positive'])\n",
        "plt.xlabel(\"Predicted Label\")\n",
        "plt.ylabel(\"True Label\")\n",
        "plt.title(\"Confusion Matrix\")\n",
        "plt.show()\n",
        "\n",
        "from sklearn.metrics import confusion_matrix\n",
        "\n",
        "# Compute Confusion Matrix\n",
        "cm = confusion_matrix(y_true, y_scores)\n",
        "\n",
        "# Extract TP, TN, FP, FN\n",
        "TN = cm[0, 0]  # True Negative\n",
        "FP = cm[0, 1]  # False Positive\n",
        "FN = cm[1, 0]  # False Negative\n",
        "TP = cm[1, 1]  # True Positive\n",
        "\n",
        "print(f\"True Positives (TP): {TP}\")\n",
        "print(f\"False Positives (FP): {FP}\")\n",
        "print(f\"True Negatives (TN): {TN}\")\n",
        "print(f\"False Negatives (FN): {FN}\")\n"
      ],
      "metadata": {
        "colab": {
          "base_uri": "https://localhost:8080/",
          "height": 612
        },
        "id": "z5wbGoq0JsJW",
        "outputId": "0944fd03-5cf5-4fef-a087-8846c016360d"
      },
      "execution_count": null,
      "outputs": [
        {
          "output_type": "stream",
          "name": "stdout",
          "text": [
            "Confusion Matrix:\n",
            " [[3598  199]\n",
            " [  31  544]]\n"
          ]
        },
        {
          "output_type": "display_data",
          "data": {
            "text/plain": [
              "<Figure size 600x500 with 2 Axes>"
            ],
            "image/png": "[encoded data removed]"
          },
          "metadata": {}
        },
        {
          "output_type": "stream",
          "name": "stdout",
          "text": [
            "True Positives (TP): 544\n",
            "False Positives (FP): 199\n",
            "True Negatives (TN): 3598\n",
            "False Negatives (FN): 31\n"
          ]
        }
      ]
    },
    {
      "cell_type": "code",
      "source": [
        "# Save the entire model (architecture + weights)\n",
        "torch.save(save_net, \"/content/full_model.pth\")\n",
        "print(\"Model saved successfully!\")\n"
      ],
      "metadata": {
        "colab": {
          "base_uri": "https://localhost:8080/"
        },
        "id": "S3HJOM5MRkK5",
        "outputId": "f7e9fbd8-388b-4ab7-9bb0-8b7a4fef51c5"
      },
      "execution_count": null,
      "outputs": [
        {
          "output_type": "stream",
          "name": "stdout",
          "text": [
            "Model saved successfully!\n"
          ]
        }
      ]
    },
    {
      "cell_type": "code",
      "source": [
        "import matplotlib.pyplot as plt\n",
        "import seaborn as sns\n",
        "from sklearn.metrics import confusion_matrix\n",
        "data_2023=pd.read_excel('/content/processed_fall_2023.xlsx')\n",
        "# Ensure that new_data has the same columns as the training data except for the target column\n",
        "print(data_2023.columns)\n",
        "new_data = data_2023[data_2023.drop(['admitted'], axis=1).columns]\n",
        "print(new_data.shape[1])\n",
        "data_2023_labels=data_2023['admitted'].to_numpy()\n",
        "\n",
        "# Load the trained model\n",
        "#mymodel = torch.load(\"total_fall.pth\")\n",
        "\n",
        "\n",
        "\n",
        "# Make sure new_data is a PyTorch tensor\n",
        "new_data_tensor = torch.from_numpy(new_data.to_numpy()).float()\n",
        "\n",
        "# Perform inference on the new data\n",
        "with torch.no_grad():\n",
        "    # Assuming your model is saved in 'save_net' after training\n",
        "    outputs = save_net(new_data_tensor)\n",
        "\n",
        "# Get predicted class labels from the outputs\n",
        "predictions = torch.argmax(outputs, dim=1)\n",
        "\n",
        "# If you want the predicted probabilities, you can use:\n",
        "# probabilities = torch.softmax(outputs, dim=1)\n",
        "\n",
        "# Convert predictions to numpy for further processing\n",
        "predictions = predictions.numpy()\n",
        "\n",
        "print(\"Predictions on new data:\")\n",
        "print(predictions)\n",
        "print(len(predictions))\n",
        "\n",
        "\n",
        "accuracy = accuracy_score(data_2023_labels,predictions)\n",
        "precision = precision_score(data_2023_labels,predictions)\n",
        "recall = recall_score(data_2023_labels, predictions)\n",
        "f1_val = f1_score(data_2023_labels, predictions)\n",
        "auc_roc = roc_auc_score(data_2023_labels, predictions)\n",
        "\n",
        "print('Accuracy: {:.4f}'.format(accuracy))\n",
        "print('Precision: {:.4f}'.format(precision))\n",
        "print('Recall: {:.4f}'.format(recall))\n",
        "print('F1 Score: {:.4f}'.format(f1_val))\n",
        "print('AUROC Score: {:.4f}'.format(auc_roc))\n",
        "\n",
        "# Compute Confusion Matrix\n",
        "cm = confusion_matrix(data_2023_labels,predictions)\n",
        "\n",
        "# Plot the Confusion Matrix\n",
        "plt.figure(figsize=(6, 5))\n",
        "sns.heatmap(cm, annot=True, fmt=\"d\", cmap=\"Blues\", xticklabels=['Negative', 'Positive'], yticklabels=['Negative', 'Positive'])\n",
        "plt.xlabel(\"Predicted Label\")\n",
        "plt.ylabel(\"True Label\")\n",
        "plt.title(\"Confusion Matrix\")\n",
        "plt.show()\n",
        "\n",
        "from sklearn.metrics import confusion_matrix\n",
        "\n",
        "# Compute Confusion Matrix\n",
        "cm = confusion_matrix(data_2023_labels,predictions)\n",
        "\n",
        "# Extract TP, TN, FP, FN\n",
        "TN = cm[0, 0]  # True Negative\n",
        "FP = cm[0, 1]  # False Positive\n",
        "FN = cm[1, 0]  # False Negative\n",
        "TP = cm[1, 1]  # True Positive\n",
        "\n",
        "print(f\"True Positives (TP): {TP}\")\n",
        "print(f\"False Positives (FP): {FP}\")\n",
        "print(f\"True Negatives (TN): {TN}\")\n",
        "print(f\"False Negatives (FN): {FN}\")\n"
      ],
      "metadata": {
        "colab": {
          "base_uri": "https://localhost:8080/",
          "height": 1000
        },
        "id": "4PK7IdYKPL4-",
        "outputId": "d6154027-d49c-4fdc-c0ce-9589f0a0c705"
      },
      "execution_count": null,
      "outputs": [
        {
          "output_type": "stream",
          "name": "stdout",
          "text": [
            "Index(['Application Major', 'Scholarship_Awarded', 'Application CGPA',\n",
            "       'FAFSA Filed', 'High School Code', 'Financial Aid Appeal',\n",
            "       'Accepted Student Day Event Attended', 'Campus Visits - Person',\n",
            "       'Campus Visits - App', 'Logins Before Admit', 'Acceptance Call Success',\n",
            "       'Application Consider Test Scores', 'Application ACRK',\n",
            "       'Waitlist Confirmed Date', 'Emails Sent', 'Emails Opened',\n",
            "       'Was Inquiry', 'Athlete', 'admitted', 'Address 1 Region_Midwest',\n",
            "       'Address 1 Region_Northeast', 'Address 1 Region_South',\n",
            "       'Address 1 Region_Southwest', 'Address 1 Region_Territory',\n",
            "       'Address 1 Region_West', 'Application Housing_Commuter',\n",
            "       'Application Housing_Residential',\n",
            "       'Application Enroll Status_Full Time',\n",
            "       'Application Enroll Status_Part Time', 'Person Sex_F', 'Person Sex_M',\n",
            "       'High School Region_Midwest', 'High School Region_Northeast',\n",
            "       'High School Region_South', 'High School Region_Southwest',\n",
            "       'High School Region_Territory', 'High School Region_West',\n",
            "       'Application Span', 'Admission Span', 'Application College_00',\n",
            "       'Application College_CAS', 'Application College_COB',\n",
            "       'Application College_HCLC', 'Application College_ID',\n",
            "       'Application College_SHS', 'Application College_TCOE',\n",
            "       'Address 1 Region_Military', 'High School Region_Military',\n",
            "       'Person Sex_Unknown'],\n",
            "      dtype='object')\n",
            "48\n",
            "Predictions on new data:\n",
            "[1 0 0 ... 0 1 1]\n",
            "9834\n",
            "Accuracy: 0.9481\n",
            "Precision: 0.7532\n",
            "Recall: 0.9489\n",
            "F1 Score: 0.8398\n",
            "AUROC Score: 0.9485\n"
          ]
        },
        {
          "output_type": "display_data",
          "data": {
            "text/plain": [
              "<Figure size 600x500 with 2 Axes>"
            ],
            "image/png": "[encoded data removed]"
          },
          "metadata": {}
        },
        {
          "output_type": "stream",
          "name": "stdout",
          "text": [
            "True Positives (TP): 1337\n",
            "False Positives (FP): 438\n",
            "True Negatives (TN): 7987\n",
            "False Negatives (FN): 72\n"
          ]
        }
      ]
    },
    {
      "cell_type": "markdown",
      "source": [
        "## fall 2025 inference"
      ],
      "metadata": {
        "id": "4hJfPWQQxMKL"
      }
    },
    {
      "cell_type": "code",
      "source": [
        "import matplotlib.pyplot as plt\n",
        "import seaborn as sns\n",
        "from sklearn.metrics import confusion_matrix\n",
        "data_2023=pd.read_excel('/content/processed_fall_2025_031025.xlsx')\n",
        "#data_2023 = data_2023_ref[data_2023_ref.drop(['Application Reference ID'], axis=1).columns]\n",
        "\n",
        "# Ensure that new_data has the same columns as the training data except for the target column\n",
        "print(data_2023.columns)\n",
        "new_data = data_2023[data_2023.drop(['admitted'], axis=1).columns]\n",
        "print(new_data.shape[1])\n",
        "data_2023_labels=data_2023['admitted'].to_numpy()\n",
        "\n",
        "# Load the trained model\n",
        "#mymodel = torch.load(\"total_fall.pth\")\n",
        "\n",
        "# 1. Create a mapping for the categorical feature (first column)\n",
        "# Assuming 'data' is your training DataFrame\n",
        "categorical_mapping = {category: index for index, category in enumerate(data['Application Major'].unique())}\n",
        "\n",
        "# 2. Apply mapping to new data\n",
        "new_data['Application Major'] = new_data['Application Major'].map(categorical_mapping)\n",
        "# Handle unseen categories (assign them to a default value, e.g., 0)\n",
        "new_data['Application Major'] = new_data['Application Major'].fillna(0).astype(int)\n",
        "\n",
        "save_net=\n",
        "# Make sure new_data is a PyTorch tensor\n",
        "new_data_tensor = torch.from_numpy(new_data.to_numpy()).float()\n",
        "\n",
        "# Perform inference on the new data\n",
        "with torch.no_grad():\n",
        "    # Assuming your model is saved in 'save_net' after training\n",
        "    outputs = save_net(new_data_tensor)\n",
        "\n",
        "# Get predicted class labels from the outputs\n",
        "predictions = torch.argmax(outputs, dim=1)\n",
        "\n",
        "# If you want the predicted probabilities, you can use:\n",
        "# probabilities = torch.softmax(outputs, dim=1)\n",
        "\n",
        "# Convert predictions to numpy for further processing\n",
        "predictions = predictions.numpy()\n",
        "count_ones = (predictions == 1).sum()\n",
        "print(f\"Number of 1s in predictions: {count_ones}\")\n",
        "print(\"Predictions on new data:\")\n",
        "print(predictions)\n",
        "print(len(predictions))\n",
        "\n",
        "\n",
        "accuracy = accuracy_score(data_2023_labels,predictions)\n",
        "precision = precision_score(data_2023_labels,predictions)\n",
        "recall = recall_score(data_2023_labels, predictions)\n",
        "f1_val = f1_score(data_2023_labels, predictions)\n",
        "auc_roc = roc_auc_score(data_2023_labels, predictions)\n",
        "\n",
        "print('Accuracy: {:.4f}'.format(accuracy))\n",
        "print('Precision: {:.4f}'.format(precision))\n",
        "print('Recall: {:.4f}'.format(recall))\n",
        "print('F1 Score: {:.4f}'.format(f1_val))\n",
        "print('AUROC Score: {:.4f}'.format(auc_roc))\n",
        "\n",
        "# Compute Confusion Matrix\n",
        "cm = confusion_matrix(data_2023_labels,predictions)\n",
        "\n",
        "# Plot the Confusion Matrix\n",
        "plt.figure(figsize=(6, 5))\n",
        "sns.heatmap(cm, annot=True, fmt=\"d\", cmap=\"Blues\", xticklabels=['Negative', 'Positive'], yticklabels=['Negative', 'Positive'])\n",
        "plt.xlabel(\"Predicted Label\")\n",
        "plt.ylabel(\"True Label\")\n",
        "plt.title(\"Confusion Matrix\")\n",
        "plt.show()\n",
        "\n",
        "from sklearn.metrics import confusion_matrix\n",
        "\n",
        "# Compute Confusion Matrix\n",
        "cm = confusion_matrix(data_2023_labels,predictions)\n",
        "\n",
        "# Extract TP, TN, FP, FN\n",
        "TN = cm[0, 0]  # True Negative\n",
        "FP = cm[0, 1]  # False Positive\n",
        "FN = cm[1, 0]  # False Negative\n",
        "TP = cm[1, 1]  # True Positive\n",
        "\n",
        "print(f\"True Positives (TP): {TP}\")\n",
        "print(f\"False Positives (FP): {FP}\")\n",
        "print(f\"True Negatives (TN): {TN}\")\n",
        "print(f\"False Negatives (FN): {FN}\")\n"
      ],
      "metadata": {
        "colab": {
          "base_uri": "https://localhost:8080/",
          "height": 662
        },
        "id": "AeBd0g96wbRS",
        "outputId": "f6da08b3-74ce-477a-a1ee-678e5ab8162a"
      },
      "execution_count": 9,
      "outputs": [
        {
          "output_type": "stream",
          "name": "stdout",
          "text": [
            "Index(['Application Major', 'Scholarship_Awarded', 'Application CGPA',\n",
            "       'FAFSA Filed', 'High School Code', 'Financial Aid Appeal',\n",
            "       'Accepted Student Day Event Attended', 'Campus Visits - Person',\n",
            "       'Campus Visits - App', 'Logins Before Admit', 'Acceptance Call Success',\n",
            "       'Application Consider Test Scores', 'Application ACRK',\n",
            "       'Waitlist Confirmed Date', 'Emails Sent', 'Emails Opened',\n",
            "       'Was Inquiry', 'Athlete', 'admitted', 'Address 1 Region_Midwest',\n",
            "       'Address 1 Region_Northeast', 'Address 1 Region_South',\n",
            "       'Address 1 Region_Southwest', 'Address 1 Region_Territory',\n",
            "       'Address 1 Region_West', 'Application Housing_Commuter',\n",
            "       'Application Housing_Residential',\n",
            "       'Application Enroll Status_Full Time',\n",
            "       'Application Enroll Status_Part Time', 'Person Sex_F', 'Person Sex_M',\n",
            "       'Person Sex_Unknown', 'High School Region_Midwest',\n",
            "       'High School Region_Northeast', 'High School Region_South',\n",
            "       'High School Region_Southwest', 'High School Region_Territory',\n",
            "       'High School Region_West', 'Application Span', 'Admission Span',\n",
            "       'Application College_CAS', 'Application College_COB',\n",
            "       'Application College_HCLC', 'Application College_ID',\n",
            "       'Application College_SHS', 'Application College_TCOE',\n",
            "       'Application College_00', 'Address 1 Region_Military',\n",
            "       'High School Region_Military'],\n",
            "      dtype='object')\n",
            "48\n"
          ]
        },
        {
          "output_type": "error",
          "ename": "IndexError",
          "evalue": "only integers, slices (`:`), ellipsis (`...`), numpy.newaxis (`None`) and integer or boolean arrays are valid indices",
          "traceback": [
            "\u001b[0;31m---------------------------------------------------------------------------\u001b[0m",
            "\u001b[0;31mIndexError\u001b[0m                                Traceback (most recent call last)",
            "\u001b[0;32m<ipython-input-9-5c349ff349f5>\u001b[0m in \u001b[0;36m<cell line: 0>\u001b[0;34m()\u001b[0m\n\u001b[1;32m     16\u001b[0m \u001b[0;31m# 1. Create a mapping for the categorical feature (first column)\u001b[0m\u001b[0;34m\u001b[0m\u001b[0;34m\u001b[0m\u001b[0m\n\u001b[1;32m     17\u001b[0m \u001b[0;31m# Assuming 'data' is your training DataFrame\u001b[0m\u001b[0;34m\u001b[0m\u001b[0;34m\u001b[0m\u001b[0m\n\u001b[0;32m---> 18\u001b[0;31m \u001b[0mcategorical_mapping\u001b[0m \u001b[0;34m=\u001b[0m \u001b[0;34m{\u001b[0m\u001b[0mcategory\u001b[0m\u001b[0;34m:\u001b[0m \u001b[0mindex\u001b[0m \u001b[0;32mfor\u001b[0m \u001b[0mindex\u001b[0m\u001b[0;34m,\u001b[0m \u001b[0mcategory\u001b[0m \u001b[0;32min\u001b[0m \u001b[0menumerate\u001b[0m\u001b[0;34m(\u001b[0m\u001b[0mdata_2023_labels\u001b[0m\u001b[0;34m[\u001b[0m\u001b[0;34m'Application Major'\u001b[0m\u001b[0;34m]\u001b[0m\u001b[0;34m.\u001b[0m\u001b[0munique\u001b[0m\u001b[0;34m(\u001b[0m\u001b[0;34m)\u001b[0m\u001b[0;34m)\u001b[0m\u001b[0;34m}\u001b[0m\u001b[0;34m\u001b[0m\u001b[0;34m\u001b[0m\u001b[0m\n\u001b[0m\u001b[1;32m     19\u001b[0m \u001b[0;34m\u001b[0m\u001b[0m\n\u001b[1;32m     20\u001b[0m \u001b[0;31m# 2. Apply mapping to new data\u001b[0m\u001b[0;34m\u001b[0m\u001b[0;34m\u001b[0m\u001b[0m\n",
            "\u001b[0;31mIndexError\u001b[0m: only integers, slices (`:`), ellipsis (`...`), numpy.newaxis (`None`) and integer or boolean arrays are valid indices"
          ]
        }
      ]
    },
    {
      "cell_type": "code",
      "source": [
        "class NeuralNetwork(nn.Module):\n",
        "    def __init__(self, i, h_size, h_next_size, h_next_next_size=32, n_classes=2,\n",
        "                 how_many_layers=4, embedding_dim=12,hs_embedding_dim=50):\n",
        "        super(NeuralNetwork, self).__init__()\n",
        "\n",
        "        features = i.shape[1]  # Total number of input features\n",
        "\n",
        "        self.major_embedding = nn.Embedding(input_embedding_dimension, embedding_dim)\n",
        "\n",
        "        #embedding layer for the high school codes\n",
        "        self.hs_embedding=nn.Embedding(len(set(inputs[:,4])),hs_embedding_dim)\n",
        "\n",
        "        # Input to fc1 will be (features - 2) continuous + embedding_dim\n",
        "        self.fc1 = nn.Linear(features - 2 + embedding_dim + hs_embedding_dim, h_size)\n",
        "        self.layers = how_many_layers\n",
        "\n",
        "        if self.layers == 2:\n",
        "            self.fc2 = nn.Linear(h_size, n_classes)\n",
        "        elif self.layers == 3:\n",
        "            self.fc3 = nn.Linear(h_size, h_next_size)\n",
        "            self.fc4 = nn.Linear(h_next_size, n_classes)\n",
        "        elif self.layers == 4:\n",
        "            self.fc3 = nn.Linear(h_size, h_next_size)\n",
        "            self.fc4 = nn.Linear(h_next_size, h_next_next_size)\n",
        "            self.fc5 = nn.Linear(h_next_next_size, n_classes)\n",
        "\n",
        "    def forward(self, X):\n",
        "        # Ensure input is float and extract categorical/continuous features\n",
        "        categorical_input = X[:, 0].long()  # First column: categorical (encoded)\n",
        "        hs_input = X[:, 4].long()\n",
        "\n",
        "        #continuous_input = X[:, 1:].float() # Rest: continuous features\n",
        "        continuous_indices = [i for i in range(X.shape[1]) if i not in [0, 4]]\n",
        "        continuous_input = X[:, continuous_indices].float()\n",
        "\n",
        "        # Apply embedding\n",
        "        embedded = self.major_embedding(categorical_input)  # Shape: [batch_size, embedding_dim]\n",
        "        hs_embedded = self.hs_embedding(hs_input)\n",
        "\n",
        "        # Concatenate with continuous features\n",
        "        X = torch.cat((embedded,hs_embedded, continuous_input), dim=1)  # Shape: [batch_size, embedding_dim + (features-1)]\n",
        "\n",
        "        if self.layers == 2:\n",
        "            X = F.relu(self.fc1(X))\n",
        "            X = self.fc2(X)\n",
        "        elif self.layers == 3:\n",
        "            X = F.relu(self.fc1(X))\n",
        "            X = F.relu(self.fc3(X))\n",
        "            X = self.fc4(X)\n",
        "        elif self.layers == 4:\n",
        "            X = F.relu(self.fc1(X))\n",
        "            X = torch.tanh(self.fc3(X))\n",
        "            X = F.sigmoid(self.fc4(X))\n",
        "            X = self.fc5(X)\n",
        "\n",
        "        return X\n",
        "\n"
      ],
      "metadata": {
        "id": "CWopU4gxgE32"
      },
      "execution_count": 11,
      "outputs": []
    },
    {
      "cell_type": "code",
      "source": [
        "  # Ensure the predictions are a Pandas Series with the same index as new_data\n",
        "import pandas as pd\n",
        "\n",
        "predictions_series = pd.Series(predictions, index=new_data.index)\n",
        "\n",
        "# Retrieve applications where prediction is 1\n",
        "selected_applications = data_2023_ref.loc[predictions_series == 1, \"Application Reference ID\"]\n",
        "\n",
        "# Display the selected Application Reference IDs\n",
        "print(\"Application Reference IDs where prediction is 1:\")\n",
        "print(selected_applications)\n"
      ],
      "metadata": {
        "colab": {
          "base_uri": "https://localhost:8080/"
        },
        "id": "br6eBFgoxW4A",
        "outputId": "52d6b1c7-e0a6-42eb-fbc4-c7c2bde483fe"
      },
      "execution_count": null,
      "outputs": [
        {
          "output_type": "stream",
          "name": "stdout",
          "text": [
            "Application Reference IDs with leading zeros (if needed) where prediction is 1:\n",
            "3        845896813\n",
            "8        413245739\n",
            "13       953178127\n",
            "19       458413143\n",
            "20       232806786\n",
            "           ...    \n",
            "11983     27336985\n",
            "11986    562261090\n",
            "11994    848152522\n",
            "12004    345253527\n",
            "12012    442168108\n",
            "Name: Application Reference ID, Length: 1751, dtype: object\n"
          ]
        }
      ]
    },
    {
      "cell_type": "code",
      "source": [
        "# Ensure 'Application Reference ID' is in string format\n",
        "selected_applications = data_2023_ref.loc[predictions_series == 1, \"Application Reference ID\"]\n",
        "\n",
        "# Add leading zeros to make the ID a 9-digit number\n",
        "selected_applications = selected_applications.apply(lambda x: str(x).zfill(9))\n",
        "\n",
        "# Display the selected Application Reference IDs with leading zeros\n",
        "print(\"Application Reference IDs with 9 digits (leading zeros added where necessary) where prediction is 1:\")\n",
        "print(selected_applications)\n"
      ],
      "metadata": {
        "colab": {
          "base_uri": "https://localhost:8080/"
        },
        "id": "rvSdvw0r69p_",
        "outputId": "e762f9c8-a23e-40cc-91dc-6964e7d756f9"
      },
      "execution_count": null,
      "outputs": [
        {
          "output_type": "stream",
          "name": "stdout",
          "text": [
            "Application Reference IDs with 9 digits (leading zeros added where necessary) where prediction is 1:\n",
            "3        845896813\n",
            "8        413245739\n",
            "13       953178127\n",
            "19       458413143\n",
            "20       232806786\n",
            "           ...    \n",
            "11983    027336985\n",
            "11986    562261090\n",
            "11994    848152522\n",
            "12004    345253527\n",
            "12012    442168108\n",
            "Name: Application Reference ID, Length: 1751, dtype: object\n"
          ]
        }
      ]
    },
    {
      "cell_type": "code",
      "source": [
        "selected_applications.to_csv(\"selected_application_idsr.csv\", index=False)\n",
        "\n",
        "print(\"Application IDs saved to selected_application_idsr.csv\")\n"
      ],
      "metadata": {
        "colab": {
          "base_uri": "https://localhost:8080/"
        },
        "id": "B5gB7wt73KjI",
        "outputId": "c9464bdd-53da-4dfd-849b-11e22f3f3591"
      },
      "execution_count": null,
      "outputs": [
        {
          "output_type": "stream",
          "name": "stdout",
          "text": [
            "Application IDs saved to selected_application_idsr.csv\n"
          ]
        }
      ]
    },
    {
      "cell_type": "code",
      "source": [],
      "metadata": {
        "id": "-fIRO7SI6eD0"
      },
      "execution_count": null,
      "outputs": []
    },
    {
      "cell_type": "markdown",
      "source": [],
      "metadata": {
        "id": "C2eWDih4-pHL"
      }
    },
    {
      "cell_type": "markdown",
      "source": [
        "## lime\n"
      ],
      "metadata": {
        "id": "nrQV707q8DcY"
      }
    },
    {
      "cell_type": "code",
      "source": [
        "!pip install lime\n",
        "import lime\n",
        "import lime.lime_tabular"
      ],
      "metadata": {
        "colab": {
          "base_uri": "https://localhost:8080/"
        },
        "id": "e6hg8sea-pxZ",
        "outputId": "e17c76ac-4439-4146-8f8a-b9aa8cc24821"
      },
      "execution_count": null,
      "outputs": [
        {
          "output_type": "stream",
          "name": "stdout",
          "text": [
            "Collecting lime\n",
            "  Downloading lime-0.2.0.1.tar.gz (275 kB)\n",
            "\u001b[?25l     \u001b[90m━━━━━━━━━━━━━━━━━━━━━━━━━━━━━━━━━━━━━━━━\u001b[0m \u001b[32m0.0/275.7 kB\u001b[0m \u001b[31m?\u001b[0m eta \u001b[36m-:--:--\u001b[0m\r\u001b[2K     \u001b[90m━━━━━━━━━━━━━━━━━━━━━━━━━━━━━━━━━━━━━━━━\u001b[0m \u001b[32m275.7/275.7 kB\u001b[0m \u001b[31m9.2 MB/s\u001b[0m eta \u001b[36m0:00:00\u001b[0m\n",
            "\u001b[?25h  Preparing metadata (setup.py) ... \u001b[?25l\u001b[?25hdone\n",
            "Requirement already satisfied: matplotlib in /usr/local/lib/python3.11/dist-packages (from lime) (3.10.0)\n",
            "Requirement already satisfied: numpy in /usr/local/lib/python3.11/dist-packages (from lime) (1.26.4)\n",
            "Requirement already satisfied: scipy in /usr/local/lib/python3.11/dist-packages (from lime) (1.13.1)\n",
            "Requirement already satisfied: tqdm in /usr/local/lib/python3.11/dist-packages (from lime) (4.67.1)\n",
            "Requirement already satisfied: scikit-learn>=0.18 in /usr/local/lib/python3.11/dist-packages (from lime) (1.6.1)\n",
            "Requirement already satisfied: scikit-image>=0.12 in /usr/local/lib/python3.11/dist-packages (from lime) (0.25.2)\n",
            "Requirement already satisfied: networkx>=3.0 in /usr/local/lib/python3.11/dist-packages (from scikit-image>=0.12->lime) (3.4.2)\n",
            "Requirement already satisfied: pillow>=10.1 in /usr/local/lib/python3.11/dist-packages (from scikit-image>=0.12->lime) (11.1.0)\n",
            "Requirement already satisfied: imageio!=2.35.0,>=2.33 in /usr/local/lib/python3.11/dist-packages (from scikit-image>=0.12->lime) (2.37.0)\n",
            "Requirement already satisfied: tifffile>=2022.8.12 in /usr/local/lib/python3.11/dist-packages (from scikit-image>=0.12->lime) (2025.2.18)\n",
            "Requirement already satisfied: packaging>=21 in /usr/local/lib/python3.11/dist-packages (from scikit-image>=0.12->lime) (24.2)\n",
            "Requirement already satisfied: lazy-loader>=0.4 in /usr/local/lib/python3.11/dist-packages (from scikit-image>=0.12->lime) (0.4)\n",
            "Requirement already satisfied: joblib>=1.2.0 in /usr/local/lib/python3.11/dist-packages (from scikit-learn>=0.18->lime) (1.4.2)\n",
            "Requirement already satisfied: threadpoolctl>=3.1.0 in /usr/local/lib/python3.11/dist-packages (from scikit-learn>=0.18->lime) (3.5.0)\n",
            "Requirement already satisfied: contourpy>=1.0.1 in /usr/local/lib/python3.11/dist-packages (from matplotlib->lime) (1.3.1)\n",
            "Requirement already satisfied: cycler>=0.10 in /usr/local/lib/python3.11/dist-packages (from matplotlib->lime) (0.12.1)\n",
            "Requirement already satisfied: fonttools>=4.22.0 in /usr/local/lib/python3.11/dist-packages (from matplotlib->lime) (4.56.0)\n",
            "Requirement already satisfied: kiwisolver>=1.3.1 in /usr/local/lib/python3.11/dist-packages (from matplotlib->lime) (1.4.8)\n",
            "Requirement already satisfied: pyparsing>=2.3.1 in /usr/local/lib/python3.11/dist-packages (from matplotlib->lime) (3.2.1)\n",
            "Requirement already satisfied: python-dateutil>=2.7 in /usr/local/lib/python3.11/dist-packages (from matplotlib->lime) (2.8.2)\n",
            "Requirement already satisfied: six>=1.5 in /usr/local/lib/python3.11/dist-packages (from python-dateutil>=2.7->matplotlib->lime) (1.17.0)\n",
            "Building wheels for collected packages: lime\n",
            "  Building wheel for lime (setup.py) ... \u001b[?25l\u001b[?25hdone\n",
            "  Created wheel for lime: filename=lime-0.2.0.1-py3-none-any.whl size=283834 sha256=ec49130959b855ec44779b1fd4cc0d4fc42b6c2240a3d882bc6f6476512b13cc\n",
            "  Stored in directory: /root/.cache/pip/wheels/85/fa/a3/9c2d44c9f3cd77cf4e533b58900b2bf4487f2a17e8ec212a3d\n",
            "Successfully built lime\n",
            "Installing collected packages: lime\n",
            "Successfully installed lime-0.2.0.1\n"
          ]
        }
      ]
    },
    {
      "cell_type": "code",
      "source": [
        "# LIME Integration\n",
        "test_inputs_np = test_inputs.numpy()\n",
        "\n",
        "# Feature names for all 48 columns\n",
        "feature_names = ['Application Major', 'Scholarship_Awarded', 'Application CGPA', 'FAFSA Filed',\n",
        "                 'High School Code', 'Financial Aid Appeal', 'Accepted Student Day Event Attended',\n",
        "                 'Campus Visits - Person', 'Campus Visits - App', 'Logins Before Admit',\n",
        "                 'Acceptance Call Success', 'Application Consider Test Scores', 'Application ACRK',\n",
        "                 'Waitlist Confirmed Date', 'Emails Sent', 'Emails Opened', 'Was Inquiry', 'Athlete',\n",
        "                 'Address 1 Region_Midwest', 'Address 1 Region_Northeast', 'Address 1 Region_South',\n",
        "                 'Address 1 Region_Southwest', 'Address 1 Region_Territory', 'Address 1 Region_West',\n",
        "                 'Application Housing_Commuter', 'Application Housing_Residential',\n",
        "                 'Application Enroll Status_Full Time', 'Application Enroll Status_Part Time',\n",
        "                 'Person Sex_F', 'Person Sex_M', 'High School Region_Midwest',\n",
        "                 'High School Region_Northeast', 'High School Region_South',\n",
        "                 'High School Region_Southwest', 'High School Region_Territory',\n",
        "                 'High School Region_West', 'Application Span', 'Admission Span',\n",
        "                 'Application College_00', 'Application College_CAS', 'Application College_COB',\n",
        "                 'Application College_HCLC', 'Application College_ID', 'Application College_SHS',\n",
        "                 'Application College_TCOE', 'Address 1 Region_Military',\n",
        "                 'High School Region_Military', 'Person Sex_Unknown']\n",
        "\n",
        "# Debug: Verify shapes\n",
        "print(f\"train_inputs shape: {train_inputs.shape}\")\n",
        "print(f\"Number of feature names: {len(feature_names)}\")\n",
        "\n",
        "# Prediction function for LIME\n",
        "def predict_proba(X):\n",
        "    X_tensor = torch.from_numpy(X).float()\n",
        "    save_net.eval()\n",
        "    with torch.no_grad():\n",
        "        outputs = save_net(X_tensor)\n",
        "        probs = torch.softmax(outputs, dim=1).numpy()\n",
        "    return probs\n",
        "\n",
        "# Initialize LIME explainer\n",
        "explainer = lime.lime_tabular.LimeTabularExplainer(\n",
        "    training_data=train_inputs.numpy(),\n",
        "    feature_names=feature_names,\n",
        "    categorical_features=[0, 4],  # Application Major, High School Code\n",
        "    class_names=['Not Admitted', 'Admitted'],\n",
        "    mode='classification'\n",
        ")\n",
        "\n",
        "# Explain a test instance\n",
        "instance_idx = 0\n",
        "instance = test_inputs_np[instance_idx]\n",
        "true_label = test_labels.numpy()[instance_idx]\n",
        "print(f\"\\nExplaining prediction for instance {instance_idx} with true label: {true_label}\")\n",
        "\n",
        "exp = explainer.explain_instance(\n",
        "    data_row=instance,\n",
        "    predict_fn=predict_proba,\n",
        "    num_features=10,  # Show top 10 features (out of 48)\n",
        "    num_samples=5000\n",
        ")\n",
        "\n",
        "# Show explanation\n",
        "print(\"LIME Explanation:\")\n",
        "exp.save_to_file('/content/log')\n",
        "exp.save_to_file('lime_explanation.html')\n",
        "print(\"Explanation saved to 'lime_explanation.html'.\")\n",
        "\n",
        "# Print feature contributions\n",
        "print(\"Feature Contributions:\")\n",
        "for feature, weight in exp.as_list():\n",
        "    print(f\"{feature}: {weight:.4f}\")"
      ],
      "metadata": {
        "colab": {
          "base_uri": "https://localhost:8080/"
        },
        "id": "--1W0Lgq8ESs",
        "outputId": "673cd05e-b01b-49b4-9a0b-a8678ad15447"
      },
      "execution_count": null,
      "outputs": [
        {
          "output_type": "stream",
          "name": "stdout",
          "text": [
            "train_inputs shape: torch.Size([17485, 48])\n",
            "Number of feature names: 48\n",
            "\n",
            "Explaining prediction for instance 0 with true label: 0\n",
            "LIME Explanation:\n",
            "Explanation saved to 'lime_explanation.html'.\n",
            "Feature Contributions:\n",
            "Logins Before Admit <= 2.00: -0.3219\n",
            "Campus Visits - App <= 0.00: 0.1387\n",
            "High School Code=1810: -0.1017\n",
            "Application College_00 <= 0.00: 0.0779\n",
            "Address 1 Region_West <= 0.00: 0.0636\n",
            "Admission Span <= 0.00: -0.0634\n",
            "Waitlist Confirmed Date <= 0.00: 0.0610\n",
            "Application College_COB <= 0.00: -0.0474\n",
            "Application Major=32: -0.0422\n",
            "Address 1 Region_Southwest <= 0.00: 0.0407\n"
          ]
        }
      ]
    },
    {
      "cell_type": "code",
      "source": [],
      "metadata": {
        "id": "F8zq9EnP-j4G"
      },
      "execution_count": null,
      "outputs": []
    }
  ]
}