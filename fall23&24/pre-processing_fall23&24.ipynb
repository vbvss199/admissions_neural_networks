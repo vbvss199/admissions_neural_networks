{
 "cells": [
  {
   "cell_type": "markdown",
   "metadata": {},
   "source": [
    "### libraries"
   ]
  },
  {
   "cell_type": "code",
   "execution_count": 3,
   "metadata": {},
   "outputs": [],
   "source": [
    "import pandas as pd\n",
    "from sklearn.preprocessing import OneHotEncoder\n",
    "from sklearn.preprocessing import LabelEncoder\n",
    "from sklearn.preprocessing import MinMaxScaler"
   ]
  },
  {
   "cell_type": "markdown",
   "metadata": {},
   "source": [
    "### load the data"
   ]
  },
  {
   "cell_type": "code",
   "execution_count": 4,
   "metadata": {},
   "outputs": [],
   "source": [
    "import pandas as pd\n",
    "adm_total=pd.read_excel(\"/Users/bhaskaravanacharla/Downloads/Documents/Machine_learning/admissionnn/fall23&24/fall.xlsx\")"
   ]
  },
  {
   "cell_type": "code",
   "execution_count": 5,
   "metadata": {},
   "outputs": [
    {
     "name": "stdout",
     "output_type": "stream",
     "text": [
      "<class 'pandas.core.frame.DataFrame'>\n",
      "RangeIndex: 21967 entries, 0 to 21966\n",
      "Data columns (total 35 columns):\n",
      " #   Column                               Non-Null Count  Dtype         \n",
      "---  ------                               --------------  -----         \n",
      " 0   Application Reference ID             21967 non-null  int64         \n",
      " 1   Application Entry Term               21967 non-null  object        \n",
      " 2   Application Major                    21967 non-null  object        \n",
      " 3   Application College                  21967 non-null  object        \n",
      " 4   Application Housing                  13364 non-null  object        \n",
      " 5   Application Enroll Status            21967 non-null  object        \n",
      " 6   Application Submitted Date           21967 non-null  datetime64[ns]\n",
      " 7   Application Completed Date           21967 non-null  datetime64[ns]\n",
      " 8   Admit Confirmed Date                 21967 non-null  datetime64[ns]\n",
      " 9   Admit Received/Opened Date           15266 non-null  datetime64[ns]\n",
      " 10  Admit Open Span                      15266 non-null  float64       \n",
      " 11  Deposit Confirmed Date               2891 non-null   datetime64[ns]\n",
      " 12  Scholarship_Awarded                  21967 non-null  int64         \n",
      " 13  Application CGPA                     21967 non-null  object        \n",
      " 14  Person Sex                           21958 non-null  object        \n",
      " 15  FAFSA Filed                          21967 non-null  int64         \n",
      " 16  High School Name                     21962 non-null  object        \n",
      " 17  High School Code                     21916 non-null  object        \n",
      " 18  High School City                     21945 non-null  object        \n",
      " 19  High School Region                   21917 non-null  object        \n",
      " 20  High School Country                  21959 non-null  object        \n",
      " 21  Financial Aid Appeal                 21967 non-null  int64         \n",
      " 22  Accepted Student Day Event Attended  21967 non-null  int64         \n",
      " 23  Campus Visits - Person               21967 non-null  int64         \n",
      " 24  Campus Visits - App                  21967 non-null  int64         \n",
      " 25  Logins Before Admit                  21967 non-null  int64         \n",
      " 26  Acceptance Call Success              21967 non-null  int64         \n",
      " 27  Address 1 Region                     21954 non-null  object        \n",
      " 28  Application Consider Test Scores     21606 non-null  object        \n",
      " 29  Application ACRK                     21941 non-null  float64       \n",
      " 30  Waitlist Confirmed Date              142 non-null    datetime64[ns]\n",
      " 31  Emails Sent                          21967 non-null  int64         \n",
      " 32  Emails Opened                        21967 non-null  int64         \n",
      " 33  Was Inquiry                          21967 non-null  int64         \n",
      " 34  Athlete                              21967 non-null  int64         \n",
      "dtypes: datetime64[ns](6), float64(2), int64(13), object(14)\n",
      "memory usage: 5.9+ MB\n"
     ]
    }
   ],
   "source": [
    "adm_total.info()"
   ]
  },
  {
   "cell_type": "markdown",
   "metadata": {},
   "source": [
    "### Application Entry Term\n",
    "drop the application reference term from the data "
   ]
  },
  {
   "cell_type": "code",
   "execution_count": 6,
   "metadata": {},
   "outputs": [],
   "source": [
    "adm_total.drop(columns=['Application Entry Term'],inplace=True)"
   ]
  },
  {
   "cell_type": "code",
   "execution_count": 7,
   "metadata": {},
   "outputs": [
    {
     "name": "stdout",
     "output_type": "stream",
     "text": [
      "<class 'pandas.core.frame.DataFrame'>\n",
      "RangeIndex: 21967 entries, 0 to 21966\n",
      "Data columns (total 34 columns):\n",
      " #   Column                               Non-Null Count  Dtype         \n",
      "---  ------                               --------------  -----         \n",
      " 0   Application Reference ID             21967 non-null  int64         \n",
      " 1   Application Major                    21967 non-null  object        \n",
      " 2   Application College                  21967 non-null  object        \n",
      " 3   Application Housing                  13364 non-null  object        \n",
      " 4   Application Enroll Status            21967 non-null  object        \n",
      " 5   Application Submitted Date           21967 non-null  datetime64[ns]\n",
      " 6   Application Completed Date           21967 non-null  datetime64[ns]\n",
      " 7   Admit Confirmed Date                 21967 non-null  datetime64[ns]\n",
      " 8   Admit Received/Opened Date           15266 non-null  datetime64[ns]\n",
      " 9   Admit Open Span                      15266 non-null  float64       \n",
      " 10  Deposit Confirmed Date               2891 non-null   datetime64[ns]\n",
      " 11  Scholarship_Awarded                  21967 non-null  int64         \n",
      " 12  Application CGPA                     21967 non-null  object        \n",
      " 13  Person Sex                           21958 non-null  object        \n",
      " 14  FAFSA Filed                          21967 non-null  int64         \n",
      " 15  High School Name                     21962 non-null  object        \n",
      " 16  High School Code                     21916 non-null  object        \n",
      " 17  High School City                     21945 non-null  object        \n",
      " 18  High School Region                   21917 non-null  object        \n",
      " 19  High School Country                  21959 non-null  object        \n",
      " 20  Financial Aid Appeal                 21967 non-null  int64         \n",
      " 21  Accepted Student Day Event Attended  21967 non-null  int64         \n",
      " 22  Campus Visits - Person               21967 non-null  int64         \n",
      " 23  Campus Visits - App                  21967 non-null  int64         \n",
      " 24  Logins Before Admit                  21967 non-null  int64         \n",
      " 25  Acceptance Call Success              21967 non-null  int64         \n",
      " 26  Address 1 Region                     21954 non-null  object        \n",
      " 27  Application Consider Test Scores     21606 non-null  object        \n",
      " 28  Application ACRK                     21941 non-null  float64       \n",
      " 29  Waitlist Confirmed Date              142 non-null    datetime64[ns]\n",
      " 30  Emails Sent                          21967 non-null  int64         \n",
      " 31  Emails Opened                        21967 non-null  int64         \n",
      " 32  Was Inquiry                          21967 non-null  int64         \n",
      " 33  Athlete                              21967 non-null  int64         \n",
      "dtypes: datetime64[ns](6), float64(2), int64(13), object(13)\n",
      "memory usage: 5.7+ MB\n"
     ]
    }
   ],
   "source": [
    "adm_total.info()"
   ]
  },
  {
   "cell_type": "markdown",
   "metadata": {},
   "source": [
    "### Deposit confirmed date"
   ]
  },
  {
   "cell_type": "code",
   "execution_count": 8,
   "metadata": {},
   "outputs": [],
   "source": [
    "#create new column based on deposit confirmed date and drop the column\n",
    "adm_total['admitted']=adm_total['Deposit Confirmed Date'].apply(lambda x: 1 if pd.notna(x) and x!= '' else 0)\n",
    "adm_total.drop(columns=['Deposit Confirmed Date'],inplace=True)"
   ]
  },
  {
   "cell_type": "code",
   "execution_count": 9,
   "metadata": {},
   "outputs": [
    {
     "data": {
      "text/plain": [
       "admitted\n",
       "0    19076\n",
       "1     2891\n",
       "Name: count, dtype: int64"
      ]
     },
     "execution_count": 9,
     "metadata": {},
     "output_type": "execute_result"
    }
   ],
   "source": [
    "adm_total['admitted'].value_counts()"
   ]
  },
  {
   "cell_type": "markdown",
   "metadata": {},
   "source": [
    "### Application Major"
   ]
  },
  {
   "cell_type": "code",
   "execution_count": 10,
   "metadata": {},
   "outputs": [],
   "source": [
    "label_encoder = LabelEncoder()\n",
    "adm_total['Application Major'] = label_encoder.fit_transform(adm_total['Application Major']).astype(int)\n"
   ]
  },
  {
   "cell_type": "markdown",
   "metadata": {},
   "source": [
    "### Application College & Application Housing  "
   ]
  },
  {
   "cell_type": "code",
   "execution_count": 11,
   "metadata": {},
   "outputs": [],
   "source": [
    "#convert application college to one hot vectors using one-hot encoding\n",
    "encoder= OneHotEncoder(sparse_output=False, dtype=int)\n",
    "encoded_array = encoder.fit_transform(adm_total[['Application College']])\n",
    "encoded_df = pd.DataFrame(encoded_array, columns=encoder.get_feature_names_out(['Application College']))\n",
    "adm_total = pd.concat([adm_total, encoded_df], axis=1)"
   ]
  },
  {
   "cell_type": "code",
   "execution_count": 12,
   "metadata": {},
   "outputs": [],
   "source": [
    "#use onehot encoding to convert application housing\n",
    "encoder= OneHotEncoder(sparse_output=False, dtype=int)\n",
    "encoded_array = encoder.fit_transform(adm_total[['Application Housing']])\n",
    "encoded_df = pd.DataFrame(encoded_array, columns=encoder.get_feature_names_out(['Application Housing']))\n",
    "adm_total = pd.concat([adm_total, encoded_df], axis=1)"
   ]
  },
  {
   "cell_type": "code",
   "execution_count": 13,
   "metadata": {},
   "outputs": [],
   "source": [
    "#drop those columns \n",
    "adm_total.drop(columns=['Application College','Application Housing'], inplace=True)"
   ]
  },
  {
   "cell_type": "markdown",
   "metadata": {},
   "source": [
    "### Application Enroll Status"
   ]
  },
  {
   "cell_type": "code",
   "execution_count": 14,
   "metadata": {},
   "outputs": [
    {
     "data": {
      "text/plain": [
       "0        Full Time\n",
       "1        Full Time\n",
       "2        Full Time\n",
       "3        Full Time\n",
       "4        Full Time\n",
       "           ...    \n",
       "21962    Full Time\n",
       "21963    Full Time\n",
       "21964    Full Time\n",
       "21965    Full Time\n",
       "21966    Full Time\n",
       "Name: Application Enroll Status, Length: 21967, dtype: object"
      ]
     },
     "execution_count": 14,
     "metadata": {},
     "output_type": "execute_result"
    }
   ],
   "source": [
    "adm_total['Application Enroll Status']"
   ]
  },
  {
   "cell_type": "code",
   "execution_count": 15,
   "metadata": {},
   "outputs": [],
   "source": [
    "#use onehot encoding to convert application housing\n",
    "encoder= OneHotEncoder(sparse_output=False, dtype=int)\n",
    "encoded_array = encoder.fit_transform(adm_total[['Application Enroll Status']])\n",
    "encoded_df = pd.DataFrame(encoded_array, columns=encoder.get_feature_names_out(['Application Enroll Status']))\n",
    "adm_total = pd.concat([adm_total, encoded_df], axis=1)"
   ]
  },
  {
   "cell_type": "code",
   "execution_count": 16,
   "metadata": {},
   "outputs": [],
   "source": [
    "adm_total.drop(columns=['Application Enroll Status'],inplace=True)"
   ]
  },
  {
   "cell_type": "code",
   "execution_count": 17,
   "metadata": {},
   "outputs": [
    {
     "name": "stdout",
     "output_type": "stream",
     "text": [
      "<class 'pandas.core.frame.DataFrame'>\n",
      "RangeIndex: 21967 entries, 0 to 21966\n",
      "Data columns (total 43 columns):\n",
      " #   Column                               Non-Null Count  Dtype         \n",
      "---  ------                               --------------  -----         \n",
      " 0   Application Reference ID             21967 non-null  int64         \n",
      " 1   Application Major                    21967 non-null  int64         \n",
      " 2   Application Submitted Date           21967 non-null  datetime64[ns]\n",
      " 3   Application Completed Date           21967 non-null  datetime64[ns]\n",
      " 4   Admit Confirmed Date                 21967 non-null  datetime64[ns]\n",
      " 5   Admit Received/Opened Date           15266 non-null  datetime64[ns]\n",
      " 6   Admit Open Span                      15266 non-null  float64       \n",
      " 7   Scholarship_Awarded                  21967 non-null  int64         \n",
      " 8   Application CGPA                     21967 non-null  object        \n",
      " 9   Person Sex                           21958 non-null  object        \n",
      " 10  FAFSA Filed                          21967 non-null  int64         \n",
      " 11  High School Name                     21962 non-null  object        \n",
      " 12  High School Code                     21916 non-null  object        \n",
      " 13  High School City                     21945 non-null  object        \n",
      " 14  High School Region                   21917 non-null  object        \n",
      " 15  High School Country                  21959 non-null  object        \n",
      " 16  Financial Aid Appeal                 21967 non-null  int64         \n",
      " 17  Accepted Student Day Event Attended  21967 non-null  int64         \n",
      " 18  Campus Visits - Person               21967 non-null  int64         \n",
      " 19  Campus Visits - App                  21967 non-null  int64         \n",
      " 20  Logins Before Admit                  21967 non-null  int64         \n",
      " 21  Acceptance Call Success              21967 non-null  int64         \n",
      " 22  Address 1 Region                     21954 non-null  object        \n",
      " 23  Application Consider Test Scores     21606 non-null  object        \n",
      " 24  Application ACRK                     21941 non-null  float64       \n",
      " 25  Waitlist Confirmed Date              142 non-null    datetime64[ns]\n",
      " 26  Emails Sent                          21967 non-null  int64         \n",
      " 27  Emails Opened                        21967 non-null  int64         \n",
      " 28  Was Inquiry                          21967 non-null  int64         \n",
      " 29  Athlete                              21967 non-null  int64         \n",
      " 30  admitted                             21967 non-null  int64         \n",
      " 31  Application College_00               21967 non-null  int64         \n",
      " 32  Application College_CAS              21967 non-null  int64         \n",
      " 33  Application College_COB              21967 non-null  int64         \n",
      " 34  Application College_HCLC             21967 non-null  int64         \n",
      " 35  Application College_ID               21967 non-null  int64         \n",
      " 36  Application College_SHS              21967 non-null  int64         \n",
      " 37  Application College_TCOE             21967 non-null  int64         \n",
      " 38  Application Housing_Commuter         21967 non-null  int64         \n",
      " 39  Application Housing_Residential      21967 non-null  int64         \n",
      " 40  Application Housing_nan              21967 non-null  int64         \n",
      " 41  Application Enroll Status_Full Time  21967 non-null  int64         \n",
      " 42  Application Enroll Status_Part Time  21967 non-null  int64         \n",
      "dtypes: datetime64[ns](5), float64(2), int64(27), object(9)\n",
      "memory usage: 7.2+ MB\n"
     ]
    }
   ],
   "source": [
    "adm_total.info()"
   ]
  },
  {
   "cell_type": "markdown",
   "metadata": {},
   "source": [
    "### Application Submitted Date,Application Completed Date, Admit Confirmed Date, Admit Received/Opened Date , Admit Open Span        "
   ]
  },
  {
   "cell_type": "code",
   "execution_count": 18,
   "metadata": {},
   "outputs": [],
   "source": [
    "adm_total['Application Span'] = (adm_total['Application Completed Date'] - adm_total['Application Submitted Date']).dt.days"
   ]
  },
  {
   "cell_type": "code",
   "execution_count": 19,
   "metadata": {},
   "outputs": [],
   "source": [
    "adm_total['Admit Received/Opened Date']=adm_total['Admit Received/Opened Date'].fillna(adm_total['Admit Confirmed Date'])\n",
    "adm_total['Admission Span'] = (adm_total['Admit Received/Opened Date']-adm_total['Admit Confirmed Date']).dt.total_seconds()\n",
    "adm_total['Admission Span'] = adm_total['Admission Span']/ 86400"
   ]
  },
  {
   "cell_type": "code",
   "execution_count": 20,
   "metadata": {},
   "outputs": [],
   "source": [
    "#drop the columns \n",
    "adm_total.drop(['Admit Received/Opened Date', 'Admit Confirmed Date'], axis=1,inplace=True)"
   ]
  },
  {
   "cell_type": "code",
   "execution_count": 21,
   "metadata": {},
   "outputs": [],
   "source": [
    "adm_total.drop(columns=['Application Completed Date','Application Submitted Date'],axis=1,inplace=True)"
   ]
  },
  {
   "cell_type": "code",
   "execution_count": 22,
   "metadata": {},
   "outputs": [],
   "source": [
    "adm_total.drop(columns=['Admit Open Span'],axis=1,inplace=True)"
   ]
  },
  {
   "cell_type": "code",
   "execution_count": 23,
   "metadata": {},
   "outputs": [
    {
     "name": "stdout",
     "output_type": "stream",
     "text": [
      "<class 'pandas.core.frame.DataFrame'>\n",
      "RangeIndex: 21967 entries, 0 to 21966\n",
      "Data columns (total 40 columns):\n",
      " #   Column                               Non-Null Count  Dtype         \n",
      "---  ------                               --------------  -----         \n",
      " 0   Application Reference ID             21967 non-null  int64         \n",
      " 1   Application Major                    21967 non-null  int64         \n",
      " 2   Scholarship_Awarded                  21967 non-null  int64         \n",
      " 3   Application CGPA                     21967 non-null  object        \n",
      " 4   Person Sex                           21958 non-null  object        \n",
      " 5   FAFSA Filed                          21967 non-null  int64         \n",
      " 6   High School Name                     21962 non-null  object        \n",
      " 7   High School Code                     21916 non-null  object        \n",
      " 8   High School City                     21945 non-null  object        \n",
      " 9   High School Region                   21917 non-null  object        \n",
      " 10  High School Country                  21959 non-null  object        \n",
      " 11  Financial Aid Appeal                 21967 non-null  int64         \n",
      " 12  Accepted Student Day Event Attended  21967 non-null  int64         \n",
      " 13  Campus Visits - Person               21967 non-null  int64         \n",
      " 14  Campus Visits - App                  21967 non-null  int64         \n",
      " 15  Logins Before Admit                  21967 non-null  int64         \n",
      " 16  Acceptance Call Success              21967 non-null  int64         \n",
      " 17  Address 1 Region                     21954 non-null  object        \n",
      " 18  Application Consider Test Scores     21606 non-null  object        \n",
      " 19  Application ACRK                     21941 non-null  float64       \n",
      " 20  Waitlist Confirmed Date              142 non-null    datetime64[ns]\n",
      " 21  Emails Sent                          21967 non-null  int64         \n",
      " 22  Emails Opened                        21967 non-null  int64         \n",
      " 23  Was Inquiry                          21967 non-null  int64         \n",
      " 24  Athlete                              21967 non-null  int64         \n",
      " 25  admitted                             21967 non-null  int64         \n",
      " 26  Application College_00               21967 non-null  int64         \n",
      " 27  Application College_CAS              21967 non-null  int64         \n",
      " 28  Application College_COB              21967 non-null  int64         \n",
      " 29  Application College_HCLC             21967 non-null  int64         \n",
      " 30  Application College_ID               21967 non-null  int64         \n",
      " 31  Application College_SHS              21967 non-null  int64         \n",
      " 32  Application College_TCOE             21967 non-null  int64         \n",
      " 33  Application Housing_Commuter         21967 non-null  int64         \n",
      " 34  Application Housing_Residential      21967 non-null  int64         \n",
      " 35  Application Housing_nan              21967 non-null  int64         \n",
      " 36  Application Enroll Status_Full Time  21967 non-null  int64         \n",
      " 37  Application Enroll Status_Part Time  21967 non-null  int64         \n",
      " 38  Application Span                     21967 non-null  int64         \n",
      " 39  Admission Span                       21967 non-null  float64       \n",
      "dtypes: datetime64[ns](1), float64(2), int64(28), object(9)\n",
      "memory usage: 6.7+ MB\n"
     ]
    }
   ],
   "source": [
    "adm_total.info()"
   ]
  },
  {
   "cell_type": "markdown",
   "metadata": {},
   "source": [
    "### application cgpa"
   ]
  },
  {
   "cell_type": "code",
   "execution_count": 24,
   "metadata": {},
   "outputs": [],
   "source": [
    "adm_total['Application CGPA'] = pd.to_numeric(adm_total['Application CGPA'], errors='coerce')"
   ]
  },
  {
   "cell_type": "code",
   "execution_count": 25,
   "metadata": {},
   "outputs": [],
   "source": [
    "adm_total['Application CGPA']=adm_total['Application CGPA'].apply(lambda x :4 if x>=4 else x)"
   ]
  },
  {
   "cell_type": "code",
   "execution_count": 26,
   "metadata": {},
   "outputs": [
    {
     "name": "stderr",
     "output_type": "stream",
     "text": [
      "/var/folders/7t/938pkq393dl5_v0w4yxztbpw0000gn/T/ipykernel_1609/1136892092.py:2: FutureWarning: A value is trying to be set on a copy of a DataFrame or Series through chained assignment using an inplace method.\n",
      "The behavior will change in pandas 3.0. This inplace method will never work because the intermediate object on which we are setting values always behaves as a copy.\n",
      "\n",
      "For example, when doing 'df[col].method(value, inplace=True)', try using 'df.method({col: value}, inplace=True)' or df[col] = df[col].method(value) instead, to perform the operation inplace on the original object.\n",
      "\n",
      "\n",
      "  adm_total['Application CGPA'].fillna(mean_value, inplace=True)\n"
     ]
    }
   ],
   "source": [
    "mean_value = adm_total['Application CGPA'].mean()\n",
    "adm_total['Application CGPA'].fillna(mean_value, inplace=True)\n"
   ]
  },
  {
   "cell_type": "code",
   "execution_count": 27,
   "metadata": {},
   "outputs": [
    {
     "name": "stdout",
     "output_type": "stream",
     "text": [
      "<class 'pandas.core.frame.DataFrame'>\n",
      "RangeIndex: 21967 entries, 0 to 21966\n",
      "Data columns (total 40 columns):\n",
      " #   Column                               Non-Null Count  Dtype         \n",
      "---  ------                               --------------  -----         \n",
      " 0   Application Reference ID             21967 non-null  int64         \n",
      " 1   Application Major                    21967 non-null  int64         \n",
      " 2   Scholarship_Awarded                  21967 non-null  int64         \n",
      " 3   Application CGPA                     21967 non-null  float64       \n",
      " 4   Person Sex                           21958 non-null  object        \n",
      " 5   FAFSA Filed                          21967 non-null  int64         \n",
      " 6   High School Name                     21962 non-null  object        \n",
      " 7   High School Code                     21916 non-null  object        \n",
      " 8   High School City                     21945 non-null  object        \n",
      " 9   High School Region                   21917 non-null  object        \n",
      " 10  High School Country                  21959 non-null  object        \n",
      " 11  Financial Aid Appeal                 21967 non-null  int64         \n",
      " 12  Accepted Student Day Event Attended  21967 non-null  int64         \n",
      " 13  Campus Visits - Person               21967 non-null  int64         \n",
      " 14  Campus Visits - App                  21967 non-null  int64         \n",
      " 15  Logins Before Admit                  21967 non-null  int64         \n",
      " 16  Acceptance Call Success              21967 non-null  int64         \n",
      " 17  Address 1 Region                     21954 non-null  object        \n",
      " 18  Application Consider Test Scores     21606 non-null  object        \n",
      " 19  Application ACRK                     21941 non-null  float64       \n",
      " 20  Waitlist Confirmed Date              142 non-null    datetime64[ns]\n",
      " 21  Emails Sent                          21967 non-null  int64         \n",
      " 22  Emails Opened                        21967 non-null  int64         \n",
      " 23  Was Inquiry                          21967 non-null  int64         \n",
      " 24  Athlete                              21967 non-null  int64         \n",
      " 25  admitted                             21967 non-null  int64         \n",
      " 26  Application College_00               21967 non-null  int64         \n",
      " 27  Application College_CAS              21967 non-null  int64         \n",
      " 28  Application College_COB              21967 non-null  int64         \n",
      " 29  Application College_HCLC             21967 non-null  int64         \n",
      " 30  Application College_ID               21967 non-null  int64         \n",
      " 31  Application College_SHS              21967 non-null  int64         \n",
      " 32  Application College_TCOE             21967 non-null  int64         \n",
      " 33  Application Housing_Commuter         21967 non-null  int64         \n",
      " 34  Application Housing_Residential      21967 non-null  int64         \n",
      " 35  Application Housing_nan              21967 non-null  int64         \n",
      " 36  Application Enroll Status_Full Time  21967 non-null  int64         \n",
      " 37  Application Enroll Status_Part Time  21967 non-null  int64         \n",
      " 38  Application Span                     21967 non-null  int64         \n",
      " 39  Admission Span                       21967 non-null  float64       \n",
      "dtypes: datetime64[ns](1), float64(3), int64(28), object(8)\n",
      "memory usage: 6.7+ MB\n"
     ]
    }
   ],
   "source": [
    "adm_total.info()"
   ]
  },
  {
   "cell_type": "code",
   "execution_count": 28,
   "metadata": {},
   "outputs": [],
   "source": [
    "#handle the missing values"
   ]
  },
  {
   "cell_type": "markdown",
   "metadata": {},
   "source": [
    "### Person Sex"
   ]
  },
  {
   "cell_type": "code",
   "execution_count": 29,
   "metadata": {},
   "outputs": [],
   "source": [
    "encoder=OneHotEncoder(sparse_output=False,dtype=int)\n",
    "encoded_array=encoder.fit_transform(adm_total[['Person Sex']])\n",
    "encoded_df=pd.DataFrame(encoded_array,columns=encoder.get_feature_names_out(['Person Sex']))\n",
    "adm_total=pd.concat([adm_total, encoded_df], axis=1)"
   ]
  },
  {
   "cell_type": "code",
   "execution_count": 30,
   "metadata": {},
   "outputs": [],
   "source": [
    "adm_total.drop(columns=['Person Sex'],axis=1,inplace=True)"
   ]
  },
  {
   "cell_type": "code",
   "execution_count": 31,
   "metadata": {},
   "outputs": [],
   "source": [
    "adm_total.rename(columns={'Person Sex_nan':'Person Sex_Unknown'}, inplace=True)\n"
   ]
  },
  {
   "cell_type": "code",
   "execution_count": 32,
   "metadata": {},
   "outputs": [
    {
     "name": "stdout",
     "output_type": "stream",
     "text": [
      "<class 'pandas.core.frame.DataFrame'>\n",
      "RangeIndex: 21967 entries, 0 to 21966\n",
      "Data columns (total 42 columns):\n",
      " #   Column                               Non-Null Count  Dtype         \n",
      "---  ------                               --------------  -----         \n",
      " 0   Application Reference ID             21967 non-null  int64         \n",
      " 1   Application Major                    21967 non-null  int64         \n",
      " 2   Scholarship_Awarded                  21967 non-null  int64         \n",
      " 3   Application CGPA                     21967 non-null  float64       \n",
      " 4   FAFSA Filed                          21967 non-null  int64         \n",
      " 5   High School Name                     21962 non-null  object        \n",
      " 6   High School Code                     21916 non-null  object        \n",
      " 7   High School City                     21945 non-null  object        \n",
      " 8   High School Region                   21917 non-null  object        \n",
      " 9   High School Country                  21959 non-null  object        \n",
      " 10  Financial Aid Appeal                 21967 non-null  int64         \n",
      " 11  Accepted Student Day Event Attended  21967 non-null  int64         \n",
      " 12  Campus Visits - Person               21967 non-null  int64         \n",
      " 13  Campus Visits - App                  21967 non-null  int64         \n",
      " 14  Logins Before Admit                  21967 non-null  int64         \n",
      " 15  Acceptance Call Success              21967 non-null  int64         \n",
      " 16  Address 1 Region                     21954 non-null  object        \n",
      " 17  Application Consider Test Scores     21606 non-null  object        \n",
      " 18  Application ACRK                     21941 non-null  float64       \n",
      " 19  Waitlist Confirmed Date              142 non-null    datetime64[ns]\n",
      " 20  Emails Sent                          21967 non-null  int64         \n",
      " 21  Emails Opened                        21967 non-null  int64         \n",
      " 22  Was Inquiry                          21967 non-null  int64         \n",
      " 23  Athlete                              21967 non-null  int64         \n",
      " 24  admitted                             21967 non-null  int64         \n",
      " 25  Application College_00               21967 non-null  int64         \n",
      " 26  Application College_CAS              21967 non-null  int64         \n",
      " 27  Application College_COB              21967 non-null  int64         \n",
      " 28  Application College_HCLC             21967 non-null  int64         \n",
      " 29  Application College_ID               21967 non-null  int64         \n",
      " 30  Application College_SHS              21967 non-null  int64         \n",
      " 31  Application College_TCOE             21967 non-null  int64         \n",
      " 32  Application Housing_Commuter         21967 non-null  int64         \n",
      " 33  Application Housing_Residential      21967 non-null  int64         \n",
      " 34  Application Housing_nan              21967 non-null  int64         \n",
      " 35  Application Enroll Status_Full Time  21967 non-null  int64         \n",
      " 36  Application Enroll Status_Part Time  21967 non-null  int64         \n",
      " 37  Application Span                     21967 non-null  int64         \n",
      " 38  Admission Span                       21967 non-null  float64       \n",
      " 39  Person Sex_F                         21967 non-null  int64         \n",
      " 40  Person Sex_M                         21967 non-null  int64         \n",
      " 41  Person Sex_Unknown                   21967 non-null  int64         \n",
      "dtypes: datetime64[ns](1), float64(3), int64(31), object(7)\n",
      "memory usage: 7.0+ MB\n"
     ]
    }
   ],
   "source": [
    "adm_total.info()"
   ]
  },
  {
   "cell_type": "markdown",
   "metadata": {},
   "source": [
    "### High school Country"
   ]
  },
  {
   "cell_type": "code",
   "execution_count": 33,
   "metadata": {},
   "outputs": [],
   "source": [
    "adm_total = adm_total[adm_total['High School Country'] == \"United States\"].reset_index(drop=True)"
   ]
  },
  {
   "cell_type": "code",
   "execution_count": 34,
   "metadata": {},
   "outputs": [
    {
     "data": {
      "text/plain": [
       "admitted\n",
       "0    19020\n",
       "1     2876\n",
       "Name: count, dtype: int64"
      ]
     },
     "execution_count": 34,
     "metadata": {},
     "output_type": "execute_result"
    }
   ],
   "source": [
    "adm_total['admitted'].value_counts()"
   ]
  },
  {
   "cell_type": "code",
   "execution_count": 35,
   "metadata": {},
   "outputs": [],
   "source": [
    "adm_total.drop(columns=['High School Country'],axis=1,inplace=True)"
   ]
  },
  {
   "cell_type": "markdown",
   "metadata": {},
   "source": [
    "### High School City,High school Name,High School Code"
   ]
  },
  {
   "cell_type": "code",
   "execution_count": 36,
   "metadata": {},
   "outputs": [],
   "source": [
    "#drop the rows where the value of high school code is null and amditted are 0 \n",
    "adm_total=adm_total.drop(adm_total[adm_total['High School Code'].isna() & (adm_total['admitted'] == 0)].index).reset_index(drop=True)"
   ]
  },
  {
   "cell_type": "code",
   "execution_count": 37,
   "metadata": {},
   "outputs": [
    {
     "data": {
      "text/html": [
       "<div>\n",
       "<style scoped>\n",
       "    .dataframe tbody tr th:only-of-type {\n",
       "        vertical-align: middle;\n",
       "    }\n",
       "\n",
       "    .dataframe tbody tr th {\n",
       "        vertical-align: top;\n",
       "    }\n",
       "\n",
       "    .dataframe thead th {\n",
       "        text-align: right;\n",
       "    }\n",
       "</style>\n",
       "<table border=\"1\" class=\"dataframe\">\n",
       "  <thead>\n",
       "    <tr style=\"text-align: right;\">\n",
       "      <th></th>\n",
       "      <th>Application Reference ID</th>\n",
       "      <th>Application Major</th>\n",
       "      <th>Scholarship_Awarded</th>\n",
       "      <th>Application CGPA</th>\n",
       "      <th>FAFSA Filed</th>\n",
       "      <th>High School Name</th>\n",
       "      <th>High School Code</th>\n",
       "      <th>High School City</th>\n",
       "      <th>High School Region</th>\n",
       "      <th>Financial Aid Appeal</th>\n",
       "      <th>...</th>\n",
       "      <th>Application Housing_Commuter</th>\n",
       "      <th>Application Housing_Residential</th>\n",
       "      <th>Application Housing_nan</th>\n",
       "      <th>Application Enroll Status_Full Time</th>\n",
       "      <th>Application Enroll Status_Part Time</th>\n",
       "      <th>Application Span</th>\n",
       "      <th>Admission Span</th>\n",
       "      <th>Person Sex_F</th>\n",
       "      <th>Person Sex_M</th>\n",
       "      <th>Person Sex_Unknown</th>\n",
       "    </tr>\n",
       "  </thead>\n",
       "  <tbody>\n",
       "    <tr>\n",
       "      <th>8877</th>\n",
       "      <td>986661865</td>\n",
       "      <td>101</td>\n",
       "      <td>1</td>\n",
       "      <td>3.0</td>\n",
       "      <td>1</td>\n",
       "      <td>General Education Development (GED)</td>\n",
       "      <td>NaN</td>\n",
       "      <td>NaN</td>\n",
       "      <td>CT</td>\n",
       "      <td>0</td>\n",
       "      <td>...</td>\n",
       "      <td>1</td>\n",
       "      <td>0</td>\n",
       "      <td>0</td>\n",
       "      <td>1</td>\n",
       "      <td>0</td>\n",
       "      <td>23</td>\n",
       "      <td>0.062674</td>\n",
       "      <td>1</td>\n",
       "      <td>0</td>\n",
       "      <td>0</td>\n",
       "    </tr>\n",
       "    <tr>\n",
       "      <th>16600</th>\n",
       "      <td>416600869</td>\n",
       "      <td>87</td>\n",
       "      <td>1</td>\n",
       "      <td>3.7</td>\n",
       "      <td>1</td>\n",
       "      <td>notre dame high school west haven</td>\n",
       "      <td>NaN</td>\n",
       "      <td>NaN</td>\n",
       "      <td>CT</td>\n",
       "      <td>1</td>\n",
       "      <td>...</td>\n",
       "      <td>1</td>\n",
       "      <td>0</td>\n",
       "      <td>0</td>\n",
       "      <td>1</td>\n",
       "      <td>0</td>\n",
       "      <td>6</td>\n",
       "      <td>114.409641</td>\n",
       "      <td>0</td>\n",
       "      <td>1</td>\n",
       "      <td>0</td>\n",
       "    </tr>\n",
       "  </tbody>\n",
       "</table>\n",
       "<p>2 rows × 41 columns</p>\n",
       "</div>"
      ],
      "text/plain": [
       "       Application Reference ID  Application Major  Scholarship_Awarded  \\\n",
       "8877                  986661865                101                    1   \n",
       "16600                 416600869                 87                    1   \n",
       "\n",
       "       Application CGPA  FAFSA Filed                     High School Name  \\\n",
       "8877                3.0            1  General Education Development (GED)   \n",
       "16600               3.7            1    notre dame high school west haven   \n",
       "\n",
       "      High School Code High School City High School Region  \\\n",
       "8877               NaN              NaN                 CT   \n",
       "16600              NaN              NaN                 CT   \n",
       "\n",
       "       Financial Aid Appeal  ...  Application Housing_Commuter  \\\n",
       "8877                      0  ...                             1   \n",
       "16600                     1  ...                             1   \n",
       "\n",
       "       Application Housing_Residential  Application Housing_nan  \\\n",
       "8877                                 0                        0   \n",
       "16600                                0                        0   \n",
       "\n",
       "       Application Enroll Status_Full Time  \\\n",
       "8877                                     1   \n",
       "16600                                    1   \n",
       "\n",
       "       Application Enroll Status_Part Time Application Span Admission Span  \\\n",
       "8877                                     0               23       0.062674   \n",
       "16600                                    0                6     114.409641   \n",
       "\n",
       "       Person Sex_F Person Sex_M  Person Sex_Unknown  \n",
       "8877              1            0                   0  \n",
       "16600             0            1                   0  \n",
       "\n",
       "[2 rows x 41 columns]"
      ]
     },
     "execution_count": 37,
     "metadata": {},
     "output_type": "execute_result"
    }
   ],
   "source": [
    "adm_total[adm_total['High School Code'].isna() & (adm_total['admitted'] == 1)]"
   ]
  },
  {
   "cell_type": "code",
   "execution_count": 38,
   "metadata": {},
   "outputs": [],
   "source": [
    "High_School_Code_map={\n",
    "    \"General Education Development (GED)\":\"070905\",\n",
    "    \"notre dame high school west haven\":\"070905\",\n",
    "}"
   ]
  },
  {
   "cell_type": "code",
   "execution_count": 39,
   "metadata": {},
   "outputs": [],
   "source": [
    "#map those column values with their school names(High School Name)\n",
    "adm_total.loc[\n",
    "    adm_total['High School Code'].isna() & (adm_total['admitted'] == 1), \n",
    "    'High School Code'\n",
    "] = adm_total['High School Name'].map(High_School_Code_map)\n"
   ]
  },
  {
   "cell_type": "code",
   "execution_count": 40,
   "metadata": {},
   "outputs": [],
   "source": [
    "# Initialize the label encoder\n",
    "encoder = LabelEncoder()\n",
    "\n",
    "# Fit and transform the 'High School Code' column\n",
    "adm_total['High School Code'] = encoder.fit_transform(adm_total['High School Code'])\n"
   ]
  },
  {
   "cell_type": "code",
   "execution_count": 41,
   "metadata": {},
   "outputs": [
    {
     "data": {
      "text/plain": [
       "High School Code\n",
       "541     229\n",
       "310     187\n",
       "336     169\n",
       "372     115\n",
       "491     113\n",
       "       ... \n",
       "3074      1\n",
       "3057      1\n",
       "2731      1\n",
       "642       1\n",
       "3243      1\n",
       "Name: count, Length: 4002, dtype: int64"
      ]
     },
     "execution_count": 41,
     "metadata": {},
     "output_type": "execute_result"
    }
   ],
   "source": [
    "adm_total['High School Code'].value_counts()"
   ]
  },
  {
   "cell_type": "code",
   "execution_count": 42,
   "metadata": {},
   "outputs": [],
   "source": [
    "#drop the columns High school city and high school name\n",
    "adm_total.drop(columns=['High School Name','High School City'],axis=1,inplace=True)"
   ]
  },
  {
   "cell_type": "code",
   "execution_count": 43,
   "metadata": {},
   "outputs": [
    {
     "name": "stdout",
     "output_type": "stream",
     "text": [
      "<class 'pandas.core.frame.DataFrame'>\n",
      "RangeIndex: 21877 entries, 0 to 21876\n",
      "Data columns (total 39 columns):\n",
      " #   Column                               Non-Null Count  Dtype         \n",
      "---  ------                               --------------  -----         \n",
      " 0   Application Reference ID             21877 non-null  int64         \n",
      " 1   Application Major                    21877 non-null  int64         \n",
      " 2   Scholarship_Awarded                  21877 non-null  int64         \n",
      " 3   Application CGPA                     21877 non-null  float64       \n",
      " 4   FAFSA Filed                          21877 non-null  int64         \n",
      " 5   High School Code                     21877 non-null  int64         \n",
      " 6   High School Region                   21871 non-null  object        \n",
      " 7   Financial Aid Appeal                 21877 non-null  int64         \n",
      " 8   Accepted Student Day Event Attended  21877 non-null  int64         \n",
      " 9   Campus Visits - Person               21877 non-null  int64         \n",
      " 10  Campus Visits - App                  21877 non-null  int64         \n",
      " 11  Logins Before Admit                  21877 non-null  int64         \n",
      " 12  Acceptance Call Success              21877 non-null  int64         \n",
      " 13  Address 1 Region                     21875 non-null  object        \n",
      " 14  Application Consider Test Scores     21523 non-null  object        \n",
      " 15  Application ACRK                     21854 non-null  float64       \n",
      " 16  Waitlist Confirmed Date              142 non-null    datetime64[ns]\n",
      " 17  Emails Sent                          21877 non-null  int64         \n",
      " 18  Emails Opened                        21877 non-null  int64         \n",
      " 19  Was Inquiry                          21877 non-null  int64         \n",
      " 20  Athlete                              21877 non-null  int64         \n",
      " 21  admitted                             21877 non-null  int64         \n",
      " 22  Application College_00               21877 non-null  int64         \n",
      " 23  Application College_CAS              21877 non-null  int64         \n",
      " 24  Application College_COB              21877 non-null  int64         \n",
      " 25  Application College_HCLC             21877 non-null  int64         \n",
      " 26  Application College_ID               21877 non-null  int64         \n",
      " 27  Application College_SHS              21877 non-null  int64         \n",
      " 28  Application College_TCOE             21877 non-null  int64         \n",
      " 29  Application Housing_Commuter         21877 non-null  int64         \n",
      " 30  Application Housing_Residential      21877 non-null  int64         \n",
      " 31  Application Housing_nan              21877 non-null  int64         \n",
      " 32  Application Enroll Status_Full Time  21877 non-null  int64         \n",
      " 33  Application Enroll Status_Part Time  21877 non-null  int64         \n",
      " 34  Application Span                     21877 non-null  int64         \n",
      " 35  Admission Span                       21877 non-null  float64       \n",
      " 36  Person Sex_F                         21877 non-null  int64         \n",
      " 37  Person Sex_M                         21877 non-null  int64         \n",
      " 38  Person Sex_Unknown                   21877 non-null  int64         \n",
      "dtypes: datetime64[ns](1), float64(3), int64(32), object(3)\n",
      "memory usage: 6.5+ MB\n"
     ]
    }
   ],
   "source": [
    "adm_total.info()"
   ]
  },
  {
   "cell_type": "code",
   "execution_count": 44,
   "metadata": {},
   "outputs": [
    {
     "data": {
      "text/plain": [
       "admitted\n",
       "0    19001\n",
       "1     2876\n",
       "Name: count, dtype: int64"
      ]
     },
     "execution_count": 44,
     "metadata": {},
     "output_type": "execute_result"
    }
   ],
   "source": [
    "adm_total['admitted'].value_counts()"
   ]
  },
  {
   "cell_type": "markdown",
   "metadata": {},
   "source": [
    "### High school region"
   ]
  },
  {
   "cell_type": "code",
   "execution_count": 45,
   "metadata": {},
   "outputs": [],
   "source": [
    "adm_total.drop(adm_total[(adm_total['High School Region'].isnull()) & (adm_total['admitted'] == 0)].index, inplace=True)\n",
    "adm_total.reset_index(drop=True, inplace=True)\n"
   ]
  },
  {
   "cell_type": "code",
   "execution_count": 46,
   "metadata": {},
   "outputs": [
    {
     "data": {
      "text/html": [
       "<div>\n",
       "<style scoped>\n",
       "    .dataframe tbody tr th:only-of-type {\n",
       "        vertical-align: middle;\n",
       "    }\n",
       "\n",
       "    .dataframe tbody tr th {\n",
       "        vertical-align: top;\n",
       "    }\n",
       "\n",
       "    .dataframe thead th {\n",
       "        text-align: right;\n",
       "    }\n",
       "</style>\n",
       "<table border=\"1\" class=\"dataframe\">\n",
       "  <thead>\n",
       "    <tr style=\"text-align: right;\">\n",
       "      <th></th>\n",
       "      <th>Application Reference ID</th>\n",
       "      <th>Application Major</th>\n",
       "      <th>Scholarship_Awarded</th>\n",
       "      <th>Application CGPA</th>\n",
       "      <th>FAFSA Filed</th>\n",
       "      <th>High School Code</th>\n",
       "      <th>High School Region</th>\n",
       "      <th>Financial Aid Appeal</th>\n",
       "      <th>Accepted Student Day Event Attended</th>\n",
       "      <th>Campus Visits - Person</th>\n",
       "      <th>...</th>\n",
       "      <th>Application Housing_Commuter</th>\n",
       "      <th>Application Housing_Residential</th>\n",
       "      <th>Application Housing_nan</th>\n",
       "      <th>Application Enroll Status_Full Time</th>\n",
       "      <th>Application Enroll Status_Part Time</th>\n",
       "      <th>Application Span</th>\n",
       "      <th>Admission Span</th>\n",
       "      <th>Person Sex_F</th>\n",
       "      <th>Person Sex_M</th>\n",
       "      <th>Person Sex_Unknown</th>\n",
       "    </tr>\n",
       "  </thead>\n",
       "  <tbody>\n",
       "    <tr>\n",
       "      <th>17755</th>\n",
       "      <td>896017236</td>\n",
       "      <td>62</td>\n",
       "      <td>1</td>\n",
       "      <td>3.83</td>\n",
       "      <td>1</td>\n",
       "      <td>541</td>\n",
       "      <td>NaN</td>\n",
       "      <td>0</td>\n",
       "      <td>0</td>\n",
       "      <td>0</td>\n",
       "      <td>...</td>\n",
       "      <td>1</td>\n",
       "      <td>0</td>\n",
       "      <td>0</td>\n",
       "      <td>1</td>\n",
       "      <td>0</td>\n",
       "      <td>169</td>\n",
       "      <td>0.120961</td>\n",
       "      <td>1</td>\n",
       "      <td>0</td>\n",
       "      <td>0</td>\n",
       "    </tr>\n",
       "  </tbody>\n",
       "</table>\n",
       "<p>1 rows × 39 columns</p>\n",
       "</div>"
      ],
      "text/plain": [
       "       Application Reference ID  Application Major  Scholarship_Awarded  \\\n",
       "17755                 896017236                 62                    1   \n",
       "\n",
       "       Application CGPA  FAFSA Filed  High School Code High School Region  \\\n",
       "17755              3.83            1               541                NaN   \n",
       "\n",
       "       Financial Aid Appeal  Accepted Student Day Event Attended  \\\n",
       "17755                     0                                    0   \n",
       "\n",
       "       Campus Visits - Person  ...  Application Housing_Commuter  \\\n",
       "17755                       0  ...                             1   \n",
       "\n",
       "       Application Housing_Residential  Application Housing_nan  \\\n",
       "17755                                0                        0   \n",
       "\n",
       "      Application Enroll Status_Full Time Application Enroll Status_Part Time  \\\n",
       "17755                                   1                                   0   \n",
       "\n",
       "       Application Span Admission Span  Person Sex_F  Person Sex_M  \\\n",
       "17755               169       0.120961             1             0   \n",
       "\n",
       "       Person Sex_Unknown  \n",
       "17755                   0  \n",
       "\n",
       "[1 rows x 39 columns]"
      ]
     },
     "execution_count": 46,
     "metadata": {},
     "output_type": "execute_result"
    }
   ],
   "source": [
    "adm_total[(adm_total['High School Region'].isnull()) & (adm_total['admitted'] == 1)]"
   ]
  },
  {
   "cell_type": "code",
   "execution_count": 47,
   "metadata": {},
   "outputs": [],
   "source": [
    "adm_total.loc[(adm_total['High School Region'].isnull()) & (adm_total['admitted'] == 1), 'High School Region'] = 'CT'\n"
   ]
  },
  {
   "cell_type": "code",
   "execution_count": 48,
   "metadata": {},
   "outputs": [],
   "source": [
    "#region mapping for the regions of the \n",
    "# Dictionary to map full state names to abbreviations\n",
    "state_mapping = {\n",
    "    \"Alaska\": \"AK\",\n",
    "    \"Alabama\": \"AL\",\n",
    "    \"Armed Forces Pacific\": \"AP\",\n",
    "    \"Arkansas\": \"AR\",\n",
    "    \"Arizona\": \"AZ\",\n",
    "    \"California\": \"CA\",\n",
    "    \"Colorado\": \"CO\",\n",
    "    \"Connecticut\": \"CT\",\n",
    "    \"District of Columbia\": \"DC\",\n",
    "    \"Delaware\": \"DE\",\n",
    "    \"Florida\": \"FL\",\n",
    "    \"Georgia\": \"GA\",\n",
    "    \"Guam\": \"GU\",\n",
    "    \"Hawaii\": \"HI\",\n",
    "    \"Iowa\": \"IA\",\n",
    "    \"Idaho\": \"ID\",\n",
    "    \"Illinois\": \"IL\",\n",
    "    \"Indiana\": \"IN\",\n",
    "    \"Kansas\": \"KS\",\n",
    "    \"Kentucky\": \"KY\",\n",
    "    \"Louisiana\": \"LA\",\n",
    "    \"Massachusetts\": \"MA\",\n",
    "    \"Maryland\": \"MD\",\n",
    "    \"Maine\": \"ME\",\n",
    "    \"Michigan\": \"MI\",\n",
    "    \"Minnesota\": \"MN\",\n",
    "    \"Missouri\": \"MO\",\n",
    "    \"Mississippi\": \"MS\",\n",
    "    \"Montana\": \"MT\",\n",
    "    \"North Carolina\": \"NC\",\n",
    "    \"Nebraska\": \"NE\",\n",
    "    \"New Hampshire\": \"NH\",\n",
    "    \"New Jersey\": \"NJ\",\n",
    "    \"New Mexico\": \"NM\",\n",
    "    \"Nevada\": \"NV\",\n",
    "    \"New York\": \"NY\",\n",
    "    \"Ohio\": \"OH\",\n",
    "    \"Oklahoma\": \"OK\",\n",
    "    \"Oregon\": \"OR\",\n",
    "    \"Pennsylvania\": \"PA\",\n",
    "    \"Puerto Rico\": \"PR\",\n",
    "    \"Rhode Island\": \"RI\",\n",
    "    \"South Carolina\": \"SC\",\n",
    "    \"South Dakota\": \"SD\",\n",
    "    \"Tennessee\": \"TN\",\n",
    "    \"Texas\": \"TX\",\n",
    "    \"Utah\": \"UT\",\n",
    "    \"Virginia\": \"VA\",\n",
    "    \"Virgin Islands\": \"VI\",\n",
    "    \"Vermont\": \"VT\",\n",
    "    \"Washington\": \"WA\",\n",
    "    \"Wisconsin\": \"WI\",\n",
    "    \"West Virginia\": \"WV\"\n",
    "}\n",
    "\n",
    "\n",
    "states_to_regions = {\n",
    "    # West\n",
    "    'WA': 'West', 'OR': 'West', 'CA': 'West', 'NV': 'West',\n",
    "    'ID': 'West', 'MT': 'West', 'WY': 'West', 'UT': 'West',\n",
    "    'CO': 'West', 'AK': 'West', 'HI': 'West',\n",
    "    \n",
    "    # Northeast\n",
    "    'ME': 'Northeast', 'VT': 'Northeast', 'NH': 'Northeast', \n",
    "    'MA': 'Northeast', 'RI': 'Northeast', 'CT': 'Northeast',\n",
    "    'NY': 'Northeast', 'NJ': 'Northeast', 'PA': 'Northeast',\n",
    "    \n",
    "    # Midwest\n",
    "    'ND': 'Midwest', 'SD': 'Midwest', 'NE': 'Midwest', 'KS': 'Midwest',\n",
    "    'MN': 'Midwest', 'IA': 'Midwest', 'MO': 'Midwest', 'WI': 'Midwest',\n",
    "    'IL': 'Midwest', 'MI': 'Midwest', 'IN': 'Midwest', 'OH': 'Midwest',\n",
    "    \n",
    "    # South\n",
    "    'WV': 'South', 'DC': 'South', 'MD': 'South', 'VA': 'South',\n",
    "    'KY': 'South', 'TN': 'South', 'NC': 'South', 'MS': 'South',\n",
    "    'AR': 'South', 'LA': 'South', 'AL': 'South', 'GA': 'South',\n",
    "    'SC': 'South', 'FL': 'South', 'DE': 'South',\n",
    "    \n",
    "    # Southwest\n",
    "    'AZ': 'Southwest', 'NM': 'Southwest', 'OK': 'Southwest', 'TX': 'Southwest',\n",
    "    \n",
    "    # Unclassified / Territories\n",
    "    'PR': 'Territory',  # Puerto Rico\n",
    "    'GU': 'Territory',  # Guam\n",
    "    'VI': 'Territory',  # Virgin Islands\n",
    "    'AP': 'Military',   # Armed Forces Pacific\n",
    "}\n",
    "\n",
    "\n",
    "# Standardize the 'Region' column by replacing full state names with abbreviations\n",
    "adm_total['High School Region'] = adm_total['High School Region'].replace(state_mapping)\n",
    "# Remove rows where 'Region' is still not a valid U.S. state abbreviation\n",
    "valid_states = set(state_mapping.values())\n",
    "#Drop non-U.S. rows (anything that wasn't mapped) and make sure to reset the index \n",
    "adm_total = adm_total[adm_total['High School Region'].isin(valid_states)].reset_index(drop=True)\n",
    "\n",
    "adm_total['High School Region']=adm_total['High School Region'].map(states_to_regions)\n",
    "\n"
   ]
  },
  {
   "cell_type": "code",
   "execution_count": 49,
   "metadata": {},
   "outputs": [],
   "source": [
    "#one hot encode them \n",
    "encoder= OneHotEncoder(sparse_output=False, dtype=int)\n",
    "encoded_array = encoder.fit_transform(adm_total[['High School Region']])\n",
    "encoded_df = pd.DataFrame(encoded_array, columns=encoder.get_feature_names_out(['High School Region']))\n",
    "adm_total = pd.concat([adm_total, encoded_df], axis=1)"
   ]
  },
  {
   "cell_type": "code",
   "execution_count": 50,
   "metadata": {},
   "outputs": [],
   "source": [
    "adm_total.drop(columns=['High School Region'],axis=1,inplace=True)"
   ]
  },
  {
   "cell_type": "code",
   "execution_count": 51,
   "metadata": {},
   "outputs": [
    {
     "name": "stdout",
     "output_type": "stream",
     "text": [
      "<class 'pandas.core.frame.DataFrame'>\n",
      "RangeIndex: 21871 entries, 0 to 21870\n",
      "Data columns (total 45 columns):\n",
      " #   Column                               Non-Null Count  Dtype         \n",
      "---  ------                               --------------  -----         \n",
      " 0   Application Reference ID             21871 non-null  int64         \n",
      " 1   Application Major                    21871 non-null  int64         \n",
      " 2   Scholarship_Awarded                  21871 non-null  int64         \n",
      " 3   Application CGPA                     21871 non-null  float64       \n",
      " 4   FAFSA Filed                          21871 non-null  int64         \n",
      " 5   High School Code                     21871 non-null  int64         \n",
      " 6   Financial Aid Appeal                 21871 non-null  int64         \n",
      " 7   Accepted Student Day Event Attended  21871 non-null  int64         \n",
      " 8   Campus Visits - Person               21871 non-null  int64         \n",
      " 9   Campus Visits - App                  21871 non-null  int64         \n",
      " 10  Logins Before Admit                  21871 non-null  int64         \n",
      " 11  Acceptance Call Success              21871 non-null  int64         \n",
      " 12  Address 1 Region                     21869 non-null  object        \n",
      " 13  Application Consider Test Scores     21521 non-null  object        \n",
      " 14  Application ACRK                     21848 non-null  float64       \n",
      " 15  Waitlist Confirmed Date              142 non-null    datetime64[ns]\n",
      " 16  Emails Sent                          21871 non-null  int64         \n",
      " 17  Emails Opened                        21871 non-null  int64         \n",
      " 18  Was Inquiry                          21871 non-null  int64         \n",
      " 19  Athlete                              21871 non-null  int64         \n",
      " 20  admitted                             21871 non-null  int64         \n",
      " 21  Application College_00               21871 non-null  int64         \n",
      " 22  Application College_CAS              21871 non-null  int64         \n",
      " 23  Application College_COB              21871 non-null  int64         \n",
      " 24  Application College_HCLC             21871 non-null  int64         \n",
      " 25  Application College_ID               21871 non-null  int64         \n",
      " 26  Application College_SHS              21871 non-null  int64         \n",
      " 27  Application College_TCOE             21871 non-null  int64         \n",
      " 28  Application Housing_Commuter         21871 non-null  int64         \n",
      " 29  Application Housing_Residential      21871 non-null  int64         \n",
      " 30  Application Housing_nan              21871 non-null  int64         \n",
      " 31  Application Enroll Status_Full Time  21871 non-null  int64         \n",
      " 32  Application Enroll Status_Part Time  21871 non-null  int64         \n",
      " 33  Application Span                     21871 non-null  int64         \n",
      " 34  Admission Span                       21871 non-null  float64       \n",
      " 35  Person Sex_F                         21871 non-null  int64         \n",
      " 36  Person Sex_M                         21871 non-null  int64         \n",
      " 37  Person Sex_Unknown                   21871 non-null  int64         \n",
      " 38  High School Region_Midwest           21871 non-null  int64         \n",
      " 39  High School Region_Military          21871 non-null  int64         \n",
      " 40  High School Region_Northeast         21871 non-null  int64         \n",
      " 41  High School Region_South             21871 non-null  int64         \n",
      " 42  High School Region_Southwest         21871 non-null  int64         \n",
      " 43  High School Region_Territory         21871 non-null  int64         \n",
      " 44  High School Region_West              21871 non-null  int64         \n",
      "dtypes: datetime64[ns](1), float64(3), int64(39), object(2)\n",
      "memory usage: 7.5+ MB\n"
     ]
    }
   ],
   "source": [
    "adm_total.info()"
   ]
  },
  {
   "cell_type": "code",
   "execution_count": 52,
   "metadata": {},
   "outputs": [
    {
     "data": {
      "text/plain": [
       "admitted\n",
       "0    18995\n",
       "1     2876\n",
       "Name: count, dtype: int64"
      ]
     },
     "execution_count": 52,
     "metadata": {},
     "output_type": "execute_result"
    }
   ],
   "source": [
    "adm_total['admitted'].value_counts()"
   ]
  },
  {
   "cell_type": "markdown",
   "metadata": {},
   "source": [
    "### Address 1 region"
   ]
  },
  {
   "cell_type": "code",
   "execution_count": 53,
   "metadata": {},
   "outputs": [
    {
     "data": {
      "text/html": [
       "<div>\n",
       "<style scoped>\n",
       "    .dataframe tbody tr th:only-of-type {\n",
       "        vertical-align: middle;\n",
       "    }\n",
       "\n",
       "    .dataframe tbody tr th {\n",
       "        vertical-align: top;\n",
       "    }\n",
       "\n",
       "    .dataframe thead th {\n",
       "        text-align: right;\n",
       "    }\n",
       "</style>\n",
       "<table border=\"1\" class=\"dataframe\">\n",
       "  <thead>\n",
       "    <tr style=\"text-align: right;\">\n",
       "      <th></th>\n",
       "      <th>Application Reference ID</th>\n",
       "      <th>Application Major</th>\n",
       "      <th>Scholarship_Awarded</th>\n",
       "      <th>Application CGPA</th>\n",
       "      <th>FAFSA Filed</th>\n",
       "      <th>High School Code</th>\n",
       "      <th>Financial Aid Appeal</th>\n",
       "      <th>Accepted Student Day Event Attended</th>\n",
       "      <th>Campus Visits - Person</th>\n",
       "      <th>Campus Visits - App</th>\n",
       "      <th>...</th>\n",
       "      <th>Person Sex_F</th>\n",
       "      <th>Person Sex_M</th>\n",
       "      <th>Person Sex_Unknown</th>\n",
       "      <th>High School Region_Midwest</th>\n",
       "      <th>High School Region_Military</th>\n",
       "      <th>High School Region_Northeast</th>\n",
       "      <th>High School Region_South</th>\n",
       "      <th>High School Region_Southwest</th>\n",
       "      <th>High School Region_Territory</th>\n",
       "      <th>High School Region_West</th>\n",
       "    </tr>\n",
       "  </thead>\n",
       "  <tbody>\n",
       "    <tr>\n",
       "      <th>1221</th>\n",
       "      <td>482457006</td>\n",
       "      <td>93</td>\n",
       "      <td>1</td>\n",
       "      <td>3.6</td>\n",
       "      <td>1</td>\n",
       "      <td>1906</td>\n",
       "      <td>1</td>\n",
       "      <td>1</td>\n",
       "      <td>1</td>\n",
       "      <td>0</td>\n",
       "      <td>...</td>\n",
       "      <td>0</td>\n",
       "      <td>1</td>\n",
       "      <td>0</td>\n",
       "      <td>0</td>\n",
       "      <td>0</td>\n",
       "      <td>1</td>\n",
       "      <td>0</td>\n",
       "      <td>0</td>\n",
       "      <td>0</td>\n",
       "      <td>0</td>\n",
       "    </tr>\n",
       "    <tr>\n",
       "      <th>2267</th>\n",
       "      <td>324389797</td>\n",
       "      <td>96</td>\n",
       "      <td>0</td>\n",
       "      <td>4.0</td>\n",
       "      <td>0</td>\n",
       "      <td>3206</td>\n",
       "      <td>0</td>\n",
       "      <td>0</td>\n",
       "      <td>0</td>\n",
       "      <td>0</td>\n",
       "      <td>...</td>\n",
       "      <td>1</td>\n",
       "      <td>0</td>\n",
       "      <td>0</td>\n",
       "      <td>0</td>\n",
       "      <td>0</td>\n",
       "      <td>0</td>\n",
       "      <td>0</td>\n",
       "      <td>1</td>\n",
       "      <td>0</td>\n",
       "      <td>0</td>\n",
       "    </tr>\n",
       "  </tbody>\n",
       "</table>\n",
       "<p>2 rows × 45 columns</p>\n",
       "</div>"
      ],
      "text/plain": [
       "      Application Reference ID  Application Major  Scholarship_Awarded  \\\n",
       "1221                 482457006                 93                    1   \n",
       "2267                 324389797                 96                    0   \n",
       "\n",
       "      Application CGPA  FAFSA Filed  High School Code  Financial Aid Appeal  \\\n",
       "1221               3.6            1              1906                     1   \n",
       "2267               4.0            0              3206                     0   \n",
       "\n",
       "      Accepted Student Day Event Attended  Campus Visits - Person  \\\n",
       "1221                                    1                       1   \n",
       "2267                                    0                       0   \n",
       "\n",
       "      Campus Visits - App  ...  Person Sex_F  Person Sex_M Person Sex_Unknown  \\\n",
       "1221                    0  ...             0             1                  0   \n",
       "2267                    0  ...             1             0                  0   \n",
       "\n",
       "     High School Region_Midwest  High School Region_Military  \\\n",
       "1221                          0                            0   \n",
       "2267                          0                            0   \n",
       "\n",
       "     High School Region_Northeast  High School Region_South  \\\n",
       "1221                            1                         0   \n",
       "2267                            0                         0   \n",
       "\n",
       "      High School Region_Southwest  High School Region_Territory  \\\n",
       "1221                             0                             0   \n",
       "2267                             1                             0   \n",
       "\n",
       "      High School Region_West  \n",
       "1221                        0  \n",
       "2267                        0  \n",
       "\n",
       "[2 rows x 45 columns]"
      ]
     },
     "execution_count": 53,
     "metadata": {},
     "output_type": "execute_result"
    }
   ],
   "source": [
    "adm_total[(adm_total['Address 1 Region'].isnull()) & (adm_total['admitted'] == 1)]"
   ]
  },
  {
   "cell_type": "code",
   "execution_count": 54,
   "metadata": {},
   "outputs": [],
   "source": [
    "adm_total.loc[(adm_total['Address 1 Region'].isnull()) & (adm_total['admitted'] == 1), 'Address 1 Region'] = 'CT'\n"
   ]
  },
  {
   "cell_type": "code",
   "execution_count": 55,
   "metadata": {},
   "outputs": [
    {
     "data": {
      "text/plain": [
       "0"
      ]
     },
     "execution_count": 55,
     "metadata": {},
     "output_type": "execute_result"
    }
   ],
   "source": [
    "adm_total['Address 1 Region'].isna().sum()"
   ]
  },
  {
   "cell_type": "code",
   "execution_count": 56,
   "metadata": {},
   "outputs": [],
   "source": [
    "#region mapping for the regions of the \n",
    "# Dictionary to map full state names to abbreviations\n",
    "state_mapping = {\n",
    "    \"Alaska\": \"AK\",\n",
    "    \"Alabama\": \"AL\",\n",
    "    \"Armed Forces Pacific\": \"AP\",\n",
    "    \"Arkansas\": \"AR\",\n",
    "    \"Arizona\": \"AZ\",\n",
    "    \"California\": \"CA\",\n",
    "    \"Colorado\": \"CO\",\n",
    "    \"Connecticut\": \"CT\",\n",
    "    \"District of Columbia\": \"DC\",\n",
    "    \"Delaware\": \"DE\",\n",
    "    \"Florida\": \"FL\",\n",
    "    \"Georgia\": \"GA\",\n",
    "    \"Guam\": \"GU\",\n",
    "    \"Hawaii\": \"HI\",\n",
    "    \"Iowa\": \"IA\",\n",
    "    \"Idaho\": \"ID\",\n",
    "    \"Illinois\": \"IL\",\n",
    "    \"Indiana\": \"IN\",\n",
    "    \"Kansas\": \"KS\",\n",
    "    \"Kentucky\": \"KY\",\n",
    "    \"Louisiana\": \"LA\",\n",
    "    \"Massachusetts\": \"MA\",\n",
    "    \"Maryland\": \"MD\",\n",
    "    \"Maine\": \"ME\",\n",
    "    \"Michigan\": \"MI\",\n",
    "    \"Minnesota\": \"MN\",\n",
    "    \"Missouri\": \"MO\",\n",
    "    \"Mississippi\": \"MS\",\n",
    "    \"Montana\": \"MT\",\n",
    "    \"North Carolina\": \"NC\",\n",
    "    \"Nebraska\": \"NE\",\n",
    "    \"New Hampshire\": \"NH\",\n",
    "    \"New Jersey\": \"NJ\",\n",
    "    \"New Mexico\": \"NM\",\n",
    "    \"Nevada\": \"NV\",\n",
    "    \"New York\": \"NY\",\n",
    "    \"Ohio\": \"OH\",\n",
    "    \"Oklahoma\": \"OK\",\n",
    "    \"Oregon\": \"OR\",\n",
    "    \"Pennsylvania\": \"PA\",\n",
    "    \"Puerto Rico\": \"PR\",\n",
    "    \"Rhode Island\": \"RI\",\n",
    "    \"South Carolina\": \"SC\",\n",
    "    \"South Dakota\": \"SD\",\n",
    "    \"Tennessee\": \"TN\",\n",
    "    \"Texas\": \"TX\",\n",
    "    \"Utah\": \"UT\",\n",
    "    \"Virginia\": \"VA\",\n",
    "    \"Virgin Islands\": \"VI\",\n",
    "    \"Vermont\": \"VT\",\n",
    "    \"Washington\": \"WA\",\n",
    "    \"Wisconsin\": \"WI\",\n",
    "    \"West Virginia\": \"WV\"\n",
    "}\n",
    "\n",
    "# Remove rows where 'Region' is still not a valid U.S. state abbreviation\n",
    "valid_states = set(state_mapping.values())\n",
    "\n",
    "#Drop non-U.S. rows (anything that wasn't mapped) and make sure to reset the index \n",
    "adm_total = adm_total[adm_total['Address 1 Region'].isin(valid_states)].reset_index(drop=True)\n",
    "\n",
    "\n",
    "\n",
    "#converting states to regions\n",
    "states_to_regions = {\n",
    "    # West\n",
    "    'WA': 'West', 'OR': 'West', 'CA': 'West', 'NV': 'West',\n",
    "    'ID': 'West', 'MT': 'West', 'WY': 'West', 'UT': 'West',\n",
    "    'CO': 'West', 'AK': 'West', 'HI': 'West',\n",
    "    \n",
    "    # Northeast\n",
    "    'ME': 'Northeast', 'VT': 'Northeast', 'NH': 'Northeast', \n",
    "    'MA': 'Northeast', 'RI': 'Northeast', 'CT': 'Northeast',\n",
    "    'NY': 'Northeast', 'NJ': 'Northeast', 'PA': 'Northeast',\n",
    "    \n",
    "    # Midwest\n",
    "    'ND': 'Midwest', 'SD': 'Midwest', 'NE': 'Midwest', 'KS': 'Midwest',\n",
    "    'MN': 'Midwest', 'IA': 'Midwest', 'MO': 'Midwest', 'WI': 'Midwest',\n",
    "    'IL': 'Midwest', 'MI': 'Midwest', 'IN': 'Midwest', 'OH': 'Midwest',\n",
    "    \n",
    "    # South\n",
    "    'WV': 'South', 'DC': 'South', 'MD': 'South', 'VA': 'South',\n",
    "    'KY': 'South', 'TN': 'South', 'NC': 'South', 'MS': 'South',\n",
    "    'AR': 'South', 'LA': 'South', 'AL': 'South', 'GA': 'South',\n",
    "    'SC': 'South', 'FL': 'South', 'DE': 'South',\n",
    "    \n",
    "    # Southwest\n",
    "    'AZ': 'Southwest', 'NM': 'Southwest', 'OK': 'Southwest', 'TX': 'Southwest',\n",
    "    \n",
    "    # Unclassified / Territories\n",
    "    'PR': 'Territory',  # Puerto Rico\n",
    "    'GU': 'Territory',  # Guam\n",
    "    'VI': 'Territory',  # Virgin Islands\n",
    "    'AP': 'Military',   # Armed Forces Pacific\n",
    "}\n",
    "\n",
    "adm_total['Address 1 Region']=adm_total['Address 1 Region'].map(states_to_regions)"
   ]
  },
  {
   "cell_type": "code",
   "execution_count": 57,
   "metadata": {},
   "outputs": [
    {
     "data": {
      "text/plain": [
       "Address 1 Region\n",
       "Northeast    19784\n",
       "South         1046\n",
       "West           372\n",
       "Midwest        351\n",
       "Southwest      160\n",
       "Territory      156\n",
       "Military         1\n",
       "Name: count, dtype: int64"
      ]
     },
     "execution_count": 57,
     "metadata": {},
     "output_type": "execute_result"
    }
   ],
   "source": [
    "adm_total['Address 1 Region'].value_counts()"
   ]
  },
  {
   "cell_type": "code",
   "execution_count": 58,
   "metadata": {},
   "outputs": [],
   "source": [
    "#one hot encode them \n",
    "encoder= OneHotEncoder(sparse_output=False, dtype=int)\n",
    "encoded_array = encoder.fit_transform(adm_total[['Address 1 Region']])\n",
    "encoded_df = pd.DataFrame(encoded_array, columns=encoder.get_feature_names_out(['Address 1 Region']))\n",
    "adm_total = pd.concat([adm_total, encoded_df], axis=1)"
   ]
  },
  {
   "cell_type": "code",
   "execution_count": 59,
   "metadata": {},
   "outputs": [],
   "source": [
    "adm_total.drop(columns=['Address 1 Region'],axis=1,inplace=True)"
   ]
  },
  {
   "cell_type": "code",
   "execution_count": 60,
   "metadata": {},
   "outputs": [
    {
     "name": "stdout",
     "output_type": "stream",
     "text": [
      "<class 'pandas.core.frame.DataFrame'>\n",
      "RangeIndex: 21870 entries, 0 to 21869\n",
      "Data columns (total 51 columns):\n",
      " #   Column                               Non-Null Count  Dtype         \n",
      "---  ------                               --------------  -----         \n",
      " 0   Application Reference ID             21870 non-null  int64         \n",
      " 1   Application Major                    21870 non-null  int64         \n",
      " 2   Scholarship_Awarded                  21870 non-null  int64         \n",
      " 3   Application CGPA                     21870 non-null  float64       \n",
      " 4   FAFSA Filed                          21870 non-null  int64         \n",
      " 5   High School Code                     21870 non-null  int64         \n",
      " 6   Financial Aid Appeal                 21870 non-null  int64         \n",
      " 7   Accepted Student Day Event Attended  21870 non-null  int64         \n",
      " 8   Campus Visits - Person               21870 non-null  int64         \n",
      " 9   Campus Visits - App                  21870 non-null  int64         \n",
      " 10  Logins Before Admit                  21870 non-null  int64         \n",
      " 11  Acceptance Call Success              21870 non-null  int64         \n",
      " 12  Application Consider Test Scores     21520 non-null  object        \n",
      " 13  Application ACRK                     21847 non-null  float64       \n",
      " 14  Waitlist Confirmed Date              142 non-null    datetime64[ns]\n",
      " 15  Emails Sent                          21870 non-null  int64         \n",
      " 16  Emails Opened                        21870 non-null  int64         \n",
      " 17  Was Inquiry                          21870 non-null  int64         \n",
      " 18  Athlete                              21870 non-null  int64         \n",
      " 19  admitted                             21870 non-null  int64         \n",
      " 20  Application College_00               21870 non-null  int64         \n",
      " 21  Application College_CAS              21870 non-null  int64         \n",
      " 22  Application College_COB              21870 non-null  int64         \n",
      " 23  Application College_HCLC             21870 non-null  int64         \n",
      " 24  Application College_ID               21870 non-null  int64         \n",
      " 25  Application College_SHS              21870 non-null  int64         \n",
      " 26  Application College_TCOE             21870 non-null  int64         \n",
      " 27  Application Housing_Commuter         21870 non-null  int64         \n",
      " 28  Application Housing_Residential      21870 non-null  int64         \n",
      " 29  Application Housing_nan              21870 non-null  int64         \n",
      " 30  Application Enroll Status_Full Time  21870 non-null  int64         \n",
      " 31  Application Enroll Status_Part Time  21870 non-null  int64         \n",
      " 32  Application Span                     21870 non-null  int64         \n",
      " 33  Admission Span                       21870 non-null  float64       \n",
      " 34  Person Sex_F                         21870 non-null  int64         \n",
      " 35  Person Sex_M                         21870 non-null  int64         \n",
      " 36  Person Sex_Unknown                   21870 non-null  int64         \n",
      " 37  High School Region_Midwest           21870 non-null  int64         \n",
      " 38  High School Region_Military          21870 non-null  int64         \n",
      " 39  High School Region_Northeast         21870 non-null  int64         \n",
      " 40  High School Region_South             21870 non-null  int64         \n",
      " 41  High School Region_Southwest         21870 non-null  int64         \n",
      " 42  High School Region_Territory         21870 non-null  int64         \n",
      " 43  High School Region_West              21870 non-null  int64         \n",
      " 44  Address 1 Region_Midwest             21870 non-null  int64         \n",
      " 45  Address 1 Region_Military            21870 non-null  int64         \n",
      " 46  Address 1 Region_Northeast           21870 non-null  int64         \n",
      " 47  Address 1 Region_South               21870 non-null  int64         \n",
      " 48  Address 1 Region_Southwest           21870 non-null  int64         \n",
      " 49  Address 1 Region_Territory           21870 non-null  int64         \n",
      " 50  Address 1 Region_West                21870 non-null  int64         \n",
      "dtypes: datetime64[ns](1), float64(3), int64(46), object(1)\n",
      "memory usage: 8.5+ MB\n"
     ]
    }
   ],
   "source": [
    "adm_total.info()"
   ]
  },
  {
   "cell_type": "code",
   "execution_count": 61,
   "metadata": {},
   "outputs": [
    {
     "data": {
      "text/plain": [
       "admitted\n",
       "0    18994\n",
       "1     2876\n",
       "Name: count, dtype: int64"
      ]
     },
     "execution_count": 61,
     "metadata": {},
     "output_type": "execute_result"
    }
   ],
   "source": [
    "adm_total['admitted'].value_counts()"
   ]
  },
  {
   "cell_type": "markdown",
   "metadata": {},
   "source": [
    "### Application Consider Test Scores,Application ACRK,Waitlist Confirmed Date  "
   ]
  },
  {
   "cell_type": "code",
   "execution_count": 62,
   "metadata": {},
   "outputs": [],
   "source": [
    "adm_total['Application Consider Test Scores']=adm_total['Application Consider Test Scores'].apply(lambda x: 0 if x == \"Do not consider my SAT and/or ACT results\" or pd.isna(x) else 1)\n"
   ]
  },
  {
   "cell_type": "code",
   "execution_count": 63,
   "metadata": {},
   "outputs": [],
   "source": [
    "adm_total['Waitlist Confirmed Date'] = adm_total['Waitlist Confirmed Date'].notna().astype(int)\n"
   ]
  },
  {
   "cell_type": "code",
   "execution_count": 64,
   "metadata": {},
   "outputs": [
    {
     "data": {
      "text/plain": [
       "23"
      ]
     },
     "execution_count": 64,
     "metadata": {},
     "output_type": "execute_result"
    }
   ],
   "source": [
    "adm_total['Application ACRK'].isna().sum()"
   ]
  },
  {
   "cell_type": "code",
   "execution_count": 65,
   "metadata": {},
   "outputs": [],
   "source": [
    "adm_total.drop(adm_total[(adm_total['Application ACRK'].isnull()) & (adm_total['admitted'] == 0)].index, inplace=True)\n",
    "adm_total.reset_index(drop=True, inplace=True)"
   ]
  },
  {
   "cell_type": "code",
   "execution_count": 66,
   "metadata": {},
   "outputs": [
    {
     "data": {
      "text/plain": [
       "18"
      ]
     },
     "execution_count": 66,
     "metadata": {},
     "output_type": "execute_result"
    }
   ],
   "source": [
    "adm_total['Application ACRK'].isna().sum()"
   ]
  },
  {
   "cell_type": "code",
   "execution_count": 67,
   "metadata": {},
   "outputs": [
    {
     "name": "stderr",
     "output_type": "stream",
     "text": [
      "/var/folders/7t/938pkq393dl5_v0w4yxztbpw0000gn/T/ipykernel_1609/2157344892.py:2: FutureWarning: A value is trying to be set on a copy of a DataFrame or Series through chained assignment using an inplace method.\n",
      "The behavior will change in pandas 3.0. This inplace method will never work because the intermediate object on which we are setting values always behaves as a copy.\n",
      "\n",
      "For example, when doing 'df[col].method(value, inplace=True)', try using 'df.method({col: value}, inplace=True)' or df[col] = df[col].method(value) instead, to perform the operation inplace on the original object.\n",
      "\n",
      "\n",
      "  adm_total['Application ACRK'].fillna(mean_value, inplace=True)\n"
     ]
    }
   ],
   "source": [
    "mean_value = adm_total['Application ACRK'].mean()\n",
    "adm_total['Application ACRK'].fillna(mean_value, inplace=True)\n"
   ]
  },
  {
   "cell_type": "code",
   "execution_count": 68,
   "metadata": {},
   "outputs": [
    {
     "data": {
      "text/plain": [
       "0"
      ]
     },
     "execution_count": 68,
     "metadata": {},
     "output_type": "execute_result"
    }
   ],
   "source": [
    "adm_total['Application ACRK'].isna().sum()"
   ]
  },
  {
   "cell_type": "code",
   "execution_count": 69,
   "metadata": {},
   "outputs": [
    {
     "name": "stdout",
     "output_type": "stream",
     "text": [
      "<class 'pandas.core.frame.DataFrame'>\n",
      "RangeIndex: 21865 entries, 0 to 21864\n",
      "Data columns (total 51 columns):\n",
      " #   Column                               Non-Null Count  Dtype  \n",
      "---  ------                               --------------  -----  \n",
      " 0   Application Reference ID             21865 non-null  int64  \n",
      " 1   Application Major                    21865 non-null  int64  \n",
      " 2   Scholarship_Awarded                  21865 non-null  int64  \n",
      " 3   Application CGPA                     21865 non-null  float64\n",
      " 4   FAFSA Filed                          21865 non-null  int64  \n",
      " 5   High School Code                     21865 non-null  int64  \n",
      " 6   Financial Aid Appeal                 21865 non-null  int64  \n",
      " 7   Accepted Student Day Event Attended  21865 non-null  int64  \n",
      " 8   Campus Visits - Person               21865 non-null  int64  \n",
      " 9   Campus Visits - App                  21865 non-null  int64  \n",
      " 10  Logins Before Admit                  21865 non-null  int64  \n",
      " 11  Acceptance Call Success              21865 non-null  int64  \n",
      " 12  Application Consider Test Scores     21865 non-null  int64  \n",
      " 13  Application ACRK                     21865 non-null  float64\n",
      " 14  Waitlist Confirmed Date              21865 non-null  int64  \n",
      " 15  Emails Sent                          21865 non-null  int64  \n",
      " 16  Emails Opened                        21865 non-null  int64  \n",
      " 17  Was Inquiry                          21865 non-null  int64  \n",
      " 18  Athlete                              21865 non-null  int64  \n",
      " 19  admitted                             21865 non-null  int64  \n",
      " 20  Application College_00               21865 non-null  int64  \n",
      " 21  Application College_CAS              21865 non-null  int64  \n",
      " 22  Application College_COB              21865 non-null  int64  \n",
      " 23  Application College_HCLC             21865 non-null  int64  \n",
      " 24  Application College_ID               21865 non-null  int64  \n",
      " 25  Application College_SHS              21865 non-null  int64  \n",
      " 26  Application College_TCOE             21865 non-null  int64  \n",
      " 27  Application Housing_Commuter         21865 non-null  int64  \n",
      " 28  Application Housing_Residential      21865 non-null  int64  \n",
      " 29  Application Housing_nan              21865 non-null  int64  \n",
      " 30  Application Enroll Status_Full Time  21865 non-null  int64  \n",
      " 31  Application Enroll Status_Part Time  21865 non-null  int64  \n",
      " 32  Application Span                     21865 non-null  int64  \n",
      " 33  Admission Span                       21865 non-null  float64\n",
      " 34  Person Sex_F                         21865 non-null  int64  \n",
      " 35  Person Sex_M                         21865 non-null  int64  \n",
      " 36  Person Sex_Unknown                   21865 non-null  int64  \n",
      " 37  High School Region_Midwest           21865 non-null  int64  \n",
      " 38  High School Region_Military          21865 non-null  int64  \n",
      " 39  High School Region_Northeast         21865 non-null  int64  \n",
      " 40  High School Region_South             21865 non-null  int64  \n",
      " 41  High School Region_Southwest         21865 non-null  int64  \n",
      " 42  High School Region_Territory         21865 non-null  int64  \n",
      " 43  High School Region_West              21865 non-null  int64  \n",
      " 44  Address 1 Region_Midwest             21865 non-null  int64  \n",
      " 45  Address 1 Region_Military            21865 non-null  int64  \n",
      " 46  Address 1 Region_Northeast           21865 non-null  int64  \n",
      " 47  Address 1 Region_South               21865 non-null  int64  \n",
      " 48  Address 1 Region_Southwest           21865 non-null  int64  \n",
      " 49  Address 1 Region_Territory           21865 non-null  int64  \n",
      " 50  Address 1 Region_West                21865 non-null  int64  \n",
      "dtypes: float64(3), int64(48)\n",
      "memory usage: 8.5 MB\n"
     ]
    }
   ],
   "source": [
    "adm_total.info()"
   ]
  },
  {
   "cell_type": "code",
   "execution_count": 70,
   "metadata": {},
   "outputs": [
    {
     "name": "stdout",
     "output_type": "stream",
     "text": [
      "<class 'pandas.core.frame.DataFrame'>\n",
      "RangeIndex: 21865 entries, 0 to 21864\n",
      "Data columns (total 51 columns):\n",
      " #   Column                               Non-Null Count  Dtype  \n",
      "---  ------                               --------------  -----  \n",
      " 0   Application Reference ID             21865 non-null  int64  \n",
      " 1   Application Major                    21865 non-null  int64  \n",
      " 2   Scholarship_Awarded                  21865 non-null  int64  \n",
      " 3   Application CGPA                     21865 non-null  float64\n",
      " 4   FAFSA Filed                          21865 non-null  int64  \n",
      " 5   High School Code                     21865 non-null  int64  \n",
      " 6   Financial Aid Appeal                 21865 non-null  int64  \n",
      " 7   Accepted Student Day Event Attended  21865 non-null  int64  \n",
      " 8   Campus Visits - Person               21865 non-null  int64  \n",
      " 9   Campus Visits - App                  21865 non-null  int64  \n",
      " 10  Logins Before Admit                  21865 non-null  int64  \n",
      " 11  Acceptance Call Success              21865 non-null  int64  \n",
      " 12  Application Consider Test Scores     21865 non-null  int64  \n",
      " 13  Application ACRK                     21865 non-null  float64\n",
      " 14  Waitlist Confirmed Date              21865 non-null  int64  \n",
      " 15  Emails Sent                          21865 non-null  int64  \n",
      " 16  Emails Opened                        21865 non-null  int64  \n",
      " 17  Was Inquiry                          21865 non-null  int64  \n",
      " 18  Athlete                              21865 non-null  int64  \n",
      " 19  admitted                             21865 non-null  int64  \n",
      " 20  Application College_00               21865 non-null  int64  \n",
      " 21  Application College_CAS              21865 non-null  int64  \n",
      " 22  Application College_COB              21865 non-null  int64  \n",
      " 23  Application College_HCLC             21865 non-null  int64  \n",
      " 24  Application College_ID               21865 non-null  int64  \n",
      " 25  Application College_SHS              21865 non-null  int64  \n",
      " 26  Application College_TCOE             21865 non-null  int64  \n",
      " 27  Application Housing_Commuter         21865 non-null  int64  \n",
      " 28  Application Housing_Residential      21865 non-null  int64  \n",
      " 29  Application Housing_nan              21865 non-null  int64  \n",
      " 30  Application Enroll Status_Full Time  21865 non-null  int64  \n",
      " 31  Application Enroll Status_Part Time  21865 non-null  int64  \n",
      " 32  Application Span                     21865 non-null  int64  \n",
      " 33  Admission Span                       21865 non-null  float64\n",
      " 34  Person Sex_F                         21865 non-null  int64  \n",
      " 35  Person Sex_M                         21865 non-null  int64  \n",
      " 36  Person Sex_Unknown                   21865 non-null  int64  \n",
      " 37  High School Region_Midwest           21865 non-null  int64  \n",
      " 38  High School Region_Military          21865 non-null  int64  \n",
      " 39  High School Region_Northeast         21865 non-null  int64  \n",
      " 40  High School Region_South             21865 non-null  int64  \n",
      " 41  High School Region_Southwest         21865 non-null  int64  \n",
      " 42  High School Region_Territory         21865 non-null  int64  \n",
      " 43  High School Region_West              21865 non-null  int64  \n",
      " 44  Address 1 Region_Midwest             21865 non-null  int64  \n",
      " 45  Address 1 Region_Military            21865 non-null  int64  \n",
      " 46  Address 1 Region_Northeast           21865 non-null  int64  \n",
      " 47  Address 1 Region_South               21865 non-null  int64  \n",
      " 48  Address 1 Region_Southwest           21865 non-null  int64  \n",
      " 49  Address 1 Region_Territory           21865 non-null  int64  \n",
      " 50  Address 1 Region_West                21865 non-null  int64  \n",
      "dtypes: float64(3), int64(48)\n",
      "memory usage: 8.5 MB\n"
     ]
    }
   ],
   "source": [
    "adm_total.info()"
   ]
  },
  {
   "cell_type": "code",
   "execution_count": 71,
   "metadata": {},
   "outputs": [
    {
     "data": {
      "text/plain": [
       "admitted\n",
       "0    18989\n",
       "1     2876\n",
       "Name: count, dtype: int64"
      ]
     },
     "execution_count": 71,
     "metadata": {},
     "output_type": "execute_result"
    }
   ],
   "source": [
    "adm_total['admitted'].value_counts()"
   ]
  },
  {
   "cell_type": "code",
   "execution_count": 72,
   "metadata": {},
   "outputs": [],
   "source": [
    "#normalise the data using min-max scalar \n",
    "#fields to normalise \n",
    "#1.Application CGPA\n",
    "#2.Campus Visits - Person\n",
    "#3.Campus Visits - App\n",
    "#4.Logins Before Admit\n",
    "#5.Application ACRK\n",
    "#6.Emails Sent\n",
    "#7.Emails Opened\n",
    "#8.Application Span  \n",
    "#9.Admission Span \n",
    "columns_to_normalize = [\n",
    "    'Application CGPA',\n",
    "    'Campus Visits - Person',\n",
    "    'Campus Visits - App',\n",
    "    'Logins Before Admit',\n",
    "    'Application ACRK',\n",
    "    'Emails Sent',\n",
    "    'Emails Opened',\n",
    "    'Application Span',\n",
    "    'Admission Span'\n",
    "]\n",
    "# Initialize MinMaxScaler\n",
    "scaler = MinMaxScaler(feature_range=(0, 1))\n",
    "adm_total[columns_to_normalize] = scaler.fit_transform(adm_total[columns_to_normalize])"
   ]
  },
  {
   "cell_type": "code",
   "execution_count": 73,
   "metadata": {},
   "outputs": [
    {
     "name": "stdout",
     "output_type": "stream",
     "text": [
      "<class 'pandas.core.frame.DataFrame'>\n",
      "RangeIndex: 21865 entries, 0 to 21864\n",
      "Data columns (total 51 columns):\n",
      " #   Column                               Non-Null Count  Dtype  \n",
      "---  ------                               --------------  -----  \n",
      " 0   Application Reference ID             21865 non-null  int64  \n",
      " 1   Application Major                    21865 non-null  int64  \n",
      " 2   Scholarship_Awarded                  21865 non-null  int64  \n",
      " 3   Application CGPA                     21865 non-null  float64\n",
      " 4   FAFSA Filed                          21865 non-null  int64  \n",
      " 5   High School Code                     21865 non-null  int64  \n",
      " 6   Financial Aid Appeal                 21865 non-null  int64  \n",
      " 7   Accepted Student Day Event Attended  21865 non-null  int64  \n",
      " 8   Campus Visits - Person               21865 non-null  float64\n",
      " 9   Campus Visits - App                  21865 non-null  float64\n",
      " 10  Logins Before Admit                  21865 non-null  float64\n",
      " 11  Acceptance Call Success              21865 non-null  int64  \n",
      " 12  Application Consider Test Scores     21865 non-null  int64  \n",
      " 13  Application ACRK                     21865 non-null  float64\n",
      " 14  Waitlist Confirmed Date              21865 non-null  int64  \n",
      " 15  Emails Sent                          21865 non-null  float64\n",
      " 16  Emails Opened                        21865 non-null  float64\n",
      " 17  Was Inquiry                          21865 non-null  int64  \n",
      " 18  Athlete                              21865 non-null  int64  \n",
      " 19  admitted                             21865 non-null  int64  \n",
      " 20  Application College_00               21865 non-null  int64  \n",
      " 21  Application College_CAS              21865 non-null  int64  \n",
      " 22  Application College_COB              21865 non-null  int64  \n",
      " 23  Application College_HCLC             21865 non-null  int64  \n",
      " 24  Application College_ID               21865 non-null  int64  \n",
      " 25  Application College_SHS              21865 non-null  int64  \n",
      " 26  Application College_TCOE             21865 non-null  int64  \n",
      " 27  Application Housing_Commuter         21865 non-null  int64  \n",
      " 28  Application Housing_Residential      21865 non-null  int64  \n",
      " 29  Application Housing_nan              21865 non-null  int64  \n",
      " 30  Application Enroll Status_Full Time  21865 non-null  int64  \n",
      " 31  Application Enroll Status_Part Time  21865 non-null  int64  \n",
      " 32  Application Span                     21865 non-null  float64\n",
      " 33  Admission Span                       21865 non-null  float64\n",
      " 34  Person Sex_F                         21865 non-null  int64  \n",
      " 35  Person Sex_M                         21865 non-null  int64  \n",
      " 36  Person Sex_Unknown                   21865 non-null  int64  \n",
      " 37  High School Region_Midwest           21865 non-null  int64  \n",
      " 38  High School Region_Military          21865 non-null  int64  \n",
      " 39  High School Region_Northeast         21865 non-null  int64  \n",
      " 40  High School Region_South             21865 non-null  int64  \n",
      " 41  High School Region_Southwest         21865 non-null  int64  \n",
      " 42  High School Region_Territory         21865 non-null  int64  \n",
      " 43  High School Region_West              21865 non-null  int64  \n",
      " 44  Address 1 Region_Midwest             21865 non-null  int64  \n",
      " 45  Address 1 Region_Military            21865 non-null  int64  \n",
      " 46  Address 1 Region_Northeast           21865 non-null  int64  \n",
      " 47  Address 1 Region_South               21865 non-null  int64  \n",
      " 48  Address 1 Region_Southwest           21865 non-null  int64  \n",
      " 49  Address 1 Region_Territory           21865 non-null  int64  \n",
      " 50  Address 1 Region_West                21865 non-null  int64  \n",
      "dtypes: float64(9), int64(42)\n",
      "memory usage: 8.5 MB\n"
     ]
    }
   ],
   "source": [
    "adm_total.info()"
   ]
  },
  {
   "cell_type": "code",
   "execution_count": 75,
   "metadata": {},
   "outputs": [
    {
     "data": {
      "text/plain": [
       "count    21865.000000\n",
       "mean         0.875392\n",
       "std          0.110083\n",
       "min          0.000000\n",
       "25%          0.800000\n",
       "50%          0.900000\n",
       "75%          0.975000\n",
       "max          1.000000\n",
       "Name: Application CGPA, dtype: float64"
      ]
     },
     "execution_count": 75,
     "metadata": {},
     "output_type": "execute_result"
    }
   ],
   "source": [
    "adm_total['Application CGPA'].describe()"
   ]
  },
  {
   "cell_type": "code",
   "execution_count": 74,
   "metadata": {},
   "outputs": [],
   "source": [
    "adm_total.to_excel(\"fall_processed_norm.xlsx\",index=False)"
   ]
  }
 ],
 "metadata": {
  "kernelspec": {
   "display_name": "base",
   "language": "python",
   "name": "python3"
  },
  "language_info": {
   "codemirror_mode": {
    "name": "ipython",
    "version": 3
   },
   "file_extension": ".py",
   "mimetype": "text/x-python",
   "name": "python",
   "nbconvert_exporter": "python",
   "pygments_lexer": "ipython3",
   "version": "3.12.7"
  }
 },
 "nbformat": 4,
 "nbformat_minor": 2
}
