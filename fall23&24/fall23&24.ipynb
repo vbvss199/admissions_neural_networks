{
  "nbformat": 4,
  "nbformat_minor": 0,
  "metadata": {
    "colab": {
      "provenance": [],
      "gpuType": "T4"
    },
    "kernelspec": {
      "name": "python3",
      "display_name": "Python 3"
    },
    "language_info": {
      "name": "python"
    },
    "accelerator": "GPU"
  },
  "cells": [
    {
      "cell_type": "code",
      "execution_count": 91,
      "metadata": {
        "id": "m-ThsKq99AhN"
      },
      "outputs": [],
      "source": [
        "#importing all the necessary libraries\n",
        "import torch\n",
        "import torch.nn as nn\n",
        "import torch.functional as F\n",
        "import pandas as pd\n",
        "import numpy as np\n",
        "import sys\n",
        "import matplotlib.pyplot as plt\n",
        "%matplotlib inline\n",
        "from sklearn.metrics import accuracy_score\n",
        "from sklearn.metrics import confusion_matrix\n",
        "from sklearn.metrics import precision_score\n",
        "from sklearn.metrics import f1_score\n",
        "from sklearn.metrics import matthews_corrcoef\n",
        "from sklearn.metrics import roc_auc_score\n",
        "from sklearn.model_selection import train_test_split\n",
        "from sklearn.utils.class_weight import compute_class_weight\n",
        "from torch.utils.data import DataLoader,TensorDataset, random_split, WeightedRandomSampler\n",
        "import torch.optim as optim\n",
        "from torchsummary import summary"
      ]
    },
    {
      "cell_type": "code",
      "source": [
        "data=pd.read_excel('fall_processed.xlsx')\n",
        "print(data.columns)\n",
        "print(data.shape)\n",
        "application_id=data['Application Reference ID'].to_numpy()\n",
        "\n",
        "inputs=data.drop(['admitted','Application Reference ID'],axis=1).to_numpy()\n",
        "\n",
        "labels=data['admitted'].to_numpy()\n"
      ],
      "metadata": {
        "colab": {
          "base_uri": "https://localhost:8080/"
        },
        "id": "vNOlBS-k9FCX",
        "outputId": "904c7de4-a49c-4719-c5cd-412c2300e292"
      },
      "execution_count": 99,
      "outputs": [
        {
          "output_type": "stream",
          "name": "stdout",
          "text": [
            "Index(['Application Reference ID', 'Application Major', 'Scholarship_Awarded',\n",
            "       'Application CGPA', 'FAFSA Filed', 'High School Code',\n",
            "       'Financial Aid Appeal', 'Accepted Student Day Event Attended',\n",
            "       'Campus Visits - Person', 'Campus Visits - App', 'Logins Before Admit',\n",
            "       'Acceptance Call Success', 'Application Consider Test Scores',\n",
            "       'Application ACRK', 'Waitlist Confirmed Date', 'Emails Sent',\n",
            "       'Emails Opened', 'Was Inquiry', 'Athlete', 'admitted',\n",
            "       'Application College_00', 'Application College_CAS',\n",
            "       'Application College_COB', 'Application College_HCLC',\n",
            "       'Application College_ID', 'Application College_SHS',\n",
            "       'Application College_TCOE', 'Application Housing_Commuter',\n",
            "       'Application Housing_Residential', 'Application Housing_nan',\n",
            "       'Application Enroll Status_Full Time',\n",
            "       'Application Enroll Status_Part Time', 'Application Span',\n",
            "       'Admission Span', 'Person Sex_F', 'Person Sex_M', 'Person Sex_Unknown',\n",
            "       'High School Region_Midwest', 'High School Region_Military',\n",
            "       'High School Region_Northeast', 'High School Region_South',\n",
            "       'High School Region_Southwest', 'High School Region_Territory',\n",
            "       'High School Region_West', 'Address 1 Region_Midwest',\n",
            "       'Address 1 Region_Military', 'Address 1 Region_Northeast',\n",
            "       'Address 1 Region_South', 'Address 1 Region_Southwest',\n",
            "       'Address 1 Region_Territory', 'Address 1 Region_West'],\n",
            "      dtype='object')\n",
            "(21865, 51)\n"
          ]
        }
      ]
    },
    {
      "cell_type": "code",
      "source": [
        "train_inputs, test_inputs, train_labels, test_labels = train_test_split(\n",
        "    inputs, labels, test_size=0.2, random_state=42, stratify=labels\n",
        ")\n",
        "print(inputs.shape[1])\n",
        "\n",
        "# Convert to PyTorch tensors\n",
        "train_inputs = torch.from_numpy(train_inputs).float()\n",
        "test_inputs = torch.from_numpy(test_inputs).float()\n",
        "train_labels = torch.from_numpy(train_labels).int()\n",
        "test_labels = torch.from_numpy(test_labels).int()\n",
        "\n",
        "input_embedding_dimension = int(inputs[:, 0].max()) + 1  # 112\n",
        "input_hs_embedding_dimension = int(inputs[:, 4].max()) + 1\n",
        "\n",
        "print(input_embedding_dimension, input_hs_embedding_dimension)\n",
        "print(\"Max index in categorical column 0:\", inputs[:, 0].max(), \"Embedding dim:\", input_embedding_dimension)\n",
        "print(\"Max index in categorical column 4:\", inputs[:, 4].max(), \"Embedding dim:\", input_hs_embedding_dimension)\n",
        "print(\"Max index in train categorical column 4:\", train_inputs[:, 4].max())\n",
        "print(\"Max index in test categorical column 4:\", test_inputs[:, 4].max())\n",
        "\n",
        "train_dataset = TensorDataset(train_inputs, train_labels)\n",
        "test_dataset = TensorDataset(test_inputs, test_labels)\n",
        "train_loader = DataLoader(train_dataset, batch_size=64, shuffle=True)\n",
        "test_loader = DataLoader(test_dataset, batch_size=64, shuffle=False)"
      ],
      "metadata": {
        "colab": {
          "base_uri": "https://localhost:8080/"
        },
        "id": "jmNr6xjHLvC5",
        "outputId": "b43a958b-9414-486b-ff97-155616dba27f"
      },
      "execution_count": 93,
      "outputs": [
        {
          "output_type": "stream",
          "name": "stdout",
          "text": [
            "49\n",
            "112 4002\n",
            "Max index in categorical column 0: 111.0 Embedding dim: 112\n",
            "Max index in categorical column 4: 4001.0 Embedding dim: 4002\n",
            "Max index in train categorical column 4: tensor(4000.)\n",
            "Max index in test categorical column 4: tensor(4001.)\n"
          ]
        }
      ]
    },
    {
      "cell_type": "code",
      "source": [
        "print(\"Checking train_inputs for NaN:\", torch.any(torch.isnan(train_inputs)))\n",
        "print(\"Checking train_inputs for Inf:\", torch.any(torch.isinf(train_inputs)))\n",
        "print(\"Checking train_labels for NaN:\", torch.any(torch.isnan(train_labels)))\n",
        "print(\"Checking train_labels for Inf:\", torch.any(torch.isinf(train_labels)))"
      ],
      "metadata": {
        "colab": {
          "base_uri": "https://localhost:8080/"
        },
        "id": "SmNl7M3tFZoa",
        "outputId": "23d61651-947c-4400-93b8-3637de5b7ea4"
      },
      "execution_count": 94,
      "outputs": [
        {
          "output_type": "stream",
          "name": "stdout",
          "text": [
            "Checking train_inputs for NaN: tensor(False)\n",
            "Checking train_inputs for Inf: tensor(False)\n",
            "Checking train_labels for NaN: tensor(False)\n",
            "Checking train_labels for Inf: tensor(False)\n"
          ]
        }
      ]
    },
    {
      "cell_type": "code",
      "source": [
        "import torch\n",
        "import torch.nn as nn\n",
        "import torch.nn.functional as F\n",
        "import torch.optim as optim\n",
        "from sklearn.metrics import accuracy_score, precision_score, recall_score, f1_score, roc_auc_score\n",
        "\n",
        "class NeuralNetwork(nn.Module):\n",
        "    def __init__(self, i, h_size, h_next_size, h_next_next_size=32, n_classes=2,\n",
        "                 how_many_layers=4, embedding_dim=12,hs_embedding_dim=50):\n",
        "        super(NeuralNetwork, self).__init__()\n",
        "\n",
        "        features = i.shape[1]  # Total number of input features\n",
        "\n",
        "        self.major_embedding = nn.Embedding(input_embedding_dimension, embedding_dim)\n",
        "\n",
        "        #embedding layer for the high school codes\n",
        "        self.hs_embedding=nn.Embedding(input_hs_embedding_dimension,hs_embedding_dim)\n",
        "\n",
        "        print(f\"Setting major embedding dim: {input_embedding_dimension}\")\n",
        "        print(f\"Setting HS embedding dim: {input_hs_embedding_dimension}\")\n",
        "\n",
        "        # Input to fc1 will be (features - 2) continuous + embedding_dim\n",
        "        self.fc1 = nn.Linear(features - 2 + embedding_dim + hs_embedding_dim, h_size)\n",
        "        self.layers = how_many_layers\n",
        "\n",
        "        if self.layers == 2:\n",
        "            self.fc2 = nn.Linear(h_size, n_classes)\n",
        "        elif self.layers == 3:\n",
        "            self.fc3 = nn.Linear(h_size, h_next_size)\n",
        "            self.fc4 = nn.Linear(h_next_size, n_classes)\n",
        "        elif self.layers == 4:\n",
        "            self.fc3 = nn.Linear(h_size, h_next_size)\n",
        "            self.fc4 = nn.Linear(h_next_size, h_next_next_size)\n",
        "            self.fc5 = nn.Linear(h_next_next_size, n_classes)\n",
        "\n",
        "    def forward(self, X):\n",
        "        # Ensure input is float and extract categorical/continuous features\n",
        "        categorical_input = X[:, 0].long()  # First column: categorical (encoded)\n",
        "        hs_input = X[:,4].long()\n",
        "\n",
        "        #continuous_input = X[:, 1:].float() # Rest: continuous features\n",
        "        continuous_indices = [i for i in range(X.shape[1]) if i not in [0, 4]]\n",
        "        continuous_input = X[:, continuous_indices].float()\n",
        "\n",
        "        # Apply embedding\n",
        "        embedded = self.major_embedding(categorical_input)  # Shape: [batch_size, embedding_dim]\n",
        "        hs_embedded = self.hs_embedding(hs_input)\n",
        "\n",
        "        # Concatenate with continuous features\n",
        "        X = torch.cat((embedded,hs_embedded, continuous_input), dim=1)  # Shape: [batch_size, embedding_dim + (features-1)]\n",
        "\n",
        "        if self.layers == 2:\n",
        "            X = F.relu(self.fc1(X))\n",
        "            X = self.fc2(X)\n",
        "        elif self.layers == 3:\n",
        "            X = F.relu(self.fc1(X))\n",
        "            X = F.relu(self.fc3(X))\n",
        "            X = self.fc4(X)\n",
        "        elif self.layers == 4:\n",
        "            X = F.relu(self.fc1(X))\n",
        "            X = torch.tanh(self.fc3(X))\n",
        "            X = F.sigmoid(self.fc4(X))\n",
        "            X = self.fc5(X)\n",
        "\n",
        "        return X\n",
        "\n",
        "\n",
        "net = NeuralNetwork(inputs, h_size=16, h_next_size=22, how_many_layers=4)\n",
        "print(f\"Expected input features to fc1: {train_inputs.shape[1] - 1 + 8}\")  # Debug print\n",
        "print(f\"fc1 weight shape: {net.fc1.weight.shape}\")  # Debug printn_epochs = 600\n",
        "\n",
        "\n",
        "n_epochs = 600\n",
        "learning_rate = 0.0001\n",
        "decay_rate = learning_rate / n_epochs\n",
        "optimizer = optim.Adam(net.parameters(), lr=learning_rate, weight_decay=decay_rate)\n",
        "lambda_reg = 0.01\n",
        "lambda_entropy = 0\n",
        "\n",
        "\n",
        "def loss_fn(model, outputs, targets):\n",
        "    # Convert labels to numpy\n",
        "    y_train = train_labels.numpy()\n",
        "\n",
        "    # Compute class weights\n",
        "    class_weights = compute_class_weight(class_weight=\"balanced\", classes=np.unique(y_train), y=y_train)\n",
        "\n",
        "    # Convert to PyTorch tensor\n",
        "    class_weights_tensor = torch.tensor(class_weights, dtype=torch.float32)\n",
        "\n",
        "    cross_entropy = nn.functional.cross_entropy(outputs, targets,weight=class_weights_tensor)\n",
        "    l2_regularization = 0\n",
        "    entropy_regularization = 0\n",
        "\n",
        "    for param in model.parameters():\n",
        "        l2_regularization += torch.norm(param, p=2) ** 2\n",
        "        entropy_regularization += torch.mean(torch.sum(-outputs * torch.log(outputs), dim=1))\n",
        "\n",
        "    loss = cross_entropy + lambda_reg * l2_regularization\n",
        "    return loss\n",
        "\n",
        "def test_instance(model):\n",
        "    y_t = []\n",
        "    y_s = []\n",
        "    loss = 0\n",
        "    acc = 0\n",
        "\n",
        "    with torch.no_grad():\n",
        "        for inputs, labels in test_loader:\n",
        "            outputs = model(inputs)\n",
        "            loss += loss_fn(model, outputs, labels.long())\n",
        "            y_t.extend(labels.numpy().astype('int'))\n",
        "            y_s.extend(torch.sigmoid(outputs).max(axis=1).indices.numpy())\n",
        "\n",
        "    acc = accuracy_score(y_t, y_s)\n",
        "    return loss, acc\n",
        "\n",
        "iteration = 0\n",
        "counter = 0\n",
        "\n",
        "for epoch in range(n_epochs):\n",
        "    running_loss = 0.0\n",
        "    total = 0  # No. of total predictions\n",
        "    correct = 0  # No. of correct predictions\n",
        "\n",
        "    for i, (inputs, labels) in enumerate(train_loader):\n",
        "        optimizer.zero_grad()\n",
        "        outputs = net(inputs)\n",
        "        loss = loss_fn(net, outputs, labels.long())\n",
        "        loss.backward()\n",
        "        optimizer.step()\n",
        "\n",
        "        running_loss += loss.item() * inputs.size(0)\n",
        "        _, predicted = torch.max(outputs.data, 1)\n",
        "        total += labels.size(0)\n",
        "        correct += (predicted == labels).sum().item()\n",
        "    epoch_loss = running_loss / len(train_loader.dataset)  # Loss in every epoch\n",
        "    epoch_acc = correct / total  # Accuracy for every epoch\n",
        "\n",
        "    if epoch % 10 == 0 or epoch == n_epochs - 1:\n",
        "        print(f'Epoch: {epoch + 1}/{n_epochs} | pLoss: {running_loss / len(inputs)} | Accuracy: {epoch_acc} | Loss: {epoch_loss}')\n",
        "\n",
        "    if epoch % 50 == 0:\n",
        "        test_loss, test_acc = test_instance(net)\n",
        "        print(f'Epoch: {epoch + 1} | The test data Accuracy = {test_acc} | Test Loss = {test_loss}')\n",
        "\n",
        "        if counter < test_acc:\n",
        "            save_net = net\n",
        "            counter = test_acc\n",
        "\n",
        "y_true = []\n",
        "y_scores = []\n",
        "test_loss = 0\n",
        "\n",
        "with torch.no_grad():\n",
        "    for inputs, labels in test_loader:\n",
        "        outputs = save_net(inputs)\n",
        "        test_loss += loss_fn(net, outputs, labels.long())\n",
        "        y_true.extend(labels.numpy().astype('int'))\n",
        "        y_scores.extend(torch.sigmoid(outputs).max(axis=1).indices.numpy())\n",
        "\n",
        "\n",
        "accuracy = accuracy_score(y_true, y_scores)\n",
        "precision = precision_score(y_true, y_scores)\n",
        "recall = recall_score(y_true, y_scores)\n",
        "f1_val = f1_score(y_true, y_scores)\n",
        "auc_roc = roc_auc_score(y_true, y_scores)\n",
        "\n",
        "print('Accuracy: {:.4f}'.format(accuracy))\n",
        "print('Precision: {:.4f}'.format(precision))\n",
        "print('Recall: {:.4f}'.format(recall))\n",
        "print('F1 Score: {:.4f}'.format(f1_val))\n",
        "print('AUROC Score: {:.4f}'.format(auc_roc))\n"
      ],
      "metadata": {
        "colab": {
          "base_uri": "https://localhost:8080/"
        },
        "id": "liurcN439GrQ",
        "outputId": "60062d73-048a-4370-d2da-c7acb950cf39"
      },
      "execution_count": 95,
      "outputs": [
        {
          "output_type": "stream",
          "name": "stdout",
          "text": [
            "Setting major embedding dim: 112\n",
            "Setting HS embedding dim: 4002\n",
            "Expected input features to fc1: 56\n",
            "fc1 weight shape: torch.Size([16, 109])\n",
            "Epoch: 1/600 | pLoss: 1721263.429272461 | Accuracy: 0.6611022181568718 | Loss: 1968.057888488979\n",
            "Epoch: 1 | The test data Accuracy = 0.8966384632975074 | Test Loss = 132833.578125\n",
            "Epoch: 11/600 | pLoss: 1112949.271484375 | Accuracy: 0.9454607820718043 | Loss: 1272.5237496962898\n",
            "Epoch: 21/600 | pLoss: 702888.0722778321 | Accuracy: 0.9493482734964556 | Loss: 803.6680451381569\n",
            "Epoch: 31/600 | pLoss: 426717.25603027345 | Accuracy: 0.9497484564372285 | Loss: 487.89990399070825\n",
            "Epoch: 41/600 | pLoss: 247877.8544494629 | Accuracy: 0.9493482734964556 | Loss: 283.41853927448307\n",
            "Epoch: 51/600 | pLoss: 137436.01738891602 | Accuracy: 0.9524925680310999 | Loss: 157.14157030518638\n",
            "Epoch: 51 | The test data Accuracy = 0.9419163045963869 | Test Loss = 10510.86328125\n",
            "Epoch: 61/600 | pLoss: 72545.58692626953 | Accuracy: 0.9512920192087811 | Loss: 82.94716090357824\n",
            "Epoch: 71/600 | pLoss: 36394.64468231201 | Accuracy: 0.9508346672764693 | Loss: 41.61290267815231\n",
            "Epoch: 81/600 | pLoss: 17356.062772750854 | Accuracy: 0.9514635261833981 | Loss: 19.8445721161112\n",
            "Epoch: 91/600 | pLoss: 7898.973091125488 | Accuracy: 0.9526640750057169 | Loss: 9.031526516265137\n",
            "Epoch: 101/600 | pLoss: 3458.366047048569 | Accuracy: 0.9525497370226389 | Loss: 3.9542259856489466\n",
            "Epoch: 101 | The test data Accuracy = 0.9501486393780014 | Test Loss = 261.12835693359375\n",
            "Epoch: 111/600 | pLoss: 1496.5955276489258 | Accuracy: 0.9527212439972559 | Loss: 1.7111771411490118\n",
            "Epoch: 121/600 | pLoss: 682.3507100701332 | Accuracy: 0.952206723073405 | Loss: 0.7801860394124551\n",
            "Epoch: 131/600 | pLoss: 365.73388543128965 | Accuracy: 0.9533501029041848 | Loss: 0.41817274803486126\n",
            "Epoch: 141/600 | pLoss: 251.8370089650154 | Accuracy: 0.9530070889549508 | Loss: 0.28794535669450655\n",
            "Epoch: 151/600 | pLoss: 213.7067075610161 | Accuracy: 0.9535787788703407 | Loss: 0.24434793912761957\n",
            "Epoch: 151 | The test data Accuracy = 0.952435399039561 | Test Loss = 16.440847396850586\n",
            "Epoch: 161/600 | pLoss: 204.80817014873028 | Accuracy: 0.9533501029041848 | Loss: 0.23417353092697266\n",
            "Epoch: 171/600 | pLoss: 202.2095980644226 | Accuracy: 0.9543791447518866 | Loss: 0.23120237601694787\n",
            "Epoch: 181/600 | pLoss: 200.62257582843304 | Accuracy: 0.9539217928195747 | Loss: 0.22938780680131837\n",
            "Epoch: 191/600 | pLoss: 201.30379116535187 | Accuracy: 0.9530070889549508 | Loss: 0.2301666946779692\n",
            "Epoch: 201/600 | pLoss: 200.63756133317946 | Accuracy: 0.9529499199634118 | Loss: 0.2294049409251995\n",
            "Epoch: 201 | The test data Accuracy = 0.9558655385319003 | Test Loss = 15.51000690460205\n",
            "Epoch: 211/600 | pLoss: 200.68268443346022 | Accuracy: 0.9538074548364966 | Loss: 0.22945653376796277\n",
            "Epoch: 221/600 | pLoss: 200.8306858599186 | Accuracy: 0.9536359478618797 | Loss: 0.2296257556139019\n",
            "Epoch: 231/600 | pLoss: 200.16872582435607 | Accuracy: 0.9541504687857306 | Loss: 0.22886888386045745\n",
            "Epoch: 241/600 | pLoss: 201.47654750347138 | Accuracy: 0.9536359478618797 | Loss: 0.23036422079061442\n",
            "Epoch: 251/600 | pLoss: 200.04557890295982 | Accuracy: 0.9537502858449577 | Loss: 0.22872808015431034\n",
            "Epoch: 251 | The test data Accuracy = 0.9535787788703407 | Test Loss = 15.466302871704102\n",
            "Epoch: 261/600 | pLoss: 202.2628419458866 | Accuracy: 0.9527784129887948 | Loss: 0.23126325399712624\n",
            "Epoch: 271/600 | pLoss: 200.79564712047576 | Accuracy: 0.9534072718957237 | Loss: 0.22958569302592702\n",
            "Epoch: 281/600 | pLoss: 200.26588133573532 | Accuracy: 0.9544363137434255 | Loss: 0.22897996951261756\n",
            "Epoch: 291/600 | pLoss: 200.8674520075321 | Accuracy: 0.9544934827349646 | Loss: 0.22966779328553866\n",
            "Epoch: 301/600 | pLoss: 200.7158197939396 | Accuracy: 0.9545506517265036 | Loss: 0.22949442007082047\n",
            "Epoch: 301 | The test data Accuracy = 0.9483192316487538 | Test Loss = 15.540863037109375\n",
            "Epoch: 311/600 | pLoss: 200.4419129014015 | Accuracy: 0.9531785959295678 | Loss: 0.22918124045438087\n",
            "Epoch: 321/600 | pLoss: 200.82469490766525 | Accuracy: 0.9547221587011205 | Loss: 0.22961890567992826\n",
            "Epoch: 331/600 | pLoss: 200.4910487383604 | Accuracy: 0.9548936656757375 | Loss: 0.22923742137932815\n",
            "Epoch: 341/600 | pLoss: 200.79723187685013 | Accuracy: 0.9540361308026526 | Loss: 0.22958750500440217\n",
            "Epoch: 351/600 | pLoss: 200.5284060359001 | Accuracy: 0.9536931168534187 | Loss: 0.2292801349598675\n",
            "Epoch: 351 | The test data Accuracy = 0.9533501029041848 | Test Loss = 15.429872512817383\n",
            "Epoch: 361/600 | pLoss: 200.98858771622182 | Accuracy: 0.9534644408872628 | Loss: 0.22980629741164169\n",
            "Epoch: 371/600 | pLoss: 200.68652299642562 | Accuracy: 0.9545506517265036 | Loss: 0.22946092270343657\n",
            "Epoch: 381/600 | pLoss: 200.99765827059747 | Accuracy: 0.9534072718957237 | Loss: 0.22981666850056878\n",
            "Epoch: 391/600 | pLoss: 200.69445052742958 | Accuracy: 0.9537502858449577 | Loss: 0.22946998688249437\n",
            "Epoch: 401/600 | pLoss: 200.44179452359677 | Accuracy: 0.9540361308026526 | Loss: 0.22918110510358652\n",
            "Epoch: 401 | The test data Accuracy = 0.9563228904642123 | Test Loss = 15.426581382751465\n",
            "Epoch: 411/600 | pLoss: 200.58860635757446 | Accuracy: 0.9527784129887948 | Loss: 0.2293489667934764\n",
            "Epoch: 421/600 | pLoss: 201.06314998865128 | Accuracy: 0.9541504687857306 | Loss: 0.22989155041007464\n",
            "Epoch: 431/600 | pLoss: 200.8379940479994 | Accuracy: 0.9535787788703407 | Loss: 0.229634111648753\n",
            "Epoch: 441/600 | pLoss: 200.46825448572636 | Accuracy: 0.9542076377772696 | Loss: 0.22921135889060867\n",
            "Epoch: 451/600 | pLoss: 200.6304817020893 | Accuracy: 0.9539217928195747 | Loss: 0.22939684621780163\n",
            "Epoch: 451 | The test data Accuracy = 0.9510633432426252 | Test Loss = 15.472840309143066\n",
            "Epoch: 461/600 | pLoss: 200.67907834649085 | Accuracy: 0.9546649897095815 | Loss: 0.22945241064085395\n",
            "Epoch: 471/600 | pLoss: 200.26680034995078 | Accuracy: 0.9548364966841985 | Loss: 0.22898102029493572\n",
            "Epoch: 481/600 | pLoss: 200.13185760974883 | Accuracy: 0.9546649897095815 | Loss: 0.22882672948747868\n",
            "Epoch: 491/600 | pLoss: 200.43847862780095 | Accuracy: 0.9547221587011205 | Loss: 0.2291773137752126\n",
            "Epoch: 501/600 | pLoss: 200.69263587892056 | Accuracy: 0.9541504687857306 | Loss: 0.2294679120499892\n",
            "Epoch: 501 | The test data Accuracy = 0.9538074548364966 | Test Loss = 15.423236846923828\n",
            "Epoch: 511/600 | pLoss: 200.27123140692711 | Accuracy: 0.9546078207180425 | Loss: 0.22898608667611148\n",
            "Epoch: 521/600 | pLoss: 201.03887219130993 | Accuracy: 0.9547221587011205 | Loss: 0.22986379166625878\n",
            "Epoch: 531/600 | pLoss: 200.41080026626588 | Accuracy: 0.9537502858449577 | Loss: 0.22914566689488436\n",
            "Epoch: 541/600 | pLoss: 200.69286087751388 | Accuracy: 0.9542076377772696 | Loss: 0.22946816930884276\n",
            "Epoch: 551/600 | pLoss: 200.71286336779593 | Accuracy: 0.9540361308026526 | Loss: 0.22949103975279664\n",
            "Epoch: 551 | The test data Accuracy = 0.9494626114795335 | Test Loss = 15.50818920135498\n",
            "Epoch: 561/600 | pLoss: 200.51990384161473 | Accuracy: 0.9536359478618797 | Loss: 0.2292704137224042\n",
            "Epoch: 571/600 | pLoss: 200.39340600669385 | Accuracy: 0.9555796935742054 | Loss: 0.22912577864931835\n",
            "Epoch: 581/600 | pLoss: 200.13664011359214 | Accuracy: 0.9546078207180425 | Loss: 0.22883219770591373\n",
            "Epoch: 591/600 | pLoss: 200.32849690318108 | Accuracy: 0.9547793276926595 | Loss: 0.22905156288952788\n",
            "Epoch: 600/600 | pLoss: 201.00482030808925 | Accuracy: 0.9545506517265036 | Loss: 0.2298248574297842\n",
            "Accuracy: 0.9490\n",
            "Precision: 0.7292\n",
            "Recall: 0.9739\n",
            "F1 Score: 0.8340\n",
            "AUROC Score: 0.9596\n"
          ]
        }
      ]
    },
    {
      "cell_type": "code",
      "source": [
        "import matplotlib.pyplot as plt\n",
        "import seaborn as sns\n",
        "from sklearn.metrics import confusion_matrix\n",
        "\n",
        "# Compute Confusion Matrix\n",
        "cm = confusion_matrix(y_true, y_scores)\n",
        "\n",
        "# Print the matrix\n",
        "print(\"Confusion Matrix:\\n\", cm)\n",
        "\n",
        "# Plot the Confusion Matrix\n",
        "plt.figure(figsize=(6, 5))\n",
        "sns.heatmap(cm, annot=True, fmt=\"d\", cmap=\"Blues\", xticklabels=['Negative', 'Positive'], yticklabels=['Negative', 'Positive'])\n",
        "plt.xlabel(\"Predicted Label\")\n",
        "plt.ylabel(\"True Label\")\n",
        "plt.title(\"Confusion Matrix\")\n",
        "plt.show()\n",
        "\n",
        "from sklearn.metrics import confusion_matrix\n",
        "\n",
        "# Compute Confusion Matrix\n",
        "cm = confusion_matrix(y_true, y_scores)\n",
        "\n",
        "# Extract TP, TN, FP, FN\n",
        "TN = cm[0, 0]  # True Negative\n",
        "FP = cm[0, 1]  # False Positive\n",
        "FN = cm[1, 0]  # False Negative\n",
        "TP = cm[1, 1]  # True Positive\n",
        "\n",
        "print(f\"True Positives (TP): {TP}\")\n",
        "print(f\"False Positives (FP): {FP}\")\n",
        "print(f\"True Negatives (TN): {TN}\")\n",
        "print(f\"False Negatives (FN): {FN}\")\n"
      ],
      "metadata": {
        "colab": {
          "base_uri": "https://localhost:8080/",
          "height": 612
        },
        "id": "IaMWyP9x9I2R",
        "outputId": "5ec7d958-a421-4df5-e84a-b807be35a105"
      },
      "execution_count": 96,
      "outputs": [
        {
          "output_type": "stream",
          "name": "stdout",
          "text": [
            "Confusion Matrix:\n",
            " [[3590  208]\n",
            " [  15  560]]\n"
          ]
        },
        {
          "output_type": "display_data",
          "data": {
            "text/plain": [
              "<Figure size 600x500 with 2 Axes>"
            ],
            "image/png": "[encoded data removed]"
          },
          "metadata": {}
        },
        {
          "output_type": "stream",
          "name": "stdout",
          "text": [
            "True Positives (TP): 560\n",
            "False Positives (FP): 208\n",
            "True Negatives (TN): 3590\n",
            "False Negatives (FN): 15\n"
          ]
        }
      ]
    },
    {
      "cell_type": "code",
      "source": [
        "# Save the entire model (architecture + weights)\n",
        "torch.save(save_net, \"/content/fall.pth\")\n",
        "print(\"Model saved successfully!\")\n"
      ],
      "metadata": {
        "colab": {
          "base_uri": "https://localhost:8080/"
        },
        "id": "eMbrAZbP9Xgk",
        "outputId": "3721b696-1872-4c74-e977-bd9ddcfe2997"
      },
      "execution_count": 97,
      "outputs": [
        {
          "output_type": "stream",
          "name": "stdout",
          "text": [
            "Model saved successfully!\n"
          ]
        }
      ]
    },
    {
      "cell_type": "code",
      "source": [],
      "metadata": {
        "id": "lj1A4EVrUYP_"
      },
      "execution_count": null,
      "outputs": []
    }
  ]
}